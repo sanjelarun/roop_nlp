{
  "cells": [
    {
      "cell_type": "code",
      "execution_count": null,
      "metadata": {
        "id": "rVkU2m4GIxof",
        "colab": {
          "base_uri": "https://localhost:8080/"
        },
        "outputId": "b2bb632d-6dc5-4f24-e173-e0b32fd919f2"
      },
      "outputs": [
        {
          "output_type": "stream",
          "name": "stdout",
          "text": [
            "Collecting transformers\n",
            "  Downloading transformers-4.31.0-py3-none-any.whl (7.4 MB)\n",
            "\u001b[2K     \u001b[90m━━━━━━━━━━━━━━━━━━━━━━━━━━━━━━━━━━━━━━━━\u001b[0m \u001b[32m7.4/7.4 MB\u001b[0m \u001b[31m16.8 MB/s\u001b[0m eta \u001b[36m0:00:00\u001b[0m\n",
            "\u001b[?25hRequirement already satisfied: filelock in /usr/local/lib/python3.10/dist-packages (from transformers) (3.12.2)\n",
            "Collecting huggingface-hub<1.0,>=0.14.1 (from transformers)\n",
            "  Downloading huggingface_hub-0.16.4-py3-none-any.whl (268 kB)\n",
            "\u001b[2K     \u001b[90m━━━━━━━━━━━━━━━━━━━━━━━━━━━━━━━━━━━━━━\u001b[0m \u001b[32m268.8/268.8 kB\u001b[0m \u001b[31m28.0 MB/s\u001b[0m eta \u001b[36m0:00:00\u001b[0m\n",
            "\u001b[?25hRequirement already satisfied: numpy>=1.17 in /usr/local/lib/python3.10/dist-packages (from transformers) (1.23.5)\n",
            "Requirement already satisfied: packaging>=20.0 in /usr/local/lib/python3.10/dist-packages (from transformers) (23.1)\n",
            "Requirement already satisfied: pyyaml>=5.1 in /usr/local/lib/python3.10/dist-packages (from transformers) (6.0.1)\n",
            "Requirement already satisfied: regex!=2019.12.17 in /usr/local/lib/python3.10/dist-packages (from transformers) (2023.6.3)\n",
            "Requirement already satisfied: requests in /usr/local/lib/python3.10/dist-packages (from transformers) (2.31.0)\n",
            "Collecting tokenizers!=0.11.3,<0.14,>=0.11.1 (from transformers)\n",
            "  Downloading tokenizers-0.13.3-cp310-cp310-manylinux_2_17_x86_64.manylinux2014_x86_64.whl (7.8 MB)\n",
            "\u001b[2K     \u001b[90m━━━━━━━━━━━━━━━━━━━━━━━━━━━━━━━━━━━━━━━━\u001b[0m \u001b[32m7.8/7.8 MB\u001b[0m \u001b[31m41.8 MB/s\u001b[0m eta \u001b[36m0:00:00\u001b[0m\n",
            "\u001b[?25hCollecting safetensors>=0.3.1 (from transformers)\n",
            "  Downloading safetensors-0.3.2-cp310-cp310-manylinux_2_17_x86_64.manylinux2014_x86_64.whl (1.3 MB)\n",
            "\u001b[2K     \u001b[90m━━━━━━━━━━━━━━━━━━━━━━━━━━━━━━━━━━━━━━━━\u001b[0m \u001b[32m1.3/1.3 MB\u001b[0m \u001b[31m47.5 MB/s\u001b[0m eta \u001b[36m0:00:00\u001b[0m\n",
            "\u001b[?25hRequirement already satisfied: tqdm>=4.27 in /usr/local/lib/python3.10/dist-packages (from transformers) (4.66.1)\n",
            "Requirement already satisfied: fsspec in /usr/local/lib/python3.10/dist-packages (from huggingface-hub<1.0,>=0.14.1->transformers) (2023.6.0)\n",
            "Requirement already satisfied: typing-extensions>=3.7.4.3 in /usr/local/lib/python3.10/dist-packages (from huggingface-hub<1.0,>=0.14.1->transformers) (4.7.1)\n",
            "Requirement already satisfied: charset-normalizer<4,>=2 in /usr/local/lib/python3.10/dist-packages (from requests->transformers) (3.2.0)\n",
            "Requirement already satisfied: idna<4,>=2.5 in /usr/local/lib/python3.10/dist-packages (from requests->transformers) (3.4)\n",
            "Requirement already satisfied: urllib3<3,>=1.21.1 in /usr/local/lib/python3.10/dist-packages (from requests->transformers) (2.0.4)\n",
            "Requirement already satisfied: certifi>=2017.4.17 in /usr/local/lib/python3.10/dist-packages (from requests->transformers) (2023.7.22)\n",
            "Installing collected packages: tokenizers, safetensors, huggingface-hub, transformers\n",
            "Successfully installed huggingface-hub-0.16.4 safetensors-0.3.2 tokenizers-0.13.3 transformers-4.31.0\n",
            "Mounted at /content/drive/\n"
          ]
        }
      ],
      "source": [
        "! pip install transformers\n",
        "# ! pip install tensorflow==2.13.0\n",
        "\n",
        "from google.colab import drive\n",
        "drive.mount('/content/drive/')"
      ]
    },
    {
      "cell_type": "code",
      "source": [
        "! ls /content/drive/MyDrive/Bikram/\n"
      ],
      "metadata": {
        "colab": {
          "base_uri": "https://localhost:8080/"
        },
        "id": "aQH6BH_ZckJK",
        "outputId": "3803f979-165b-4322-d2b3-e3b42bff3116"
      },
      "execution_count": null,
      "outputs": [
        {
          "output_type": "stream",
          "name": "stdout",
          "text": [
            "acc_figures_14_07.pdf\t\t  latest_class_10000.csv\n",
            "acc_figures.pdf\t\t\t  latest_class.csv\n",
            "acc_loss_figures_10000_14_07.pdf  model_100000_07_14.h5\n",
            "acc_loss_figures_14_07.pdf\t  model_10000_07_14.h5\n",
            "data-gen-3.py\t\t\t  model_10000_111.h5\n",
            "dataset.csv\t\t\t  new_test.csv\n",
            "khanal_model.h5\t\t\t  test_data.csv\n",
            "latest_class_100000.csv\n"
          ]
        }
      ]
    },
    {
      "cell_type": "code",
      "execution_count": null,
      "metadata": {
        "id": "Qut6cgofIxog"
      },
      "outputs": [],
      "source": [
        "import torch\n",
        "from transformers import BertTokenizer, BertForSequenceClassification, DistilBertForSequenceClassification, DistilBertTokenizer\n",
        "from sklearn.model_selection import train_test_split\n",
        "from torch.utils.data import Dataset, DataLoader\n",
        "import itertools\n",
        "from tensorflow.nn import softmax\n",
        "import re\n",
        "from sklearn.preprocessing import LabelEncoder\n",
        "import os\n",
        "import pandas as pd\n",
        "import ast\n",
        "from sklearn.preprocessing import MultiLabelBinarizer\n",
        "from sklearn.model_selection import train_test_split\n",
        "from tensorflow.keras.preprocessing.sequence import pad_sequences\n",
        "from transformers import BertTokenizer, TFBertForSequenceClassification\n",
        "import tensorflow as tf\n",
        "import numpy as np\n",
        "from tensorflow.keras.utils import to_categorical\n",
        "from sklearn.metrics import balanced_accuracy_score,classification_report,f1_score,accuracy_score\n",
        "import matplotlib.pyplot as plt\n",
        "import seaborn as sns\n",
        "from google.colab import files\n",
        "np.random.seed(42)\n",
        "\n",
        "\n",
        "# Dynamically allocate GPU memory\n",
        "physical_devices = tf.config.list_physical_devices('GPU')\n",
        "if physical_devices:\n",
        "    tf.config.experimental.set_memory_growth(physical_devices[0], True)\n",
        "\n",
        "# Set the TF_GPU_ALLOCATOR environment variable\n",
        "os.environ['TF_GPU_ALLOCATOR'] = 'cuda_malloc_async'\n",
        "\n"
      ]
    },
    {
      "cell_type": "code",
      "execution_count": null,
      "metadata": {
        "colab": {
          "base_uri": "https://localhost:8080/"
        },
        "id": "L9u0VDOjIxog",
        "outputId": "12af18ea-f6a7-4a9e-85f9-642dabf98ae3"
      },
      "outputs": [
        {
          "output_type": "execute_result",
          "data": {
            "text/plain": [
              "([PhysicalDevice(name='/physical_device:GPU:0', device_type='GPU')], '2.12.0')"
            ]
          },
          "metadata": {},
          "execution_count": 11
        }
      ],
      "source": [
        "physical_devices,tf.__version__"
      ]
    },
    {
      "cell_type": "code",
      "execution_count": null,
      "metadata": {
        "id": "Wvr5WWLqIxoh"
      },
      "outputs": [],
      "source": [
        "# dataset_url = \"../data_generator/initial_dataset_additonal_api_balanced_normal.csv\"\n",
        "# dataset_url = \"dataset.csv\"\n",
        "# dataset_url = \"/content/drive/MyDrive/Bikram/test_data.csv\"\n",
        "dataset_url_10000 = \"/content/drive/MyDrive/Bikram/latest_class_10000.csv\"\n",
        "dataset_url_100000 = \"/content/drive/MyDrive/Bikram/latest_class_100000.csv\"\n",
        "model_url = \"/content/drive/MyDrive/Bikram/model_10000_07_14.h5\""
      ]
    },
    {
      "cell_type": "code",
      "source": [
        "data = []\n",
        "with open(dataset_url_10000, 'r') as csvfile:\n",
        "    for line in csvfile:\n",
        "        if len(line) > 5:\n",
        "            a, b = line.split('\",', 1)\n",
        "            a, b = a[2:], b[2:-2]\n",
        "            bs = re.findall(r\"'(.*?)'\", b, re.DOTALL)\n",
        "            bs = \", \".join(bs)\n",
        "            data.append([a,bs])\n",
        "# data = data[:10000]\n",
        "len(data)\n",
        "# data = data[:100000]"
      ],
      "metadata": {
        "colab": {
          "base_uri": "https://localhost:8080/"
        },
        "id": "0JNsg2jpl2uv",
        "outputId": "81e174eb-a62b-4a70-f853-b4e475cb0a63"
      },
      "execution_count": null,
      "outputs": [
        {
          "output_type": "execute_result",
          "data": {
            "text/plain": [
              "10000"
            ]
          },
          "metadata": {},
          "execution_count": 13
        }
      ]
    },
    {
      "cell_type": "code",
      "source": [
        "# Separate code from actions\n",
        "code = [item[0] for item in data]\n",
        "actions = [item[1] for item in data]"
      ],
      "metadata": {
        "id": "AYHk11ku5JYj"
      },
      "execution_count": null,
      "outputs": []
    },
    {
      "cell_type": "code",
      "source": [
        "# Create a DataFrame from the deserialized data\n",
        "df = pd.DataFrame(list(zip(code, actions)), columns=['code', 'actions'])\n",
        "df.head(10)"
      ],
      "metadata": {
        "colab": {
          "base_uri": "https://localhost:8080/",
          "height": 363
        },
        "id": "68My6CqC5NSg",
        "outputId": "fd659773-5518-4825-a08e-d13e5fa8b473"
      },
      "execution_count": null,
      "outputs": [
        {
          "output_type": "execute_result",
          "data": {
            "text/plain": [
              "                                                code             actions\n",
              "0  \"for iodine in range(len(data0)):\\n\\tdata[iodi...               map()\n",
              "1  \"for element in list0:\\n\\tresults.append(eleme...               map()\n",
              "2  \"result = []\\nfor num24 in numbers:\\n\\tresult....               map()\n",
              "3  \"result = ''\\nfor str in strings:\\n\\tresult +=...     map(), reduce()\n",
              "4  \"result = []\\nfor num9 in numbers:\\n\\tif num9 ...     map(), filter()\n",
              "5  \"result = []\\nfor num8 in numbers:\\n\\tif num8 ...     map(), filter()\n",
              "6  \"result = []\\nfor product10 in products:\\n\\tif...            filter()\n",
              "7  \"for element4 in array:\\n\\tif element4 % 3 == ...            filter()\n",
              "8  \"medium = []\\nfor score23 in scores:\\n\\tif sco...  filter(), reduce()\n",
              "9  \"result = 0\\nfor item23 in items:\\n\\tresult = ...            reduce()"
            ],
            "text/html": [
              "\n",
              "\n",
              "  <div id=\"df-35581b6c-24f5-4479-9cd8-ece903daf79b\">\n",
              "    <div class=\"colab-df-container\">\n",
              "      <div>\n",
              "<style scoped>\n",
              "    .dataframe tbody tr th:only-of-type {\n",
              "        vertical-align: middle;\n",
              "    }\n",
              "\n",
              "    .dataframe tbody tr th {\n",
              "        vertical-align: top;\n",
              "    }\n",
              "\n",
              "    .dataframe thead th {\n",
              "        text-align: right;\n",
              "    }\n",
              "</style>\n",
              "<table border=\"1\" class=\"dataframe\">\n",
              "  <thead>\n",
              "    <tr style=\"text-align: right;\">\n",
              "      <th></th>\n",
              "      <th>code</th>\n",
              "      <th>actions</th>\n",
              "    </tr>\n",
              "  </thead>\n",
              "  <tbody>\n",
              "    <tr>\n",
              "      <th>0</th>\n",
              "      <td>\"for iodine in range(len(data0)):\\n\\tdata[iodi...</td>\n",
              "      <td>map()</td>\n",
              "    </tr>\n",
              "    <tr>\n",
              "      <th>1</th>\n",
              "      <td>\"for element in list0:\\n\\tresults.append(eleme...</td>\n",
              "      <td>map()</td>\n",
              "    </tr>\n",
              "    <tr>\n",
              "      <th>2</th>\n",
              "      <td>\"result = []\\nfor num24 in numbers:\\n\\tresult....</td>\n",
              "      <td>map()</td>\n",
              "    </tr>\n",
              "    <tr>\n",
              "      <th>3</th>\n",
              "      <td>\"result = ''\\nfor str in strings:\\n\\tresult +=...</td>\n",
              "      <td>map(), reduce()</td>\n",
              "    </tr>\n",
              "    <tr>\n",
              "      <th>4</th>\n",
              "      <td>\"result = []\\nfor num9 in numbers:\\n\\tif num9 ...</td>\n",
              "      <td>map(), filter()</td>\n",
              "    </tr>\n",
              "    <tr>\n",
              "      <th>5</th>\n",
              "      <td>\"result = []\\nfor num8 in numbers:\\n\\tif num8 ...</td>\n",
              "      <td>map(), filter()</td>\n",
              "    </tr>\n",
              "    <tr>\n",
              "      <th>6</th>\n",
              "      <td>\"result = []\\nfor product10 in products:\\n\\tif...</td>\n",
              "      <td>filter()</td>\n",
              "    </tr>\n",
              "    <tr>\n",
              "      <th>7</th>\n",
              "      <td>\"for element4 in array:\\n\\tif element4 % 3 == ...</td>\n",
              "      <td>filter()</td>\n",
              "    </tr>\n",
              "    <tr>\n",
              "      <th>8</th>\n",
              "      <td>\"medium = []\\nfor score23 in scores:\\n\\tif sco...</td>\n",
              "      <td>filter(), reduce()</td>\n",
              "    </tr>\n",
              "    <tr>\n",
              "      <th>9</th>\n",
              "      <td>\"result = 0\\nfor item23 in items:\\n\\tresult = ...</td>\n",
              "      <td>reduce()</td>\n",
              "    </tr>\n",
              "  </tbody>\n",
              "</table>\n",
              "</div>\n",
              "      <button class=\"colab-df-convert\" onclick=\"convertToInteractive('df-35581b6c-24f5-4479-9cd8-ece903daf79b')\"\n",
              "              title=\"Convert this dataframe to an interactive table.\"\n",
              "              style=\"display:none;\">\n",
              "\n",
              "  <svg xmlns=\"http://www.w3.org/2000/svg\" height=\"24px\"viewBox=\"0 0 24 24\"\n",
              "       width=\"24px\">\n",
              "    <path d=\"M0 0h24v24H0V0z\" fill=\"none\"/>\n",
              "    <path d=\"M18.56 5.44l.94 2.06.94-2.06 2.06-.94-2.06-.94-.94-2.06-.94 2.06-2.06.94zm-11 1L8.5 8.5l.94-2.06 2.06-.94-2.06-.94L8.5 2.5l-.94 2.06-2.06.94zm10 10l.94 2.06.94-2.06 2.06-.94-2.06-.94-.94-2.06-.94 2.06-2.06.94z\"/><path d=\"M17.41 7.96l-1.37-1.37c-.4-.4-.92-.59-1.43-.59-.52 0-1.04.2-1.43.59L10.3 9.45l-7.72 7.72c-.78.78-.78 2.05 0 2.83L4 21.41c.39.39.9.59 1.41.59.51 0 1.02-.2 1.41-.59l7.78-7.78 2.81-2.81c.8-.78.8-2.07 0-2.86zM5.41 20L4 18.59l7.72-7.72 1.47 1.35L5.41 20z\"/>\n",
              "  </svg>\n",
              "      </button>\n",
              "\n",
              "\n",
              "\n",
              "    <div id=\"df-381fd025-2bab-49da-8348-3356cc642759\">\n",
              "      <button class=\"colab-df-quickchart\" onclick=\"quickchart('df-381fd025-2bab-49da-8348-3356cc642759')\"\n",
              "              title=\"Suggest charts.\"\n",
              "              style=\"display:none;\">\n",
              "\n",
              "<svg xmlns=\"http://www.w3.org/2000/svg\" height=\"24px\"viewBox=\"0 0 24 24\"\n",
              "     width=\"24px\">\n",
              "    <g>\n",
              "        <path d=\"M19 3H5c-1.1 0-2 .9-2 2v14c0 1.1.9 2 2 2h14c1.1 0 2-.9 2-2V5c0-1.1-.9-2-2-2zM9 17H7v-7h2v7zm4 0h-2V7h2v10zm4 0h-2v-4h2v4z\"/>\n",
              "    </g>\n",
              "</svg>\n",
              "      </button>\n",
              "    </div>\n",
              "\n",
              "<style>\n",
              "  .colab-df-quickchart {\n",
              "    background-color: #E8F0FE;\n",
              "    border: none;\n",
              "    border-radius: 50%;\n",
              "    cursor: pointer;\n",
              "    display: none;\n",
              "    fill: #1967D2;\n",
              "    height: 32px;\n",
              "    padding: 0 0 0 0;\n",
              "    width: 32px;\n",
              "  }\n",
              "\n",
              "  .colab-df-quickchart:hover {\n",
              "    background-color: #E2EBFA;\n",
              "    box-shadow: 0px 1px 2px rgba(60, 64, 67, 0.3), 0px 1px 3px 1px rgba(60, 64, 67, 0.15);\n",
              "    fill: #174EA6;\n",
              "  }\n",
              "\n",
              "  [theme=dark] .colab-df-quickchart {\n",
              "    background-color: #3B4455;\n",
              "    fill: #D2E3FC;\n",
              "  }\n",
              "\n",
              "  [theme=dark] .colab-df-quickchart:hover {\n",
              "    background-color: #434B5C;\n",
              "    box-shadow: 0px 1px 3px 1px rgba(0, 0, 0, 0.15);\n",
              "    filter: drop-shadow(0px 1px 2px rgba(0, 0, 0, 0.3));\n",
              "    fill: #FFFFFF;\n",
              "  }\n",
              "</style>\n",
              "\n",
              "    <script>\n",
              "      async function quickchart(key) {\n",
              "        const containerElement = document.querySelector('#' + key);\n",
              "        const charts = await google.colab.kernel.invokeFunction(\n",
              "            'suggestCharts', [key], {});\n",
              "      }\n",
              "    </script>\n",
              "\n",
              "      <script>\n",
              "\n",
              "function displayQuickchartButton(domScope) {\n",
              "  let quickchartButtonEl =\n",
              "    domScope.querySelector('#df-381fd025-2bab-49da-8348-3356cc642759 button.colab-df-quickchart');\n",
              "  quickchartButtonEl.style.display =\n",
              "    google.colab.kernel.accessAllowed ? 'block' : 'none';\n",
              "}\n",
              "\n",
              "        displayQuickchartButton(document);\n",
              "      </script>\n",
              "      <style>\n",
              "    .colab-df-container {\n",
              "      display:flex;\n",
              "      flex-wrap:wrap;\n",
              "      gap: 12px;\n",
              "    }\n",
              "\n",
              "    .colab-df-convert {\n",
              "      background-color: #E8F0FE;\n",
              "      border: none;\n",
              "      border-radius: 50%;\n",
              "      cursor: pointer;\n",
              "      display: none;\n",
              "      fill: #1967D2;\n",
              "      height: 32px;\n",
              "      padding: 0 0 0 0;\n",
              "      width: 32px;\n",
              "    }\n",
              "\n",
              "    .colab-df-convert:hover {\n",
              "      background-color: #E2EBFA;\n",
              "      box-shadow: 0px 1px 2px rgba(60, 64, 67, 0.3), 0px 1px 3px 1px rgba(60, 64, 67, 0.15);\n",
              "      fill: #174EA6;\n",
              "    }\n",
              "\n",
              "    [theme=dark] .colab-df-convert {\n",
              "      background-color: #3B4455;\n",
              "      fill: #D2E3FC;\n",
              "    }\n",
              "\n",
              "    [theme=dark] .colab-df-convert:hover {\n",
              "      background-color: #434B5C;\n",
              "      box-shadow: 0px 1px 3px 1px rgba(0, 0, 0, 0.15);\n",
              "      filter: drop-shadow(0px 1px 2px rgba(0, 0, 0, 0.3));\n",
              "      fill: #FFFFFF;\n",
              "    }\n",
              "  </style>\n",
              "\n",
              "      <script>\n",
              "        const buttonEl =\n",
              "          document.querySelector('#df-35581b6c-24f5-4479-9cd8-ece903daf79b button.colab-df-convert');\n",
              "        buttonEl.style.display =\n",
              "          google.colab.kernel.accessAllowed ? 'block' : 'none';\n",
              "\n",
              "        async function convertToInteractive(key) {\n",
              "          const element = document.querySelector('#df-35581b6c-24f5-4479-9cd8-ece903daf79b');\n",
              "          const dataTable =\n",
              "            await google.colab.kernel.invokeFunction('convertToInteractive',\n",
              "                                                     [key], {});\n",
              "          if (!dataTable) return;\n",
              "\n",
              "          const docLinkHtml = 'Like what you see? Visit the ' +\n",
              "            '<a target=\"_blank\" href=https://colab.research.google.com/notebooks/data_table.ipynb>data table notebook</a>'\n",
              "            + ' to learn more about interactive tables.';\n",
              "          element.innerHTML = '';\n",
              "          dataTable['output_type'] = 'display_data';\n",
              "          await google.colab.output.renderOutput(dataTable, element);\n",
              "          const docLink = document.createElement('div');\n",
              "          docLink.innerHTML = docLinkHtml;\n",
              "          element.appendChild(docLink);\n",
              "        }\n",
              "      </script>\n",
              "    </div>\n",
              "  </div>\n"
            ]
          },
          "metadata": {},
          "execution_count": 15
        }
      ]
    },
    {
      "cell_type": "code",
      "source": [
        "unique,count = np.unique(df['actions'],return_counts = True)\n"
      ],
      "metadata": {
        "id": "TRfvGfTIpf8U"
      },
      "execution_count": null,
      "outputs": []
    },
    {
      "cell_type": "code",
      "source": [
        "len(set(df['actions']))"
      ],
      "metadata": {
        "colab": {
          "base_uri": "https://localhost:8080/"
        },
        "id": "dW8ysyH4XyUS",
        "outputId": "ae7b8077-0b13-460d-bb36-5150d20b7790"
      },
      "execution_count": null,
      "outputs": [
        {
          "output_type": "execute_result",
          "data": {
            "text/plain": [
              "111"
            ]
          },
          "metadata": {},
          "execution_count": 17
        }
      ]
    },
    {
      "cell_type": "code",
      "source": [
        "tokenizer = BertTokenizer.from_pretrained('bert-base-uncased')\n",
        "# tokenizer = DistilBertTokenizer.from_pretrained('distilbert-base-uncased')\n",
        "\n",
        "# Tokenize the code\n",
        "input_ids = [tokenizer.encode(c, add_special_tokens=True) for c in df['code']]\n",
        "\n",
        "# Pad sequences to ensure uniform length\n",
        "code_padded = pad_sequences(input_ids, maxlen=256, dtype=\"long\", value=0, truncating=\"post\", padding=\"post\")\n",
        "# Initialize the LabelEncoder\n",
        "label_encoder = LabelEncoder()\n",
        "\n",
        "# Fit the LabelEncoder to the actions\n",
        "label_encoder.fit(df['actions'])\n",
        "\n",
        "# Transform the actions to integers\n",
        "actions_encoded = label_encoder.transform(df['actions'])\n",
        "action_one_hot = to_categorical(actions_encoded, num_classes = len(set(df['actions'])))"
      ],
      "metadata": {
        "id": "_vLDuNbbbeOb",
        "colab": {
          "base_uri": "https://localhost:8080/",
          "height": 113,
          "referenced_widgets": [
            "d0e572c3e947475ab26602d0058d7871",
            "89af115e74d043a8b87683eac7cea679",
            "e2726d02ef7646409721967c291d1b4f",
            "5d78b011d21f464eb567128c7757cf8d",
            "62950ad10ab641debbd58fbef7ea6e39",
            "6a0d35cbaaa74109a12dd98ff05f1a1b",
            "d1903e0948f242e28bdb0bb3436ab7a2",
            "041954ebcb074f7bb9ba028e5597d264",
            "d2f7008fa52d4171940f6ba986f4d605",
            "c2eded7a5c7448b1a73843b3dbb84d54",
            "eb9ca8adc88f4394a8d5986a7176fcec",
            "8741cfeb2c304b83b83bec5e8bb0df8a",
            "340f5644f384492d8b071e93b28e4e5a",
            "344963059b004a369c58a36e7f4d6cd0",
            "55ff012f11f94107a3bfed106be31edd",
            "93b4eaba52ef411b8331c30a261cb9ea",
            "67966e4a98904fd98671ef5d5d9d7136",
            "df5b7d74e73044f9a14339e9e11ebfc9",
            "3d3cb5851d9a4383839790d8bc57594c",
            "a011ef61a1044effbe00c419b962587a",
            "8dbee412c8034d44ac41149d85537bed",
            "39be60dcc36b47c09884516e7cb331ac",
            "4d239cb6a06b42bca215927096c8de40",
            "8306bc18f3fc44c8b917dbb6d6ab0ddd",
            "2538d7bd667346b69b0a5c7d1417c8ad",
            "ed3fcf81d8814c978c737e22878b42ab",
            "59e9cb5c2c2546d2ad130f4a93302c49",
            "9866e916b85a4d53beb099699bd24a07",
            "7c54555c12644db0b7860fa5f7bd7c1d",
            "97ad3556cea243f7b203f854b21bc947",
            "e0b46fa7d3274dd6bd472c49b0a06fb5",
            "37c9d92eaaf1443cab63792356d526e5",
            "eb5ea362ca5b4fbaa8073a968f945dd1"
          ]
        },
        "outputId": "3714786e-674f-4fb4-b92b-40efea821a4d"
      },
      "execution_count": null,
      "outputs": [
        {
          "output_type": "display_data",
          "data": {
            "text/plain": [
              "Downloading (…)solve/main/vocab.txt:   0%|          | 0.00/232k [00:00<?, ?B/s]"
            ],
            "application/vnd.jupyter.widget-view+json": {
              "version_major": 2,
              "version_minor": 0,
              "model_id": "d0e572c3e947475ab26602d0058d7871"
            }
          },
          "metadata": {}
        },
        {
          "output_type": "display_data",
          "data": {
            "text/plain": [
              "Downloading (…)okenizer_config.json:   0%|          | 0.00/28.0 [00:00<?, ?B/s]"
            ],
            "application/vnd.jupyter.widget-view+json": {
              "version_major": 2,
              "version_minor": 0,
              "model_id": "8741cfeb2c304b83b83bec5e8bb0df8a"
            }
          },
          "metadata": {}
        },
        {
          "output_type": "display_data",
          "data": {
            "text/plain": [
              "Downloading (…)lve/main/config.json:   0%|          | 0.00/570 [00:00<?, ?B/s]"
            ],
            "application/vnd.jupyter.widget-view+json": {
              "version_major": 2,
              "version_minor": 0,
              "model_id": "4d239cb6a06b42bca215927096c8de40"
            }
          },
          "metadata": {}
        }
      ]
    },
    {
      "cell_type": "code",
      "source": [
        "code_train, code_test, actions_train, actions_test = train_test_split(code_padded, action_one_hot, test_size=0.2, random_state=42,shuffle=True)\n",
        "code_val, code_test, actions_val, actions_test = train_test_split(code_test, actions_test, test_size=0.5, random_state=42,shuffle=True)"
      ],
      "metadata": {
        "id": "I-3wCoZh-x_n"
      },
      "execution_count": null,
      "outputs": []
    },
    {
      "cell_type": "code",
      "source": [
        "print(f\"Training code size: {len(code_train)}\")\n",
        "print(f\"Validation code size: {len(code_val)}\")\n",
        "print(f\"Test code size: {len(actions_test)}\")"
      ],
      "metadata": {
        "colab": {
          "base_uri": "https://localhost:8080/"
        },
        "id": "IcCDmqF3Af4-",
        "outputId": "45dc7bcd-1886-495e-ec3f-5627f0d19855"
      },
      "execution_count": null,
      "outputs": [
        {
          "output_type": "stream",
          "name": "stdout",
          "text": [
            "Training code size: 8000\n",
            "Validation code size: 1000\n",
            "Test code size: 1000\n"
          ]
        }
      ]
    },
    {
      "cell_type": "code",
      "source": [
        "predicted_label = label_encoder.inverse_transform([actions_encoded[200]])\n",
        "# Get the integer-encoded label from the one-hot encoded label\n",
        "integer_encoded_label = np.argmax(action_one_hot[200])\n",
        "# Decode the integer-encoded label to the original class label\n",
        "predicted_label_onehot = label_encoder.inverse_transform([integer_encoded_label])"
      ],
      "metadata": {
        "id": "8gkR4_Dn5mrV"
      },
      "execution_count": null,
      "outputs": []
    },
    {
      "cell_type": "code",
      "source": [
        "# Checking if the encoding is right. Check for sample number 200\n",
        "print(f\"The original data sample 200 is: {data[200]}\")\n",
        "print(f\"The data after splitting into code and sample is: {code[200],actions[200]}\")\n",
        "print(f\"The code sample after decoding the tokenizer is {tokenizer.decode(code_padded[200])}\")\n",
        "print(f\"The label after decoding the label encoding is: {predicted_label_onehot}\")\n",
        "print(f\"The label after decoding the label one hot encoding is: {predicted_label_onehot}\")\n"
      ],
      "metadata": {
        "colab": {
          "base_uri": "https://localhost:8080/"
        },
        "id": "dE4hVPvz72zO",
        "outputId": "faa48454-7dc1-4701-f394-faf34236214a"
      },
      "execution_count": null,
      "outputs": [
        {
          "output_type": "stream",
          "name": "stdout",
          "text": [
            "The original data sample 200 is: ['\"result = 0\\\\nfor val23 in data:\\\\n\\\\tresult += val23 * 5', 'map(), reduce()']\n",
            "The data after splitting into code and sample is: ('\"result = 0\\\\nfor val23 in data:\\\\n\\\\tresult += val23 * 5', 'map(), reduce()')\n",
            "The code sample after decoding the tokenizer is [CLS] \" result = 0 \\ nfor val23 in data : \\ n \\ tresult + = val23 * 5 [SEP] [PAD] [PAD] [PAD] [PAD] [PAD] [PAD] [PAD] [PAD] [PAD] [PAD] [PAD] [PAD] [PAD] [PAD] [PAD] [PAD] [PAD] [PAD] [PAD] [PAD] [PAD] [PAD] [PAD] [PAD] [PAD] [PAD] [PAD] [PAD] [PAD] [PAD] [PAD] [PAD] [PAD] [PAD] [PAD] [PAD] [PAD] [PAD] [PAD] [PAD] [PAD] [PAD] [PAD] [PAD] [PAD] [PAD] [PAD] [PAD] [PAD] [PAD] [PAD] [PAD] [PAD] [PAD] [PAD] [PAD] [PAD] [PAD] [PAD] [PAD] [PAD] [PAD] [PAD] [PAD] [PAD] [PAD] [PAD] [PAD] [PAD] [PAD] [PAD] [PAD] [PAD] [PAD] [PAD] [PAD] [PAD] [PAD] [PAD] [PAD] [PAD] [PAD] [PAD] [PAD] [PAD] [PAD] [PAD] [PAD] [PAD] [PAD] [PAD] [PAD] [PAD] [PAD] [PAD] [PAD] [PAD] [PAD] [PAD] [PAD] [PAD] [PAD] [PAD] [PAD] [PAD] [PAD] [PAD] [PAD] [PAD] [PAD] [PAD] [PAD] [PAD] [PAD] [PAD] [PAD] [PAD] [PAD] [PAD] [PAD] [PAD] [PAD] [PAD] [PAD] [PAD] [PAD] [PAD] [PAD] [PAD] [PAD] [PAD] [PAD] [PAD] [PAD] [PAD] [PAD] [PAD] [PAD] [PAD] [PAD] [PAD] [PAD] [PAD] [PAD] [PAD] [PAD] [PAD] [PAD] [PAD] [PAD] [PAD] [PAD] [PAD] [PAD] [PAD] [PAD] [PAD] [PAD] [PAD] [PAD] [PAD] [PAD] [PAD] [PAD] [PAD] [PAD] [PAD] [PAD] [PAD] [PAD] [PAD] [PAD] [PAD] [PAD] [PAD] [PAD] [PAD] [PAD] [PAD] [PAD] [PAD] [PAD] [PAD] [PAD] [PAD] [PAD] [PAD] [PAD] [PAD] [PAD] [PAD] [PAD] [PAD] [PAD] [PAD] [PAD] [PAD] [PAD] [PAD] [PAD] [PAD] [PAD] [PAD] [PAD] [PAD] [PAD] [PAD] [PAD] [PAD] [PAD] [PAD] [PAD] [PAD] [PAD] [PAD] [PAD] [PAD] [PAD] [PAD] [PAD] [PAD] [PAD] [PAD] [PAD] [PAD] [PAD] [PAD] [PAD] [PAD] [PAD] [PAD]\n",
            "The label after decoding the label encoding is: ['map(), reduce()']\n",
            "The label after decoding the label one hot encoding is: ['map(), reduce()']\n"
          ]
        }
      ]
    },
    {
      "cell_type": "code",
      "source": [
        "assert predicted_label_onehot == actions[200]"
      ],
      "metadata": {
        "id": "32ofP-iI76fO"
      },
      "execution_count": null,
      "outputs": []
    },
    {
      "cell_type": "code",
      "source": [
        "print(f\"The current unique class is: {len(set(df['actions']))}\")\n",
        "assert len(set(df['actions'])) == len(set(actions_encoded))"
      ],
      "metadata": {
        "colab": {
          "base_uri": "https://localhost:8080/"
        },
        "id": "VCATD0ZJ8KbN",
        "outputId": "767455ad-e9e0-462c-b532-7e7719cc3d77"
      },
      "execution_count": null,
      "outputs": [
        {
          "output_type": "stream",
          "name": "stdout",
          "text": [
            "The current unique class is: 111\n"
          ]
        }
      ]
    },
    {
      "cell_type": "code",
      "source": [
        "# from keras.src.metrics.confusion_metrics import TruePositives\n",
        "# Define the BERT model\n",
        "model = TFBertForSequenceClassification.from_pretrained('bert-base-uncased', num_labels = len(set(df['actions'])))\n",
        "# model = DistilBertForSequenceClassification.from_pretrained('distilbert-base-uncased', num_labels=len(mlb.classes_))\n",
        "\n",
        "# Compile the model\n",
        "optimizer = tf.keras.optimizers.Adam(learning_rate=3e-5)\n",
        "loss = tf.keras.losses.CategoricalCrossentropy(from_logits=True)\n",
        "metric_accuracy = tf.keras.metrics.CategoricalAccuracy(name = 'Categorical_accuracy')\n",
        "# metric_f1 = tf.keras.metrics.F1Score(name = 'f1_score')\n",
        "model.compile(optimizer=optimizer, loss=loss, metrics=[metric_accuracy])\n",
        "# Train the model\n"
      ],
      "metadata": {
        "colab": {
          "base_uri": "https://localhost:8080/",
          "height": 138,
          "referenced_widgets": [
            "5cedfe2c28054c6bbd54cbaad3bbaec8",
            "d75156b596944e7bb44d2b09f6464f43",
            "00450c6d608e4bb9993903e11bbdfc43",
            "72bb8b11db0e4aebbc74c29ec142a6bf",
            "f852fceb9ddc4660887c356a867a5cc8",
            "5a236d20cf854eb78e8154b496f5fe74",
            "e92ef418ea454b43a0b3cc127ddd3492",
            "51df5a43de3843159dc4b343e1a5071b",
            "fe774c252de74deca27c8fe8ff6e048a",
            "cfcae4aacf7948eb81d72474d26906e9",
            "b9bbb6540462494cbbc6620ca2b5d2fe"
          ]
        },
        "id": "9_lyS1a-8GpM",
        "outputId": "b12863e4-bebc-4bfc-8284-573102688511"
      },
      "execution_count": null,
      "outputs": [
        {
          "output_type": "display_data",
          "data": {
            "text/plain": [
              "Downloading model.safetensors:   0%|          | 0.00/440M [00:00<?, ?B/s]"
            ],
            "application/vnd.jupyter.widget-view+json": {
              "version_major": 2,
              "version_minor": 0,
              "model_id": "5cedfe2c28054c6bbd54cbaad3bbaec8"
            }
          },
          "metadata": {}
        },
        {
          "output_type": "stream",
          "name": "stderr",
          "text": [
            "All PyTorch model weights were used when initializing TFBertForSequenceClassification.\n",
            "\n",
            "Some weights or buffers of the TF 2.0 model TFBertForSequenceClassification were not initialized from the PyTorch model and are newly initialized: ['classifier.weight', 'classifier.bias']\n",
            "You should probably TRAIN this model on a down-stream task to be able to use it for predictions and inference.\n"
          ]
        }
      ]
    },
    {
      "cell_type": "code",
      "source": [
        "# import tensorflow as tf\n",
        "\n",
        "class MetricsLogger(tf.keras.callbacks.Callback):\n",
        "    def __init__(self):\n",
        "        # Initialize lists to store metrics\n",
        "        self.train_loss = []\n",
        "        self.train_accuracy = []\n",
        "        self.train_f1 = []\n",
        "        self.val_loss = []\n",
        "        self.val_accuracy = []\n",
        "        self.val_f1 = []\n",
        "\n",
        "    def on_batch_end(self, batch, logs=None):\n",
        "        # Append training metrics after each batch\n",
        "        self.train_loss.append(logs['loss'])\n",
        "        self.train_accuracy.append(logs['Categorical_accuracy'])\n",
        "        # self.train_f1.append(logs['f1_score'])\n",
        "\n",
        "    def on_epoch_end(self, epoch, logs=None):\n",
        "        # Append validation metrics after each epoch\n",
        "        self.val_loss.append(logs['val_loss'])\n",
        "        self.val_accuracy.append(logs['val_Categorical_accuracy'])\n",
        "        # self.val_f1.append(logs['val_f1_score'])\n"
      ],
      "metadata": {
        "id": "cpyPuriZlVpT"
      },
      "execution_count": null,
      "outputs": []
    },
    {
      "cell_type": "code",
      "source": [
        "# Train the model\n",
        "# Instantiate the custom callback\n",
        "metrics_logger = MetricsLogger()\n",
        "\n",
        "# Train the model with the custom callback\n",
        "model.fit(code_train, actions_train, epochs= 5, batch_size = 32, validation_data=(code_val, actions_val), callbacks=[metrics_logger])\n",
        "\n",
        "# model.fit(code_train, actions_train, epochs=2, batch_size = 64, validation_data=(code_val, actions_val))\n"
      ],
      "metadata": {
        "colab": {
          "base_uri": "https://localhost:8080/"
        },
        "id": "Q4DYRU81g32L",
        "outputId": "e4a16248-3b7a-45a7-e031-13dd1c3bf733"
      },
      "execution_count": null,
      "outputs": [
        {
          "output_type": "stream",
          "name": "stdout",
          "text": [
            "Epoch 1/5\n",
            "250/250 [==============================] - 489s 2s/step - loss: 3.9564 - Categorical_accuracy: 0.1924 - val_loss: 2.6422 - val_Categorical_accuracy: 0.5420\n",
            "Epoch 2/5\n",
            "250/250 [==============================] - 445s 2s/step - loss: 1.7787 - Categorical_accuracy: 0.7372 - val_loss: 1.0669 - val_Categorical_accuracy: 0.8900\n",
            "Epoch 3/5\n",
            "250/250 [==============================] - 444s 2s/step - loss: 0.7319 - Categorical_accuracy: 0.9494 - val_loss: 0.4593 - val_Categorical_accuracy: 0.9650\n",
            "Epoch 4/5\n",
            "250/250 [==============================] - 445s 2s/step - loss: 0.3366 - Categorical_accuracy: 0.9872 - val_loss: 0.2350 - val_Categorical_accuracy: 0.9860\n",
            "Epoch 5/5\n",
            "250/250 [==============================] - 444s 2s/step - loss: 0.1834 - Categorical_accuracy: 0.9950 - val_loss: 0.1312 - val_Categorical_accuracy: 0.9950\n"
          ]
        },
        {
          "output_type": "execute_result",
          "data": {
            "text/plain": [
              "<keras.callbacks.History at 0x7b8e00153280>"
            ]
          },
          "metadata": {},
          "execution_count": 27
        }
      ]
    },
    {
      "cell_type": "code",
      "execution_count": null,
      "metadata": {
        "id": "5CbJESAIIxoi",
        "colab": {
          "base_uri": "https://localhost:8080/"
        },
        "outputId": "735b8535-dde1-4a4e-ea19-6b01113e57d2"
      },
      "outputs": [
        {
          "output_type": "stream",
          "name": "stdout",
          "text": [
            "Epoch 1/5\n",
            "250/250 [==============================] - 486s 2s/step - loss: 4.0937 - Categorical_accuracy: 0.1334 - val_loss: 2.9738 - val_Categorical_accuracy: 0.4450\n",
            "Epoch 2/5\n",
            "250/250 [==============================] - 443s 2s/step - loss: 2.0816 - Categorical_accuracy: 0.6712 - val_loss: 1.3033 - val_Categorical_accuracy: 0.8430\n",
            "Epoch 3/5\n",
            "250/250 [==============================] - 443s 2s/step - loss: 0.9460 - Categorical_accuracy: 0.9036 - val_loss: 0.6277 - val_Categorical_accuracy: 0.9280\n",
            "Epoch 4/5\n",
            "250/250 [==============================] - 443s 2s/step - loss: 0.4550 - Categorical_accuracy: 0.9709 - val_loss: 0.3050 - val_Categorical_accuracy: 0.9790\n",
            "Epoch 5/5\n",
            "250/250 [==============================] - 443s 2s/step - loss: 0.2366 - Categorical_accuracy: 0.9936 - val_loss: 0.1633 - val_Categorical_accuracy: 0.9950\n"
          ]
        },
        {
          "output_type": "execute_result",
          "data": {
            "text/plain": [
              "<keras.callbacks.History at 0x7dc02ef3b0a0>"
            ]
          },
          "metadata": {},
          "execution_count": 44
        }
      ],
      "source": [
        "# Train the model\n",
        "# Instantiate the custom callback\n",
        "metrics_logger = MetricsLogger()\n",
        "\n",
        "# Train the model with the custom callback\n",
        "model.fit(code_train, actions_train, epochs= 5, batch_size = 32, validation_data=(code_val, actions_val), callbacks=[metrics_logger])\n",
        "\n",
        "# model.fit(code_train, actions_train, epochs=2, batch_size = 64, validation_data=(code_val, actions_val))\n"
      ]
    },
    {
      "cell_type": "markdown",
      "source": [
        "# Temp start"
      ],
      "metadata": {
        "id": "on7PVB-RoatZ"
      }
    },
    {
      "cell_type": "code",
      "source": [
        "import matplotlib.pyplot as plt\n",
        "import numpy as np\n",
        "\n",
        "# Calculate the number of batches per epoch\n",
        "batches_per_epoch = len(metrics_logger.train_loss) // len(metrics_logger.val_loss)\n",
        "\n",
        "# Repeat the validation metrics for each batch within an epoch\n",
        "val_accuracy_repeated = np.repeat(metrics_logger.val_accuracy, batches_per_epoch)\n",
        "val_loss_repeated = np.repeat(metrics_logger.val_loss, batches_per_epoch)\n",
        "\n",
        "# Create subplots: 1 row, 2 columns\n",
        "fig, axes = plt.subplots(1, 2, figsize=(14, 7))\n",
        "\n",
        "# Plot Training & Validation Accuracy\n",
        "axes[0].plot(metrics_logger.train_accuracy, '-', label=\"Training Accuracy\")\n",
        "axes[0].plot(val_accuracy_repeated, 'g-', label=\"Validation Accuracy\")\n",
        "axes[0].set_title(\"Training & Validation Accuracy\")\n",
        "axes[0].set_xlabel(\"Batch\")\n",
        "axes[0].set_ylabel(\"Accuracy\")\n",
        "axes[0].legend()\n",
        "\n",
        "# Plot Training & Validation Loss\n",
        "axes[1].plot(metrics_logger.train_loss, 'b-', label=\"Training Loss\")\n",
        "axes[1].plot(val_loss_repeated, 'g-', label=\"Validation Loss\")\n",
        "axes[1].set_title(\"Training & Validation Loss\")\n",
        "axes[1].set_xlabel(\"Batch\")\n",
        "axes[1].set_ylabel(\"Loss\")\n",
        "axes[1].legend()\n",
        "plt.tight_layout()\n",
        "plt.savefig(\"/content/drive/MyDrive/Bikram/acc_loss_figures_10000_15_07.png\",dpi = 400)\n",
        "plt.show()\n"
      ],
      "metadata": {
        "colab": {
          "base_uri": "https://localhost:8080/",
          "height": 570
        },
        "id": "0caxOmL1oh2k",
        "outputId": "8bdb5917-62c0-43a3-ef5d-342681a5a2d1"
      },
      "execution_count": null,
      "outputs": [
        {
          "output_type": "display_data",
          "data": {
            "text/plain": [
              "<Figure size 1400x700 with 2 Axes>"
            ],
            "image/png": "[encoded data removed]"
          },
          "metadata": {}
        }
      ]
    },
    {
      "cell_type": "code",
      "source": [
        "# Evaluate the model on the test set\n",
        "model.evaluate(code_test, actions_test)"
      ],
      "metadata": {
        "colab": {
          "base_uri": "https://localhost:8080/"
        },
        "id": "ZXIBQmFNw_3N",
        "outputId": "c45d5c6a-77ee-430b-81a7-ab35b6d4d105"
      },
      "execution_count": null,
      "outputs": [
        {
          "output_type": "stream",
          "name": "stdout",
          "text": [
            "32/32 [==============================] - 19s 602ms/step - loss: 0.1430 - Categorical_accuracy: 0.9970\n"
          ]
        },
        {
          "output_type": "execute_result",
          "data": {
            "text/plain": [
              "[0.14299844205379486, 0.996999979019165]"
            ]
          },
          "metadata": {},
          "execution_count": 47
        }
      ]
    },
    {
      "cell_type": "code",
      "source": [
        "\n",
        "# Let's assume that you have some test data in variables code_test and actions_test\n",
        "\n",
        "# Number of samples to display\n",
        "num_samples = 10\n",
        "\n",
        "# Select a subset of the test data\n",
        "code_samples = code_test[:num_samples]\n",
        "actions_samples = actions_test[:num_samples]\n",
        "\n",
        "# Make predictions using the model\n",
        "logits = model.predict(code_samples)\n",
        "\n",
        "# Extract the logits from the TFSequenceClassifierOutput object\n",
        "logits_values = logits.logits\n",
        "\n",
        "# Convert logits to probabilities\n",
        "probs = softmax(logits_values)\n",
        "\n",
        "# Find the class with the maximum probability\n",
        "predicted_classes = np.argmax(probs, axis=1)\n",
        "\n",
        "# Decode the predicted class indices back to labels\n",
        "predicted_labels = label_encoder.inverse_transform(predicted_classes)\n",
        "\n",
        "# Decode the real labels from integer to original\n",
        "\n",
        "# Print the real and predicted labels\n",
        "for i in range(num_samples):\n",
        "    print(f\"Sample {i+1}\")\n",
        "    integer_encoded_label = np.argmax(actions_samples[i])\n",
        "    # Decode the integer-encoded label to the original class label\n",
        "    real_labels = label_encoder.inverse_transform([integer_encoded_label])\n",
        "    code_snap = code_samples[i]\n",
        "    decode_code_snap = tokenizer.decode(code_snap)\n",
        "    # replace [\"SEP\"], [\"PAD\"] and [\"CLS\"] tokens with empty string\n",
        "    decode_code_snap = decode_code_snap.replace(\"[SEP]\", \"\").replace(\"[PAD]\", \"\").replace(\"[CLS]\", \"\")\n",
        "    decode_code_snap = decode_code_snap.replace(\"\\ n\", \"\\n\\t\")\n",
        "    decode_code_snap = decode_code_snap.replace(\"\\ t\", \"\\t\")\n",
        "    print(f\"Code: {decode_code_snap}\")\n",
        "    print(f\"Real label: {real_labels}\")\n",
        "    print(f\"Predicted label: {[predicted_labels[i]]}\\n\")\n",
        "    print(\"--------------------------------------------------\")\n",
        "    # break"
      ],
      "metadata": {
        "colab": {
          "base_uri": "https://localhost:8080/"
        },
        "id": "YCj1uKly68xL",
        "outputId": "b325cc2f-9266-4bb2-bfa3-f654a8b4e0d3"
      },
      "execution_count": null,
      "outputs": [
        {
          "output_type": "stream",
          "name": "stdout",
          "text": [
            "1/1 [==============================] - 6s 6s/step\n",
            "Sample 1\n",
            "Code:  \" result = 0 \n",
            "\tfor num313 in numbers : \n",
            "\t \tresult + = num313 * * 2                                                                                                                                                                                                                                   \n",
            "Real label: ['map(), reduce()']\n",
            "Predicted label: ['map(), reduce()']\n",
            "\n",
            "--------------------------------------------------\n",
            "Sample 2\n",
            "Code:  \" result = [ ] \n",
            "\tfor num321 in numbers : \n",
            "\t \tresult. append ( num321 * 5 ) \n",
            "\tresult. sort ( reverse = true )                                                                                                                                                                                                                     \n",
            "Real label: ['map(), sortBy()']\n",
            "Predicted label: ['map(), sortBy()']\n",
            "\n",
            "--------------------------------------------------\n",
            "Sample 3\n",
            "Code:  \" result = [ ] \n",
            "\tfor city36 in cities : \n",
            "\t \tfor population1426 in populations : \n",
            "\t \t \tresult. append ( ( city36, population1426 ) )                                                                                                                                                                                                                   \n",
            "Real label: ['join()']\n",
            "Predicted label: ['join()']\n",
            "\n",
            "--------------------------------------------------\n",
            "Sample 4\n",
            "Code:  \" result = [ ] \n",
            "\tfor num313 in numbers : \n",
            "\t \tresult. append ( num313 * 5 ) \n",
            "\tresult. sort ( reverse = true )                                                                                                                                                                                                                     \n",
            "Real label: ['map(), sortBy()']\n",
            "Predicted label: ['map(), sortBy()']\n",
            "\n",
            "--------------------------------------------------\n",
            "Sample 5\n",
            "Code:  \" result = 0 \n",
            "\tfor city1518 in cities : \n",
            "\t \tfor population78 in populations : \n",
            "\t \t \tresult + = len ( city1518 ) + population78                                                                                                                                                                                                                    \n",
            "Real label: ['join(), reduce()']\n",
            "Predicted label: ['join(), reduce()']\n",
            "\n",
            "--------------------------------------------------\n",
            "Sample 6\n",
            "Code:  \" result1211 = [ ] \n",
            "\tfor num66 in numbers : \n",
            "\t \tresult. append ( num66 ) \n",
            "\tresult1517 = list ( set ( result1211 ) ) \n",
            "\tresult1517. sort ( )                                                                                                                                                                                                        \n",
            "Real label: ['map(), distinct(), sortBy()']\n",
            "Predicted label: ['map(), distinct(), sortBy()']\n",
            "\n",
            "--------------------------------------------------\n",
            "Sample 7\n",
            "Code:  \" result721 = [ ] \n",
            "\tfor num1013 in numbers : \n",
            "\t \tresult. append ( num1013 * 2 ) \n",
            "\tresult259 = sorted ( result721 ) \n",
            "\tresult259 = list ( set ( result721 ) )                                                                                                                                                                                                 \n",
            "Real label: ['map(), sortBy(), distinct()']\n",
            "Predicted label: ['map(), sortBy(), distinct()']\n",
            "\n",
            "--------------------------------------------------\n",
            "Sample 8\n",
            "Code:  \" medium23 = [ ] \n",
            "\tfor score238 in scores : \n",
            "\t \tif score238 > = 90 : \n",
            "\t \t \tintermediate. append ( score238 ) \n",
            "\tresult = 0 \n",
            "\tfor score238 in medium23 : \n",
            "\t \tresult + = score238                                                                                                                                                                                         \n",
            "Real label: ['filter(), reduce()']\n",
            "Predicted label: ['filter(), reduce()']\n",
            "\n",
            "--------------------------------------------------\n",
            "Sample 9\n",
            "Code:  \" leave = [ ] \n",
            "\tfor city159 in cities : \n",
            "\t \tfor population307 in populations : \n",
            "\t \t \tresult. append ( ( city159, population307 ) ) \n",
            "\tresult = sum ( [ pop115 for city159, pop115 in leave ]                                                                                                                                                                                           \n",
            "Real label: ['join(), map(), sum()']\n",
            "Predicted label: ['join(), map(), sum()']\n",
            "\n",
            "--------------------------------------------------\n",
            "Sample 10\n",
            "Code:  \" result2812 = [ ] \n",
            "\tfor num2117 in act : \n",
            "\t \tresult. append ( num2117 * 10 ) \n",
            "\tresult206 = sum ( result2812 ) \n",
            "\tresult206 = result2812 / len ( act ) \n",
            "\tresult206 = round ( result2812, 2 )                                                                                                                                                                                   \n",
            "Real label: ['map(), reduce(), count()']\n",
            "Predicted label: ['map(), reduce(), count()']\n",
            "\n",
            "--------------------------------------------------\n"
          ]
        }
      ]
    },
    {
      "cell_type": "code",
      "source": [
        "# Make predictions using the model\n",
        "logits = model.predict(code_test)\n",
        "\n",
        "# Extract the logits from the TFSequenceClassifierOutput object\n",
        "logits_values = logits.logits\n",
        "# Convert logits to probabilities\n",
        "probs = softmax(logits_values)\n",
        "predicted_classes = np.argmax(probs, axis=1)\n",
        "y_test = [np.argmax(actions_test[i]) for i in range(len(actions_test))]\n",
        "\n",
        "bal_acc=balanced_accuracy_score(y_test,predicted_classes)\n",
        "f1score = f1_score(y_test,predicted_classes,average='macro')\n",
        "# classification_report_ = classification_report(y_test,predicted_classes)\n",
        "accuracy = accuracy_score(y_test,predicted_classes)\n",
        "# bal_acc = balanced_accuracy_score(y_test,predicted_classes)\n",
        "print(f\"F1 Socre: {f1score}\")\n",
        "print(f\"Balanced Accuracy: {bal_acc}\")\n",
        "print(f\"Accuracy: {accuracy}\")\n",
        "# print(f\"Classification Report: {classification_report}\")"
      ],
      "metadata": {
        "id": "jyvMtCOd69yN",
        "colab": {
          "base_uri": "https://localhost:8080/"
        },
        "outputId": "abbc7a2e-8ec1-4d5c-f621-fc4015419378"
      },
      "execution_count": null,
      "outputs": [
        {
          "output_type": "stream",
          "name": "stdout",
          "text": [
            "32/32 [==============================] - 16s 511ms/step\n",
            "F1 Socre: 0.9978770370952935\n",
            "Balanced Accuracy: 0.9977099095089749\n",
            "Accuracy: 0.997\n"
          ]
        }
      ]
    },
    {
      "cell_type": "code",
      "source": [
        "import tensorflow as tf\n",
        "tf.__version__\n",
        "\n"
      ],
      "metadata": {
        "colab": {
          "base_uri": "https://localhost:8080/",
          "height": 36
        },
        "id": "UEpNoo9tmEPw",
        "outputId": "d20d95cf-65a5-4033-d4df-5ee6bf18996d"
      },
      "execution_count": null,
      "outputs": [
        {
          "output_type": "execute_result",
          "data": {
            "text/plain": [
              "'2.12.0'"
            ],
            "application/vnd.google.colaboratory.intrinsic+json": {
              "type": "string"
            }
          },
          "metadata": {},
          "execution_count": 23
        }
      ]
    },
    {
      "cell_type": "code",
      "source": [
        "!nvidia-smi -L"
      ],
      "metadata": {
        "colab": {
          "base_uri": "https://localhost:8080/"
        },
        "id": "kkTC3qqkI0P8",
        "outputId": "d1e9fefb-5fff-40b8-dd76-96a89d38d13b"
      },
      "execution_count": null,
      "outputs": [
        {
          "output_type": "stream",
          "name": "stdout",
          "text": [
            "GPU 0: Tesla T4 (UUID: GPU-cbe1dab0-2da3-cb55-8c52-b7034c60b5d0)\n"
          ]
        }
      ]
    },
    {
      "cell_type": "code",
      "source": [
        "!lscpu |grep 'Model name'"
      ],
      "metadata": {
        "colab": {
          "base_uri": "https://localhost:8080/"
        },
        "id": "GfJ79YGjJeOV",
        "outputId": "19bb690d-ba5c-4e6e-d1f0-a47101870996"
      },
      "execution_count": null,
      "outputs": [
        {
          "output_type": "stream",
          "name": "stdout",
          "text": [
            "Model name:                      Intel(R) Xeon(R) CPU @ 2.00GHz\n"
          ]
        }
      ]
    },
    {
      "cell_type": "code",
      "source": [],
      "metadata": {
        "id": "lLDBfuEGKQj5"
      },
      "execution_count": null,
      "outputs": []
    }
  ],
  "metadata": {
    "kernelspec": {
      "display_name": "Python 3",
      "name": "python3"
    },
    "language_info": {
      "codemirror_mode": {
        "name": "ipython",
        "version": 3
      },
      "file_extension": ".py",
      "mimetype": "text/x-python",
      "name": "python",
      "nbconvert_exporter": "python",
      "pygments_lexer": "ipython3",
      "version": "3.10.5"
    },
    "orig_nbformat": 4,
    "colab": {
      "provenance": [],
      "gpuType": "T4",
      "machine_shape": "hm"
    },
    "widgets": {
      "application/vnd.jupyter.widget-state+json": {
        "d0e572c3e947475ab26602d0058d7871": {
          "model_module": "@jupyter-widgets/controls",
          "model_name": "HBoxModel",
          "model_module_version": "1.5.0",
          "state": {
            "_dom_classes": [],
            "_model_module": "@jupyter-widgets/controls",
            "_model_module_version": "1.5.0",
            "_model_name": "HBoxModel",
            "_view_count": null,
            "_view_module": "@jupyter-widgets/controls",
            "_view_module_version": "1.5.0",
            "_view_name": "HBoxView",
            "box_style": "",
            "children": [
              "IPY_MODEL_89af115e74d043a8b87683eac7cea679",
              "IPY_MODEL_e2726d02ef7646409721967c291d1b4f",
              "IPY_MODEL_5d78b011d21f464eb567128c7757cf8d"
            ],
            "layout": "IPY_MODEL_62950ad10ab641debbd58fbef7ea6e39"
          }
        },
        "89af115e74d043a8b87683eac7cea679": {
          "model_module": "@jupyter-widgets/controls",
          "model_name": "HTMLModel",
          "model_module_version": "1.5.0",
          "state": {
            "_dom_classes": [],
            "_model_module": "@jupyter-widgets/controls",
            "_model_module_version": "1.5.0",
            "_model_name": "HTMLModel",
            "_view_count": null,
            "_view_module": "@jupyter-widgets/controls",
            "_view_module_version": "1.5.0",
            "_view_name": "HTMLView",
            "description": "",
            "description_tooltip": null,
            "layout": "IPY_MODEL_6a0d35cbaaa74109a12dd98ff05f1a1b",
            "placeholder": "​",
            "style": "IPY_MODEL_d1903e0948f242e28bdb0bb3436ab7a2",
            "value": "Downloading (…)solve/main/vocab.txt: 100%"
          }
        },
        "e2726d02ef7646409721967c291d1b4f": {
          "model_module": "@jupyter-widgets/controls",
          "model_name": "FloatProgressModel",
          "model_module_version": "1.5.0",
          "state": {
            "_dom_classes": [],
            "_model_module": "@jupyter-widgets/controls",
            "_model_module_version": "1.5.0",
            "_model_name": "FloatProgressModel",
            "_view_count": null,
            "_view_module": "@jupyter-widgets/controls",
            "_view_module_version": "1.5.0",
            "_view_name": "ProgressView",
            "bar_style": "success",
            "description": "",
            "description_tooltip": null,
            "layout": "IPY_MODEL_041954ebcb074f7bb9ba028e5597d264",
            "max": 231508,
            "min": 0,
            "orientation": "horizontal",
            "style": "IPY_MODEL_d2f7008fa52d4171940f6ba986f4d605",
            "value": 231508
          }
        },
        "5d78b011d21f464eb567128c7757cf8d": {
          "model_module": "@jupyter-widgets/controls",
          "model_name": "HTMLModel",
          "model_module_version": "1.5.0",
          "state": {
            "_dom_classes": [],
            "_model_module": "@jupyter-widgets/controls",
            "_model_module_version": "1.5.0",
            "_model_name": "HTMLModel",
            "_view_count": null,
            "_view_module": "@jupyter-widgets/controls",
            "_view_module_version": "1.5.0",
            "_view_name": "HTMLView",
            "description": "",
            "description_tooltip": null,
            "layout": "IPY_MODEL_c2eded7a5c7448b1a73843b3dbb84d54",
            "placeholder": "​",
            "style": "IPY_MODEL_eb9ca8adc88f4394a8d5986a7176fcec",
            "value": " 232k/232k [00:00&lt;00:00, 3.39MB/s]"
          }
        },
        "62950ad10ab641debbd58fbef7ea6e39": {
          "model_module": "@jupyter-widgets/base",
          "model_name": "LayoutModel",
          "model_module_version": "1.2.0",
          "state": {
            "_model_module": "@jupyter-widgets/base",
            "_model_module_version": "1.2.0",
            "_model_name": "LayoutModel",
            "_view_count": null,
            "_view_module": "@jupyter-widgets/base",
            "_view_module_version": "1.2.0",
            "_view_name": "LayoutView",
            "align_content": null,
            "align_items": null,
            "align_self": null,
            "border": null,
            "bottom": null,
            "display": null,
            "flex": null,
            "flex_flow": null,
            "grid_area": null,
            "grid_auto_columns": null,
            "grid_auto_flow": null,
            "grid_auto_rows": null,
            "grid_column": null,
            "grid_gap": null,
            "grid_row": null,
            "grid_template_areas": null,
            "grid_template_columns": null,
            "grid_template_rows": null,
            "height": null,
            "justify_content": null,
            "justify_items": null,
            "left": null,
            "margin": null,
            "max_height": null,
            "max_width": null,
            "min_height": null,
            "min_width": null,
            "object_fit": null,
            "object_position": null,
            "order": null,
            "overflow": null,
            "overflow_x": null,
            "overflow_y": null,
            "padding": null,
            "right": null,
            "top": null,
            "visibility": null,
            "width": null
          }
        },
        "6a0d35cbaaa74109a12dd98ff05f1a1b": {
          "model_module": "@jupyter-widgets/base",
          "model_name": "LayoutModel",
          "model_module_version": "1.2.0",
          "state": {
            "_model_module": "@jupyter-widgets/base",
            "_model_module_version": "1.2.0",
            "_model_name": "LayoutModel",
            "_view_count": null,
            "_view_module": "@jupyter-widgets/base",
            "_view_module_version": "1.2.0",
            "_view_name": "LayoutView",
            "align_content": null,
            "align_items": null,
            "align_self": null,
            "border": null,
            "bottom": null,
            "display": null,
            "flex": null,
            "flex_flow": null,
            "grid_area": null,
            "grid_auto_columns": null,
            "grid_auto_flow": null,
            "grid_auto_rows": null,
            "grid_column": null,
            "grid_gap": null,
            "grid_row": null,
            "grid_template_areas": null,
            "grid_template_columns": null,
            "grid_template_rows": null,
            "height": null,
            "justify_content": null,
            "justify_items": null,
            "left": null,
            "margin": null,
            "max_height": null,
            "max_width": null,
            "min_height": null,
            "min_width": null,
            "object_fit": null,
            "object_position": null,
            "order": null,
            "overflow": null,
            "overflow_x": null,
            "overflow_y": null,
            "padding": null,
            "right": null,
            "top": null,
            "visibility": null,
            "width": null
          }
        },
        "d1903e0948f242e28bdb0bb3436ab7a2": {
          "model_module": "@jupyter-widgets/controls",
          "model_name": "DescriptionStyleModel",
          "model_module_version": "1.5.0",
          "state": {
            "_model_module": "@jupyter-widgets/controls",
            "_model_module_version": "1.5.0",
            "_model_name": "DescriptionStyleModel",
            "_view_count": null,
            "_view_module": "@jupyter-widgets/base",
            "_view_module_version": "1.2.0",
            "_view_name": "StyleView",
            "description_width": ""
          }
        },
        "041954ebcb074f7bb9ba028e5597d264": {
          "model_module": "@jupyter-widgets/base",
          "model_name": "LayoutModel",
          "model_module_version": "1.2.0",
          "state": {
            "_model_module": "@jupyter-widgets/base",
            "_model_module_version": "1.2.0",
            "_model_name": "LayoutModel",
            "_view_count": null,
            "_view_module": "@jupyter-widgets/base",
            "_view_module_version": "1.2.0",
            "_view_name": "LayoutView",
            "align_content": null,
            "align_items": null,
            "align_self": null,
            "border": null,
            "bottom": null,
            "display": null,
            "flex": null,
            "flex_flow": null,
            "grid_area": null,
            "grid_auto_columns": null,
            "grid_auto_flow": null,
            "grid_auto_rows": null,
            "grid_column": null,
            "grid_gap": null,
            "grid_row": null,
            "grid_template_areas": null,
            "grid_template_columns": null,
            "grid_template_rows": null,
            "height": null,
            "justify_content": null,
            "justify_items": null,
            "left": null,
            "margin": null,
            "max_height": null,
            "max_width": null,
            "min_height": null,
            "min_width": null,
            "object_fit": null,
            "object_position": null,
            "order": null,
            "overflow": null,
            "overflow_x": null,
            "overflow_y": null,
            "padding": null,
            "right": null,
            "top": null,
            "visibility": null,
            "width": null
          }
        },
        "d2f7008fa52d4171940f6ba986f4d605": {
          "model_module": "@jupyter-widgets/controls",
          "model_name": "ProgressStyleModel",
          "model_module_version": "1.5.0",
          "state": {
            "_model_module": "@jupyter-widgets/controls",
            "_model_module_version": "1.5.0",
            "_model_name": "ProgressStyleModel",
            "_view_count": null,
            "_view_module": "@jupyter-widgets/base",
            "_view_module_version": "1.2.0",
            "_view_name": "StyleView",
            "bar_color": null,
            "description_width": ""
          }
        },
        "c2eded7a5c7448b1a73843b3dbb84d54": {
          "model_module": "@jupyter-widgets/base",
          "model_name": "LayoutModel",
          "model_module_version": "1.2.0",
          "state": {
            "_model_module": "@jupyter-widgets/base",
            "_model_module_version": "1.2.0",
            "_model_name": "LayoutModel",
            "_view_count": null,
            "_view_module": "@jupyter-widgets/base",
            "_view_module_version": "1.2.0",
            "_view_name": "LayoutView",
            "align_content": null,
            "align_items": null,
            "align_self": null,
            "border": null,
            "bottom": null,
            "display": null,
            "flex": null,
            "flex_flow": null,
            "grid_area": null,
            "grid_auto_columns": null,
            "grid_auto_flow": null,
            "grid_auto_rows": null,
            "grid_column": null,
            "grid_gap": null,
            "grid_row": null,
            "grid_template_areas": null,
            "grid_template_columns": null,
            "grid_template_rows": null,
            "height": null,
            "justify_content": null,
            "justify_items": null,
            "left": null,
            "margin": null,
            "max_height": null,
            "max_width": null,
            "min_height": null,
            "min_width": null,
            "object_fit": null,
            "object_position": null,
            "order": null,
            "overflow": null,
            "overflow_x": null,
            "overflow_y": null,
            "padding": null,
            "right": null,
            "top": null,
            "visibility": null,
            "width": null
          }
        },
        "eb9ca8adc88f4394a8d5986a7176fcec": {
          "model_module": "@jupyter-widgets/controls",
          "model_name": "DescriptionStyleModel",
          "model_module_version": "1.5.0",
          "state": {
            "_model_module": "@jupyter-widgets/controls",
            "_model_module_version": "1.5.0",
            "_model_name": "DescriptionStyleModel",
            "_view_count": null,
            "_view_module": "@jupyter-widgets/base",
            "_view_module_version": "1.2.0",
            "_view_name": "StyleView",
            "description_width": ""
          }
        },
        "8741cfeb2c304b83b83bec5e8bb0df8a": {
          "model_module": "@jupyter-widgets/controls",
          "model_name": "HBoxModel",
          "model_module_version": "1.5.0",
          "state": {
            "_dom_classes": [],
            "_model_module": "@jupyter-widgets/controls",
            "_model_module_version": "1.5.0",
            "_model_name": "HBoxModel",
            "_view_count": null,
            "_view_module": "@jupyter-widgets/controls",
            "_view_module_version": "1.5.0",
            "_view_name": "HBoxView",
            "box_style": "",
            "children": [
              "IPY_MODEL_340f5644f384492d8b071e93b28e4e5a",
              "IPY_MODEL_344963059b004a369c58a36e7f4d6cd0",
              "IPY_MODEL_55ff012f11f94107a3bfed106be31edd"
            ],
            "layout": "IPY_MODEL_93b4eaba52ef411b8331c30a261cb9ea"
          }
        },
        "340f5644f384492d8b071e93b28e4e5a": {
          "model_module": "@jupyter-widgets/controls",
          "model_name": "HTMLModel",
          "model_module_version": "1.5.0",
          "state": {
            "_dom_classes": [],
            "_model_module": "@jupyter-widgets/controls",
            "_model_module_version": "1.5.0",
            "_model_name": "HTMLModel",
            "_view_count": null,
            "_view_module": "@jupyter-widgets/controls",
            "_view_module_version": "1.5.0",
            "_view_name": "HTMLView",
            "description": "",
            "description_tooltip": null,
            "layout": "IPY_MODEL_67966e4a98904fd98671ef5d5d9d7136",
            "placeholder": "​",
            "style": "IPY_MODEL_df5b7d74e73044f9a14339e9e11ebfc9",
            "value": "Downloading (…)okenizer_config.json: 100%"
          }
        },
        "344963059b004a369c58a36e7f4d6cd0": {
          "model_module": "@jupyter-widgets/controls",
          "model_name": "FloatProgressModel",
          "model_module_version": "1.5.0",
          "state": {
            "_dom_classes": [],
            "_model_module": "@jupyter-widgets/controls",
            "_model_module_version": "1.5.0",
            "_model_name": "FloatProgressModel",
            "_view_count": null,
            "_view_module": "@jupyter-widgets/controls",
            "_view_module_version": "1.5.0",
            "_view_name": "ProgressView",
            "bar_style": "success",
            "description": "",
            "description_tooltip": null,
            "layout": "IPY_MODEL_3d3cb5851d9a4383839790d8bc57594c",
            "max": 28,
            "min": 0,
            "orientation": "horizontal",
            "style": "IPY_MODEL_a011ef61a1044effbe00c419b962587a",
            "value": 28
          }
        },
        "55ff012f11f94107a3bfed106be31edd": {
          "model_module": "@jupyter-widgets/controls",
          "model_name": "HTMLModel",
          "model_module_version": "1.5.0",
          "state": {
            "_dom_classes": [],
            "_model_module": "@jupyter-widgets/controls",
            "_model_module_version": "1.5.0",
            "_model_name": "HTMLModel",
            "_view_count": null,
            "_view_module": "@jupyter-widgets/controls",
            "_view_module_version": "1.5.0",
            "_view_name": "HTMLView",
            "description": "",
            "description_tooltip": null,
            "layout": "IPY_MODEL_8dbee412c8034d44ac41149d85537bed",
            "placeholder": "​",
            "style": "IPY_MODEL_39be60dcc36b47c09884516e7cb331ac",
            "value": " 28.0/28.0 [00:00&lt;00:00, 1.92kB/s]"
          }
        },
        "93b4eaba52ef411b8331c30a261cb9ea": {
          "model_module": "@jupyter-widgets/base",
          "model_name": "LayoutModel",
          "model_module_version": "1.2.0",
          "state": {
            "_model_module": "@jupyter-widgets/base",
            "_model_module_version": "1.2.0",
            "_model_name": "LayoutModel",
            "_view_count": null,
            "_view_module": "@jupyter-widgets/base",
            "_view_module_version": "1.2.0",
            "_view_name": "LayoutView",
            "align_content": null,
            "align_items": null,
            "align_self": null,
            "border": null,
            "bottom": null,
            "display": null,
            "flex": null,
            "flex_flow": null,
            "grid_area": null,
            "grid_auto_columns": null,
            "grid_auto_flow": null,
            "grid_auto_rows": null,
            "grid_column": null,
            "grid_gap": null,
            "grid_row": null,
            "grid_template_areas": null,
            "grid_template_columns": null,
            "grid_template_rows": null,
            "height": null,
            "justify_content": null,
            "justify_items": null,
            "left": null,
            "margin": null,
            "max_height": null,
            "max_width": null,
            "min_height": null,
            "min_width": null,
            "object_fit": null,
            "object_position": null,
            "order": null,
            "overflow": null,
            "overflow_x": null,
            "overflow_y": null,
            "padding": null,
            "right": null,
            "top": null,
            "visibility": null,
            "width": null
          }
        },
        "67966e4a98904fd98671ef5d5d9d7136": {
          "model_module": "@jupyter-widgets/base",
          "model_name": "LayoutModel",
          "model_module_version": "1.2.0",
          "state": {
            "_model_module": "@jupyter-widgets/base",
            "_model_module_version": "1.2.0",
            "_model_name": "LayoutModel",
            "_view_count": null,
            "_view_module": "@jupyter-widgets/base",
            "_view_module_version": "1.2.0",
            "_view_name": "LayoutView",
            "align_content": null,
            "align_items": null,
            "align_self": null,
            "border": null,
            "bottom": null,
            "display": null,
            "flex": null,
            "flex_flow": null,
            "grid_area": null,
            "grid_auto_columns": null,
            "grid_auto_flow": null,
            "grid_auto_rows": null,
            "grid_column": null,
            "grid_gap": null,
            "grid_row": null,
            "grid_template_areas": null,
            "grid_template_columns": null,
            "grid_template_rows": null,
            "height": null,
            "justify_content": null,
            "justify_items": null,
            "left": null,
            "margin": null,
            "max_height": null,
            "max_width": null,
            "min_height": null,
            "min_width": null,
            "object_fit": null,
            "object_position": null,
            "order": null,
            "overflow": null,
            "overflow_x": null,
            "overflow_y": null,
            "padding": null,
            "right": null,
            "top": null,
            "visibility": null,
            "width": null
          }
        },
        "df5b7d74e73044f9a14339e9e11ebfc9": {
          "model_module": "@jupyter-widgets/controls",
          "model_name": "DescriptionStyleModel",
          "model_module_version": "1.5.0",
          "state": {
            "_model_module": "@jupyter-widgets/controls",
            "_model_module_version": "1.5.0",
            "_model_name": "DescriptionStyleModel",
            "_view_count": null,
            "_view_module": "@jupyter-widgets/base",
            "_view_module_version": "1.2.0",
            "_view_name": "StyleView",
            "description_width": ""
          }
        },
        "3d3cb5851d9a4383839790d8bc57594c": {
          "model_module": "@jupyter-widgets/base",
          "model_name": "LayoutModel",
          "model_module_version": "1.2.0",
          "state": {
            "_model_module": "@jupyter-widgets/base",
            "_model_module_version": "1.2.0",
            "_model_name": "LayoutModel",
            "_view_count": null,
            "_view_module": "@jupyter-widgets/base",
            "_view_module_version": "1.2.0",
            "_view_name": "LayoutView",
            "align_content": null,
            "align_items": null,
            "align_self": null,
            "border": null,
            "bottom": null,
            "display": null,
            "flex": null,
            "flex_flow": null,
            "grid_area": null,
            "grid_auto_columns": null,
            "grid_auto_flow": null,
            "grid_auto_rows": null,
            "grid_column": null,
            "grid_gap": null,
            "grid_row": null,
            "grid_template_areas": null,
            "grid_template_columns": null,
            "grid_template_rows": null,
            "height": null,
            "justify_content": null,
            "justify_items": null,
            "left": null,
            "margin": null,
            "max_height": null,
            "max_width": null,
            "min_height": null,
            "min_width": null,
            "object_fit": null,
            "object_position": null,
            "order": null,
            "overflow": null,
            "overflow_x": null,
            "overflow_y": null,
            "padding": null,
            "right": null,
            "top": null,
            "visibility": null,
            "width": null
          }
        },
        "a011ef61a1044effbe00c419b962587a": {
          "model_module": "@jupyter-widgets/controls",
          "model_name": "ProgressStyleModel",
          "model_module_version": "1.5.0",
          "state": {
            "_model_module": "@jupyter-widgets/controls",
            "_model_module_version": "1.5.0",
            "_model_name": "ProgressStyleModel",
            "_view_count": null,
            "_view_module": "@jupyter-widgets/base",
            "_view_module_version": "1.2.0",
            "_view_name": "StyleView",
            "bar_color": null,
            "description_width": ""
          }
        },
        "8dbee412c8034d44ac41149d85537bed": {
          "model_module": "@jupyter-widgets/base",
          "model_name": "LayoutModel",
          "model_module_version": "1.2.0",
          "state": {
            "_model_module": "@jupyter-widgets/base",
            "_model_module_version": "1.2.0",
            "_model_name": "LayoutModel",
            "_view_count": null,
            "_view_module": "@jupyter-widgets/base",
            "_view_module_version": "1.2.0",
            "_view_name": "LayoutView",
            "align_content": null,
            "align_items": null,
            "align_self": null,
            "border": null,
            "bottom": null,
            "display": null,
            "flex": null,
            "flex_flow": null,
            "grid_area": null,
            "grid_auto_columns": null,
            "grid_auto_flow": null,
            "grid_auto_rows": null,
            "grid_column": null,
            "grid_gap": null,
            "grid_row": null,
            "grid_template_areas": null,
            "grid_template_columns": null,
            "grid_template_rows": null,
            "height": null,
            "justify_content": null,
            "justify_items": null,
            "left": null,
            "margin": null,
            "max_height": null,
            "max_width": null,
            "min_height": null,
            "min_width": null,
            "object_fit": null,
            "object_position": null,
            "order": null,
            "overflow": null,
            "overflow_x": null,
            "overflow_y": null,
            "padding": null,
            "right": null,
            "top": null,
            "visibility": null,
            "width": null
          }
        },
        "39be60dcc36b47c09884516e7cb331ac": {
          "model_module": "@jupyter-widgets/controls",
          "model_name": "DescriptionStyleModel",
          "model_module_version": "1.5.0",
          "state": {
            "_model_module": "@jupyter-widgets/controls",
            "_model_module_version": "1.5.0",
            "_model_name": "DescriptionStyleModel",
            "_view_count": null,
            "_view_module": "@jupyter-widgets/base",
            "_view_module_version": "1.2.0",
            "_view_name": "StyleView",
            "description_width": ""
          }
        },
        "4d239cb6a06b42bca215927096c8de40": {
          "model_module": "@jupyter-widgets/controls",
          "model_name": "HBoxModel",
          "model_module_version": "1.5.0",
          "state": {
            "_dom_classes": [],
            "_model_module": "@jupyter-widgets/controls",
            "_model_module_version": "1.5.0",
            "_model_name": "HBoxModel",
            "_view_count": null,
            "_view_module": "@jupyter-widgets/controls",
            "_view_module_version": "1.5.0",
            "_view_name": "HBoxView",
            "box_style": "",
            "children": [
              "IPY_MODEL_8306bc18f3fc44c8b917dbb6d6ab0ddd",
              "IPY_MODEL_2538d7bd667346b69b0a5c7d1417c8ad",
              "IPY_MODEL_ed3fcf81d8814c978c737e22878b42ab"
            ],
            "layout": "IPY_MODEL_59e9cb5c2c2546d2ad130f4a93302c49"
          }
        },
        "8306bc18f3fc44c8b917dbb6d6ab0ddd": {
          "model_module": "@jupyter-widgets/controls",
          "model_name": "HTMLModel",
          "model_module_version": "1.5.0",
          "state": {
            "_dom_classes": [],
            "_model_module": "@jupyter-widgets/controls",
            "_model_module_version": "1.5.0",
            "_model_name": "HTMLModel",
            "_view_count": null,
            "_view_module": "@jupyter-widgets/controls",
            "_view_module_version": "1.5.0",
            "_view_name": "HTMLView",
            "description": "",
            "description_tooltip": null,
            "layout": "IPY_MODEL_9866e916b85a4d53beb099699bd24a07",
            "placeholder": "​",
            "style": "IPY_MODEL_7c54555c12644db0b7860fa5f7bd7c1d",
            "value": "Downloading (…)lve/main/config.json: 100%"
          }
        },
        "2538d7bd667346b69b0a5c7d1417c8ad": {
          "model_module": "@jupyter-widgets/controls",
          "model_name": "FloatProgressModel",
          "model_module_version": "1.5.0",
          "state": {
            "_dom_classes": [],
            "_model_module": "@jupyter-widgets/controls",
            "_model_module_version": "1.5.0",
            "_model_name": "FloatProgressModel",
            "_view_count": null,
            "_view_module": "@jupyter-widgets/controls",
            "_view_module_version": "1.5.0",
            "_view_name": "ProgressView",
            "bar_style": "success",
            "description": "",
            "description_tooltip": null,
            "layout": "IPY_MODEL_97ad3556cea243f7b203f854b21bc947",
            "max": 570,
            "min": 0,
            "orientation": "horizontal",
            "style": "IPY_MODEL_e0b46fa7d3274dd6bd472c49b0a06fb5",
            "value": 570
          }
        },
        "ed3fcf81d8814c978c737e22878b42ab": {
          "model_module": "@jupyter-widgets/controls",
          "model_name": "HTMLModel",
          "model_module_version": "1.5.0",
          "state": {
            "_dom_classes": [],
            "_model_module": "@jupyter-widgets/controls",
            "_model_module_version": "1.5.0",
            "_model_name": "HTMLModel",
            "_view_count": null,
            "_view_module": "@jupyter-widgets/controls",
            "_view_module_version": "1.5.0",
            "_view_name": "HTMLView",
            "description": "",
            "description_tooltip": null,
            "layout": "IPY_MODEL_37c9d92eaaf1443cab63792356d526e5",
            "placeholder": "​",
            "style": "IPY_MODEL_eb5ea362ca5b4fbaa8073a968f945dd1",
            "value": " 570/570 [00:00&lt;00:00, 45.8kB/s]"
          }
        },
        "59e9cb5c2c2546d2ad130f4a93302c49": {
          "model_module": "@jupyter-widgets/base",
          "model_name": "LayoutModel",
          "model_module_version": "1.2.0",
          "state": {
            "_model_module": "@jupyter-widgets/base",
            "_model_module_version": "1.2.0",
            "_model_name": "LayoutModel",
            "_view_count": null,
            "_view_module": "@jupyter-widgets/base",
            "_view_module_version": "1.2.0",
            "_view_name": "LayoutView",
            "align_content": null,
            "align_items": null,
            "align_self": null,
            "border": null,
            "bottom": null,
            "display": null,
            "flex": null,
            "flex_flow": null,
            "grid_area": null,
            "grid_auto_columns": null,
            "grid_auto_flow": null,
            "grid_auto_rows": null,
            "grid_column": null,
            "grid_gap": null,
            "grid_row": null,
            "grid_template_areas": null,
            "grid_template_columns": null,
            "grid_template_rows": null,
            "height": null,
            "justify_content": null,
            "justify_items": null,
            "left": null,
            "margin": null,
            "max_height": null,
            "max_width": null,
            "min_height": null,
            "min_width": null,
            "object_fit": null,
            "object_position": null,
            "order": null,
            "overflow": null,
            "overflow_x": null,
            "overflow_y": null,
            "padding": null,
            "right": null,
            "top": null,
            "visibility": null,
            "width": null
          }
        },
        "9866e916b85a4d53beb099699bd24a07": {
          "model_module": "@jupyter-widgets/base",
          "model_name": "LayoutModel",
          "model_module_version": "1.2.0",
          "state": {
            "_model_module": "@jupyter-widgets/base",
            "_model_module_version": "1.2.0",
            "_model_name": "LayoutModel",
            "_view_count": null,
            "_view_module": "@jupyter-widgets/base",
            "_view_module_version": "1.2.0",
            "_view_name": "LayoutView",
            "align_content": null,
            "align_items": null,
            "align_self": null,
            "border": null,
            "bottom": null,
            "display": null,
            "flex": null,
            "flex_flow": null,
            "grid_area": null,
            "grid_auto_columns": null,
            "grid_auto_flow": null,
            "grid_auto_rows": null,
            "grid_column": null,
            "grid_gap": null,
            "grid_row": null,
            "grid_template_areas": null,
            "grid_template_columns": null,
            "grid_template_rows": null,
            "height": null,
            "justify_content": null,
            "justify_items": null,
            "left": null,
            "margin": null,
            "max_height": null,
            "max_width": null,
            "min_height": null,
            "min_width": null,
            "object_fit": null,
            "object_position": null,
            "order": null,
            "overflow": null,
            "overflow_x": null,
            "overflow_y": null,
            "padding": null,
            "right": null,
            "top": null,
            "visibility": null,
            "width": null
          }
        },
        "7c54555c12644db0b7860fa5f7bd7c1d": {
          "model_module": "@jupyter-widgets/controls",
          "model_name": "DescriptionStyleModel",
          "model_module_version": "1.5.0",
          "state": {
            "_model_module": "@jupyter-widgets/controls",
            "_model_module_version": "1.5.0",
            "_model_name": "DescriptionStyleModel",
            "_view_count": null,
            "_view_module": "@jupyter-widgets/base",
            "_view_module_version": "1.2.0",
            "_view_name": "StyleView",
            "description_width": ""
          }
        },
        "97ad3556cea243f7b203f854b21bc947": {
          "model_module": "@jupyter-widgets/base",
          "model_name": "LayoutModel",
          "model_module_version": "1.2.0",
          "state": {
            "_model_module": "@jupyter-widgets/base",
            "_model_module_version": "1.2.0",
            "_model_name": "LayoutModel",
            "_view_count": null,
            "_view_module": "@jupyter-widgets/base",
            "_view_module_version": "1.2.0",
            "_view_name": "LayoutView",
            "align_content": null,
            "align_items": null,
            "align_self": null,
            "border": null,
            "bottom": null,
            "display": null,
            "flex": null,
            "flex_flow": null,
            "grid_area": null,
            "grid_auto_columns": null,
            "grid_auto_flow": null,
            "grid_auto_rows": null,
            "grid_column": null,
            "grid_gap": null,
            "grid_row": null,
            "grid_template_areas": null,
            "grid_template_columns": null,
            "grid_template_rows": null,
            "height": null,
            "justify_content": null,
            "justify_items": null,
            "left": null,
            "margin": null,
            "max_height": null,
            "max_width": null,
            "min_height": null,
            "min_width": null,
            "object_fit": null,
            "object_position": null,
            "order": null,
            "overflow": null,
            "overflow_x": null,
            "overflow_y": null,
            "padding": null,
            "right": null,
            "top": null,
            "visibility": null,
            "width": null
          }
        },
        "e0b46fa7d3274dd6bd472c49b0a06fb5": {
          "model_module": "@jupyter-widgets/controls",
          "model_name": "ProgressStyleModel",
          "model_module_version": "1.5.0",
          "state": {
            "_model_module": "@jupyter-widgets/controls",
            "_model_module_version": "1.5.0",
            "_model_name": "ProgressStyleModel",
            "_view_count": null,
            "_view_module": "@jupyter-widgets/base",
            "_view_module_version": "1.2.0",
            "_view_name": "StyleView",
            "bar_color": null,
            "description_width": ""
          }
        },
        "37c9d92eaaf1443cab63792356d526e5": {
          "model_module": "@jupyter-widgets/base",
          "model_name": "LayoutModel",
          "model_module_version": "1.2.0",
          "state": {
            "_model_module": "@jupyter-widgets/base",
            "_model_module_version": "1.2.0",
            "_model_name": "LayoutModel",
            "_view_count": null,
            "_view_module": "@jupyter-widgets/base",
            "_view_module_version": "1.2.0",
            "_view_name": "LayoutView",
            "align_content": null,
            "align_items": null,
            "align_self": null,
            "border": null,
            "bottom": null,
            "display": null,
            "flex": null,
            "flex_flow": null,
            "grid_area": null,
            "grid_auto_columns": null,
            "grid_auto_flow": null,
            "grid_auto_rows": null,
            "grid_column": null,
            "grid_gap": null,
            "grid_row": null,
            "grid_template_areas": null,
            "grid_template_columns": null,
            "grid_template_rows": null,
            "height": null,
            "justify_content": null,
            "justify_items": null,
            "left": null,
            "margin": null,
            "max_height": null,
            "max_width": null,
            "min_height": null,
            "min_width": null,
            "object_fit": null,
            "object_position": null,
            "order": null,
            "overflow": null,
            "overflow_x": null,
            "overflow_y": null,
            "padding": null,
            "right": null,
            "top": null,
            "visibility": null,
            "width": null
          }
        },
        "eb5ea362ca5b4fbaa8073a968f945dd1": {
          "model_module": "@jupyter-widgets/controls",
          "model_name": "DescriptionStyleModel",
          "model_module_version": "1.5.0",
          "state": {
            "_model_module": "@jupyter-widgets/controls",
            "_model_module_version": "1.5.0",
            "_model_name": "DescriptionStyleModel",
            "_view_count": null,
            "_view_module": "@jupyter-widgets/base",
            "_view_module_version": "1.2.0",
            "_view_name": "StyleView",
            "description_width": ""
          }
        },
        "5cedfe2c28054c6bbd54cbaad3bbaec8": {
          "model_module": "@jupyter-widgets/controls",
          "model_name": "HBoxModel",
          "model_module_version": "1.5.0",
          "state": {
            "_dom_classes": [],
            "_model_module": "@jupyter-widgets/controls",
            "_model_module_version": "1.5.0",
            "_model_name": "HBoxModel",
            "_view_count": null,
            "_view_module": "@jupyter-widgets/controls",
            "_view_module_version": "1.5.0",
            "_view_name": "HBoxView",
            "box_style": "",
            "children": [
              "IPY_MODEL_d75156b596944e7bb44d2b09f6464f43",
              "IPY_MODEL_00450c6d608e4bb9993903e11bbdfc43",
              "IPY_MODEL_72bb8b11db0e4aebbc74c29ec142a6bf"
            ],
            "layout": "IPY_MODEL_f852fceb9ddc4660887c356a867a5cc8"
          }
        },
        "d75156b596944e7bb44d2b09f6464f43": {
          "model_module": "@jupyter-widgets/controls",
          "model_name": "HTMLModel",
          "model_module_version": "1.5.0",
          "state": {
            "_dom_classes": [],
            "_model_module": "@jupyter-widgets/controls",
            "_model_module_version": "1.5.0",
            "_model_name": "HTMLModel",
            "_view_count": null,
            "_view_module": "@jupyter-widgets/controls",
            "_view_module_version": "1.5.0",
            "_view_name": "HTMLView",
            "description": "",
            "description_tooltip": null,
            "layout": "IPY_MODEL_5a236d20cf854eb78e8154b496f5fe74",
            "placeholder": "​",
            "style": "IPY_MODEL_e92ef418ea454b43a0b3cc127ddd3492",
            "value": "Downloading model.safetensors: 100%"
          }
        },
        "00450c6d608e4bb9993903e11bbdfc43": {
          "model_module": "@jupyter-widgets/controls",
          "model_name": "FloatProgressModel",
          "model_module_version": "1.5.0",
          "state": {
            "_dom_classes": [],
            "_model_module": "@jupyter-widgets/controls",
            "_model_module_version": "1.5.0",
            "_model_name": "FloatProgressModel",
            "_view_count": null,
            "_view_module": "@jupyter-widgets/controls",
            "_view_module_version": "1.5.0",
            "_view_name": "ProgressView",
            "bar_style": "success",
            "description": "",
            "description_tooltip": null,
            "layout": "IPY_MODEL_51df5a43de3843159dc4b343e1a5071b",
            "max": 440449768,
            "min": 0,
            "orientation": "horizontal",
            "style": "IPY_MODEL_fe774c252de74deca27c8fe8ff6e048a",
            "value": 440449768
          }
        },
        "72bb8b11db0e4aebbc74c29ec142a6bf": {
          "model_module": "@jupyter-widgets/controls",
          "model_name": "HTMLModel",
          "model_module_version": "1.5.0",
          "state": {
            "_dom_classes": [],
            "_model_module": "@jupyter-widgets/controls",
            "_model_module_version": "1.5.0",
            "_model_name": "HTMLModel",
            "_view_count": null,
            "_view_module": "@jupyter-widgets/controls",
            "_view_module_version": "1.5.0",
            "_view_name": "HTMLView",
            "description": "",
            "description_tooltip": null,
            "layout": "IPY_MODEL_cfcae4aacf7948eb81d72474d26906e9",
            "placeholder": "​",
            "style": "IPY_MODEL_b9bbb6540462494cbbc6620ca2b5d2fe",
            "value": " 440M/440M [00:03&lt;00:00, 133MB/s]"
          }
        },
        "f852fceb9ddc4660887c356a867a5cc8": {
          "model_module": "@jupyter-widgets/base",
          "model_name": "LayoutModel",
          "model_module_version": "1.2.0",
          "state": {
            "_model_module": "@jupyter-widgets/base",
            "_model_module_version": "1.2.0",
            "_model_name": "LayoutModel",
            "_view_count": null,
            "_view_module": "@jupyter-widgets/base",
            "_view_module_version": "1.2.0",
            "_view_name": "LayoutView",
            "align_content": null,
            "align_items": null,
            "align_self": null,
            "border": null,
            "bottom": null,
            "display": null,
            "flex": null,
            "flex_flow": null,
            "grid_area": null,
            "grid_auto_columns": null,
            "grid_auto_flow": null,
            "grid_auto_rows": null,
            "grid_column": null,
            "grid_gap": null,
            "grid_row": null,
            "grid_template_areas": null,
            "grid_template_columns": null,
            "grid_template_rows": null,
            "height": null,
            "justify_content": null,
            "justify_items": null,
            "left": null,
            "margin": null,
            "max_height": null,
            "max_width": null,
            "min_height": null,
            "min_width": null,
            "object_fit": null,
            "object_position": null,
            "order": null,
            "overflow": null,
            "overflow_x": null,
            "overflow_y": null,
            "padding": null,
            "right": null,
            "top": null,
            "visibility": null,
            "width": null
          }
        },
        "5a236d20cf854eb78e8154b496f5fe74": {
          "model_module": "@jupyter-widgets/base",
          "model_name": "LayoutModel",
          "model_module_version": "1.2.0",
          "state": {
            "_model_module": "@jupyter-widgets/base",
            "_model_module_version": "1.2.0",
            "_model_name": "LayoutModel",
            "_view_count": null,
            "_view_module": "@jupyter-widgets/base",
            "_view_module_version": "1.2.0",
            "_view_name": "LayoutView",
            "align_content": null,
            "align_items": null,
            "align_self": null,
            "border": null,
            "bottom": null,
            "display": null,
            "flex": null,
            "flex_flow": null,
            "grid_area": null,
            "grid_auto_columns": null,
            "grid_auto_flow": null,
            "grid_auto_rows": null,
            "grid_column": null,
            "grid_gap": null,
            "grid_row": null,
            "grid_template_areas": null,
            "grid_template_columns": null,
            "grid_template_rows": null,
            "height": null,
            "justify_content": null,
            "justify_items": null,
            "left": null,
            "margin": null,
            "max_height": null,
            "max_width": null,
            "min_height": null,
            "min_width": null,
            "object_fit": null,
            "object_position": null,
            "order": null,
            "overflow": null,
            "overflow_x": null,
            "overflow_y": null,
            "padding": null,
            "right": null,
            "top": null,
            "visibility": null,
            "width": null
          }
        },
        "e92ef418ea454b43a0b3cc127ddd3492": {
          "model_module": "@jupyter-widgets/controls",
          "model_name": "DescriptionStyleModel",
          "model_module_version": "1.5.0",
          "state": {
            "_model_module": "@jupyter-widgets/controls",
            "_model_module_version": "1.5.0",
            "_model_name": "DescriptionStyleModel",
            "_view_count": null,
            "_view_module": "@jupyter-widgets/base",
            "_view_module_version": "1.2.0",
            "_view_name": "StyleView",
            "description_width": ""
          }
        },
        "51df5a43de3843159dc4b343e1a5071b": {
          "model_module": "@jupyter-widgets/base",
          "model_name": "LayoutModel",
          "model_module_version": "1.2.0",
          "state": {
            "_model_module": "@jupyter-widgets/base",
            "_model_module_version": "1.2.0",
            "_model_name": "LayoutModel",
            "_view_count": null,
            "_view_module": "@jupyter-widgets/base",
            "_view_module_version": "1.2.0",
            "_view_name": "LayoutView",
            "align_content": null,
            "align_items": null,
            "align_self": null,
            "border": null,
            "bottom": null,
            "display": null,
            "flex": null,
            "flex_flow": null,
            "grid_area": null,
            "grid_auto_columns": null,
            "grid_auto_flow": null,
            "grid_auto_rows": null,
            "grid_column": null,
            "grid_gap": null,
            "grid_row": null,
            "grid_template_areas": null,
            "grid_template_columns": null,
            "grid_template_rows": null,
            "height": null,
            "justify_content": null,
            "justify_items": null,
            "left": null,
            "margin": null,
            "max_height": null,
            "max_width": null,
            "min_height": null,
            "min_width": null,
            "object_fit": null,
            "object_position": null,
            "order": null,
            "overflow": null,
            "overflow_x": null,
            "overflow_y": null,
            "padding": null,
            "right": null,
            "top": null,
            "visibility": null,
            "width": null
          }
        },
        "fe774c252de74deca27c8fe8ff6e048a": {
          "model_module": "@jupyter-widgets/controls",
          "model_name": "ProgressStyleModel",
          "model_module_version": "1.5.0",
          "state": {
            "_model_module": "@jupyter-widgets/controls",
            "_model_module_version": "1.5.0",
            "_model_name": "ProgressStyleModel",
            "_view_count": null,
            "_view_module": "@jupyter-widgets/base",
            "_view_module_version": "1.2.0",
            "_view_name": "StyleView",
            "bar_color": null,
            "description_width": ""
          }
        },
        "cfcae4aacf7948eb81d72474d26906e9": {
          "model_module": "@jupyter-widgets/base",
          "model_name": "LayoutModel",
          "model_module_version": "1.2.0",
          "state": {
            "_model_module": "@jupyter-widgets/base",
            "_model_module_version": "1.2.0",
            "_model_name": "LayoutModel",
            "_view_count": null,
            "_view_module": "@jupyter-widgets/base",
            "_view_module_version": "1.2.0",
            "_view_name": "LayoutView",
            "align_content": null,
            "align_items": null,
            "align_self": null,
            "border": null,
            "bottom": null,
            "display": null,
            "flex": null,
            "flex_flow": null,
            "grid_area": null,
            "grid_auto_columns": null,
            "grid_auto_flow": null,
            "grid_auto_rows": null,
            "grid_column": null,
            "grid_gap": null,
            "grid_row": null,
            "grid_template_areas": null,
            "grid_template_columns": null,
            "grid_template_rows": null,
            "height": null,
            "justify_content": null,
            "justify_items": null,
            "left": null,
            "margin": null,
            "max_height": null,
            "max_width": null,
            "min_height": null,
            "min_width": null,
            "object_fit": null,
            "object_position": null,
            "order": null,
            "overflow": null,
            "overflow_x": null,
            "overflow_y": null,
            "padding": null,
            "right": null,
            "top": null,
            "visibility": null,
            "width": null
          }
        },
        "b9bbb6540462494cbbc6620ca2b5d2fe": {
          "model_module": "@jupyter-widgets/controls",
          "model_name": "DescriptionStyleModel",
          "model_module_version": "1.5.0",
          "state": {
            "_model_module": "@jupyter-widgets/controls",
            "_model_module_version": "1.5.0",
            "_model_name": "DescriptionStyleModel",
            "_view_count": null,
            "_view_module": "@jupyter-widgets/base",
            "_view_module_version": "1.2.0",
            "_view_name": "StyleView",
            "description_width": ""
          }
        }
      }
    },
    "accelerator": "GPU"
  },
  "nbformat": 4,
  "nbformat_minor": 0
}