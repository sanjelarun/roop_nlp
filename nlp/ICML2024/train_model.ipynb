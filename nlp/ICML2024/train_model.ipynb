{
  "cells": [
    {
      "cell_type": "code",
      "execution_count": null,
      "metadata": {
        "colab": {
          "base_uri": "https://localhost:8080/"
        },
        "id": "rVkU2m4GIxof",
        "outputId": "8d1399dc-937a-43cf-a47a-b44d8851de6a"
      },
      "outputs": [
        {
          "name": "stdout",
          "output_type": "stream",
          "text": [
            "Drive already mounted at /content/drive/; to attempt to forcibly remount, call drive.mount(\"/content/drive/\", force_remount=True).\n"
          ]
        }
      ],
      "source": [
        "# ! pip install transformers\n",
        "# # ! pip install tensorflow==2.13.0\n",
        "\n",
        "from google.colab import drive\n",
        "drive.mount('/content/drive/')"
      ]
    },
    {
      "cell_type": "code",
      "execution_count": null,
      "metadata": {
        "id": "Qut6cgofIxog"
      },
      "outputs": [],
      "source": [
        "# import torch\n",
        "from transformers import BertTokenizer #, BertForSequenceClassification, DistilBertForSequenceClassification, DistilBertTokenizer\n",
        "from sklearn.model_selection import train_test_split\n",
        "# from torch.utils.data import Dataset, DataLoader\n",
        "# import itertools\n",
        "from tensorflow.nn import softmax\n",
        "import re\n",
        "from sklearn.preprocessing import LabelEncoder\n",
        "import os\n",
        "import pandas as pd\n",
        "# import ast\n",
        "# from sklearn.preprocessing import MultiLabelBinarizer\n",
        "from sklearn.model_selection import train_test_split\n",
        "from tensorflow.keras.preprocessing.sequence import pad_sequences\n",
        "from transformers import BertTokenizer, TFBertForSequenceClassification\n",
        "import tensorflow as tf\n",
        "import numpy as np\n",
        "from tensorflow.keras.utils import to_categorical\n",
        "from sklearn.metrics import balanced_accuracy_score,f1_score,accuracy_score #pip install -U scikit-learn\n",
        "# import matplotlib.pyplot as plt\n",
        "# import seaborn as sns\n",
        "np.random.seed(42)\n",
        "\n"
      ]
    },
    {
      "cell_type": "code",
      "execution_count": null,
      "metadata": {
        "colab": {
          "base_uri": "https://localhost:8080/"
        },
        "id": "WsZn_6i0JxCd",
        "outputId": "d7473ce8-00b4-4417-b1f5-5e76ac4238aa"
      },
      "outputs": [
        {
          "name": "stdout",
          "output_type": "stream",
          "text": [
            "Num GPUs: 1 [PhysicalDevice(name='/physical_device:GPU:0', device_type='GPU')]\n"
          ]
        }
      ],
      "source": [
        "\n",
        "# Dynamically allocate GPU memory\n",
        "physical_devices = tf.config.list_physical_devices('GPU')\n",
        "print(\"Num GPUs:\", len(physical_devices),physical_devices)\n",
        "if physical_devices:\n",
        "    tf.config.experimental.set_memory_growth(physical_devices[0], True)\n",
        "\n",
        "# Set the TF_GPU_ALLOCATOR environment variable\n",
        "os.environ['TF_GPU_ALLOCATOR'] = 'cuda_malloc_async'\n",
        "\n"
      ]
    },
    {
      "cell_type": "code",
      "execution_count": null,
      "metadata": {
        "colab": {
          "base_uri": "https://localhost:8080/"
        },
        "id": "L9u0VDOjIxog",
        "outputId": "af12a64f-37a5-4746-ba53-be956bcbca33"
      },
      "outputs": [
        {
          "data": {
            "text/plain": [
              "([PhysicalDevice(name='/physical_device:GPU:0', device_type='GPU')], '2.15.0')"
            ]
          },
          "execution_count": 43,
          "metadata": {},
          "output_type": "execute_result"
        }
      ],
      "source": [
        "physical_devices,tf.__version__"
      ]
    },
    {
      "cell_type": "code",
      "execution_count": null,
      "metadata": {
        "id": "Wvr5WWLqIxoh"
      },
      "outputs": [],
      "source": [
        "# dataset_url = \"../data_generator/initial_dataset_additonal_api_balanced_normal.csv\"\n",
        "# dataset_url = \"dataset.csv\"\n",
        "# dataset_url = \"/content/drive/MyDrive/Bikram/test_data.csv\"\n",
        "# dataset_url_10000 = \"/content/drive/MyDrive/Bikram/latest_class_10000.csv\"\n",
        "dataset_url = \"/content/drive/MyDrive/Bikram/train_balanced_normal.csv\"\n",
        "model_url = \"/content/drive/MyDrive/Bikram/model_10000_07_14.keras\""
      ]
    },
    {
      "cell_type": "code",
      "execution_count": null,
      "metadata": {
        "colab": {
          "base_uri": "https://localhost:8080/"
        },
        "id": "0JNsg2jpl2uv",
        "outputId": "13221718-3f61-43c3-e36f-ba81fac34254"
      },
      "outputs": [
        {
          "data": {
            "text/plain": [
              "10000"
            ]
          },
          "execution_count": 77,
          "metadata": {},
          "output_type": "execute_result"
        }
      ],
      "source": [
        "data = []\n",
        "with open(dataset_url, 'r') as csvfile:\n",
        "    for line in csvfile:\n",
        "        if len(line) > 5:\n",
        "            a, b = line.split('\",', 1)\n",
        "            a, b = a[2:], b[2:-2]\n",
        "            bs = re.findall(r\"'(.*?)'\", b, re.DOTALL)\n",
        "            bs = \", \".join(bs)\n",
        "            data.append([a,bs])\n",
        "# data = data[:10000]\n",
        "len(data)\n",
        "# data = data[:100000]"
      ]
    },
    {
      "cell_type": "code",
      "execution_count": null,
      "metadata": {
        "id": "AYHk11ku5JYj"
      },
      "outputs": [],
      "source": [
        "# Separate code from actions\n",
        "code = [item[0] for item in data]\n",
        "actions = [item[1] for item in data]"
      ]
    },
    {
      "cell_type": "code",
      "execution_count": null,
      "metadata": {
        "colab": {
          "base_uri": "https://localhost:8080/",
          "height": 508
        },
        "id": "68My6CqC5NSg",
        "outputId": "d1ef12f4-3b9d-44c4-fb43-5e7653a0bdaf"
      },
      "outputs": [
        {
          "data": {
            "text/html": [
              "\n",
              "  <div id=\"df-df6197d8-08c3-488a-8386-be7662d5cded\" class=\"colab-df-container\">\n",
              "    <div>\n",
              "<style scoped>\n",
              "    .dataframe tbody tr th:only-of-type {\n",
              "        vertical-align: middle;\n",
              "    }\n",
              "\n",
              "    .dataframe tbody tr th {\n",
              "        vertical-align: top;\n",
              "    }\n",
              "\n",
              "    .dataframe thead th {\n",
              "        text-align: right;\n",
              "    }\n",
              "</style>\n",
              "<table border=\"1\" class=\"dataframe\">\n",
              "  <thead>\n",
              "    <tr style=\"text-align: right;\">\n",
              "      <th></th>\n",
              "      <th>code</th>\n",
              "      <th>actions</th>\n",
              "    </tr>\n",
              "  </thead>\n",
              "  <tbody>\n",
              "    <tr>\n",
              "      <th>0</th>\n",
              "      <td>\"result = 0\\nfor name22 in names:\\n\\tfor age1 ...</td>\n",
              "      <td>join(), reduce()</td>\n",
              "    </tr>\n",
              "    <tr>\n",
              "      <th>1</th>\n",
              "      <td>\"outcome = []\\nfor num24 in list1:\\n\\tresult9....</td>\n",
              "      <td>union(), sortBy()</td>\n",
              "    </tr>\n",
              "    <tr>\n",
              "      <th>2</th>\n",
              "      <td>\"resultant = []\\nfor obj8 in objects:\\n\\tfor o...</td>\n",
              "      <td>join(), filter(), map(), reduce()</td>\n",
              "    </tr>\n",
              "    <tr>\n",
              "      <th>3</th>\n",
              "      <td>\"result = 0\\nfor city5 in cities:\\n\\tfor popul...</td>\n",
              "      <td>join(), reduce()</td>\n",
              "    </tr>\n",
              "    <tr>\n",
              "      <th>4</th>\n",
              "      <td>\"result22 = []\\nfor entity13 in entities:\\n\\tf...</td>\n",
              "      <td>join(), filter(), map(), count()</td>\n",
              "    </tr>\n",
              "    <tr>\n",
              "      <th>5</th>\n",
              "      <td>\"outcome = []\\nfor X in xs:\\n\\tif X &gt; 0:\\n\\t\\t...</td>\n",
              "      <td>filter(), map(), reduce()</td>\n",
              "    </tr>\n",
              "    <tr>\n",
              "      <th>6</th>\n",
              "      <td>\"result = []\\nfor val7 in data:\\n\\tresult.appe...</td>\n",
              "      <td>map()</td>\n",
              "    </tr>\n",
              "    <tr>\n",
              "      <th>7</th>\n",
              "      <td>\"result = []\\nfor val8 in vals:\\n\\tresult.appe...</td>\n",
              "      <td>map()</td>\n",
              "    </tr>\n",
              "    <tr>\n",
              "      <th>8</th>\n",
              "      <td>\"result = len(students)</td>\n",
              "      <td>count()</td>\n",
              "    </tr>\n",
              "    <tr>\n",
              "      <th>9</th>\n",
              "      <td>\"result17 = []\\nfor textbook in texts:\\n\\tif '...</td>\n",
              "      <td>filter(), map(), join()</td>\n",
              "    </tr>\n",
              "  </tbody>\n",
              "</table>\n",
              "</div>\n",
              "    <div class=\"colab-df-buttons\">\n",
              "\n",
              "  <div class=\"colab-df-container\">\n",
              "    <button class=\"colab-df-convert\" onclick=\"convertToInteractive('df-df6197d8-08c3-488a-8386-be7662d5cded')\"\n",
              "            title=\"Convert this dataframe to an interactive table.\"\n",
              "            style=\"display:none;\">\n",
              "\n",
              "  <svg xmlns=\"http://www.w3.org/2000/svg\" height=\"24px\" viewBox=\"0 -960 960 960\">\n",
              "    <path d=\"M120-120v-720h720v720H120Zm60-500h600v-160H180v160Zm220 220h160v-160H400v160Zm0 220h160v-160H400v160ZM180-400h160v-160H180v160Zm440 0h160v-160H620v160ZM180-180h160v-160H180v160Zm440 0h160v-160H620v160Z\"/>\n",
              "  </svg>\n",
              "    </button>\n",
              "\n",
              "  <style>\n",
              "    .colab-df-container {\n",
              "      display:flex;\n",
              "      gap: 12px;\n",
              "    }\n",
              "\n",
              "    .colab-df-convert {\n",
              "      background-color: #E8F0FE;\n",
              "      border: none;\n",
              "      border-radius: 50%;\n",
              "      cursor: pointer;\n",
              "      display: none;\n",
              "      fill: #1967D2;\n",
              "      height: 32px;\n",
              "      padding: 0 0 0 0;\n",
              "      width: 32px;\n",
              "    }\n",
              "\n",
              "    .colab-df-convert:hover {\n",
              "      background-color: #E2EBFA;\n",
              "      box-shadow: 0px 1px 2px rgba(60, 64, 67, 0.3), 0px 1px 3px 1px rgba(60, 64, 67, 0.15);\n",
              "      fill: #174EA6;\n",
              "    }\n",
              "\n",
              "    .colab-df-buttons div {\n",
              "      margin-bottom: 4px;\n",
              "    }\n",
              "\n",
              "    [theme=dark] .colab-df-convert {\n",
              "      background-color: #3B4455;\n",
              "      fill: #D2E3FC;\n",
              "    }\n",
              "\n",
              "    [theme=dark] .colab-df-convert:hover {\n",
              "      background-color: #434B5C;\n",
              "      box-shadow: 0px 1px 3px 1px rgba(0, 0, 0, 0.15);\n",
              "      filter: drop-shadow(0px 1px 2px rgba(0, 0, 0, 0.3));\n",
              "      fill: #FFFFFF;\n",
              "    }\n",
              "  </style>\n",
              "\n",
              "    <script>\n",
              "      const buttonEl =\n",
              "        document.querySelector('#df-df6197d8-08c3-488a-8386-be7662d5cded button.colab-df-convert');\n",
              "      buttonEl.style.display =\n",
              "        google.colab.kernel.accessAllowed ? 'block' : 'none';\n",
              "\n",
              "      async function convertToInteractive(key) {\n",
              "        const element = document.querySelector('#df-df6197d8-08c3-488a-8386-be7662d5cded');\n",
              "        const dataTable =\n",
              "          await google.colab.kernel.invokeFunction('convertToInteractive',\n",
              "                                                    [key], {});\n",
              "        if (!dataTable) return;\n",
              "\n",
              "        const docLinkHtml = 'Like what you see? Visit the ' +\n",
              "          '<a target=\"_blank\" href=https://colab.research.google.com/notebooks/data_table.ipynb>data table notebook</a>'\n",
              "          + ' to learn more about interactive tables.';\n",
              "        element.innerHTML = '';\n",
              "        dataTable['output_type'] = 'display_data';\n",
              "        await google.colab.output.renderOutput(dataTable, element);\n",
              "        const docLink = document.createElement('div');\n",
              "        docLink.innerHTML = docLinkHtml;\n",
              "        element.appendChild(docLink);\n",
              "      }\n",
              "    </script>\n",
              "  </div>\n",
              "\n",
              "\n",
              "<div id=\"df-80bef45f-5ced-475e-b3aa-d34477366486\">\n",
              "  <button class=\"colab-df-quickchart\" onclick=\"quickchart('df-80bef45f-5ced-475e-b3aa-d34477366486')\"\n",
              "            title=\"Suggest charts\"\n",
              "            style=\"display:none;\">\n",
              "\n",
              "<svg xmlns=\"http://www.w3.org/2000/svg\" height=\"24px\"viewBox=\"0 0 24 24\"\n",
              "     width=\"24px\">\n",
              "    <g>\n",
              "        <path d=\"M19 3H5c-1.1 0-2 .9-2 2v14c0 1.1.9 2 2 2h14c1.1 0 2-.9 2-2V5c0-1.1-.9-2-2-2zM9 17H7v-7h2v7zm4 0h-2V7h2v10zm4 0h-2v-4h2v4z\"/>\n",
              "    </g>\n",
              "</svg>\n",
              "  </button>\n",
              "\n",
              "<style>\n",
              "  .colab-df-quickchart {\n",
              "      --bg-color: #E8F0FE;\n",
              "      --fill-color: #1967D2;\n",
              "      --hover-bg-color: #E2EBFA;\n",
              "      --hover-fill-color: #174EA6;\n",
              "      --disabled-fill-color: #AAA;\n",
              "      --disabled-bg-color: #DDD;\n",
              "  }\n",
              "\n",
              "  [theme=dark] .colab-df-quickchart {\n",
              "      --bg-color: #3B4455;\n",
              "      --fill-color: #D2E3FC;\n",
              "      --hover-bg-color: #434B5C;\n",
              "      --hover-fill-color: #FFFFFF;\n",
              "      --disabled-bg-color: #3B4455;\n",
              "      --disabled-fill-color: #666;\n",
              "  }\n",
              "\n",
              "  .colab-df-quickchart {\n",
              "    background-color: var(--bg-color);\n",
              "    border: none;\n",
              "    border-radius: 50%;\n",
              "    cursor: pointer;\n",
              "    display: none;\n",
              "    fill: var(--fill-color);\n",
              "    height: 32px;\n",
              "    padding: 0;\n",
              "    width: 32px;\n",
              "  }\n",
              "\n",
              "  .colab-df-quickchart:hover {\n",
              "    background-color: var(--hover-bg-color);\n",
              "    box-shadow: 0 1px 2px rgba(60, 64, 67, 0.3), 0 1px 3px 1px rgba(60, 64, 67, 0.15);\n",
              "    fill: var(--button-hover-fill-color);\n",
              "  }\n",
              "\n",
              "  .colab-df-quickchart-complete:disabled,\n",
              "  .colab-df-quickchart-complete:disabled:hover {\n",
              "    background-color: var(--disabled-bg-color);\n",
              "    fill: var(--disabled-fill-color);\n",
              "    box-shadow: none;\n",
              "  }\n",
              "\n",
              "  .colab-df-spinner {\n",
              "    border: 2px solid var(--fill-color);\n",
              "    border-color: transparent;\n",
              "    border-bottom-color: var(--fill-color);\n",
              "    animation:\n",
              "      spin 1s steps(1) infinite;\n",
              "  }\n",
              "\n",
              "  @keyframes spin {\n",
              "    0% {\n",
              "      border-color: transparent;\n",
              "      border-bottom-color: var(--fill-color);\n",
              "      border-left-color: var(--fill-color);\n",
              "    }\n",
              "    20% {\n",
              "      border-color: transparent;\n",
              "      border-left-color: var(--fill-color);\n",
              "      border-top-color: var(--fill-color);\n",
              "    }\n",
              "    30% {\n",
              "      border-color: transparent;\n",
              "      border-left-color: var(--fill-color);\n",
              "      border-top-color: var(--fill-color);\n",
              "      border-right-color: var(--fill-color);\n",
              "    }\n",
              "    40% {\n",
              "      border-color: transparent;\n",
              "      border-right-color: var(--fill-color);\n",
              "      border-top-color: var(--fill-color);\n",
              "    }\n",
              "    60% {\n",
              "      border-color: transparent;\n",
              "      border-right-color: var(--fill-color);\n",
              "    }\n",
              "    80% {\n",
              "      border-color: transparent;\n",
              "      border-right-color: var(--fill-color);\n",
              "      border-bottom-color: var(--fill-color);\n",
              "    }\n",
              "    90% {\n",
              "      border-color: transparent;\n",
              "      border-bottom-color: var(--fill-color);\n",
              "    }\n",
              "  }\n",
              "</style>\n",
              "\n",
              "  <script>\n",
              "    async function quickchart(key) {\n",
              "      const quickchartButtonEl =\n",
              "        document.querySelector('#' + key + ' button');\n",
              "      quickchartButtonEl.disabled = true;  // To prevent multiple clicks.\n",
              "      quickchartButtonEl.classList.add('colab-df-spinner');\n",
              "      try {\n",
              "        const charts = await google.colab.kernel.invokeFunction(\n",
              "            'suggestCharts', [key], {});\n",
              "      } catch (error) {\n",
              "        console.error('Error during call to suggestCharts:', error);\n",
              "      }\n",
              "      quickchartButtonEl.classList.remove('colab-df-spinner');\n",
              "      quickchartButtonEl.classList.add('colab-df-quickchart-complete');\n",
              "    }\n",
              "    (() => {\n",
              "      let quickchartButtonEl =\n",
              "        document.querySelector('#df-80bef45f-5ced-475e-b3aa-d34477366486 button');\n",
              "      quickchartButtonEl.style.display =\n",
              "        google.colab.kernel.accessAllowed ? 'block' : 'none';\n",
              "    })();\n",
              "  </script>\n",
              "</div>\n",
              "\n",
              "    </div>\n",
              "  </div>\n"
            ],
            "text/plain": [
              "                                                code  \\\n",
              "0  \"result = 0\\nfor name22 in names:\\n\\tfor age1 ...   \n",
              "1  \"outcome = []\\nfor num24 in list1:\\n\\tresult9....   \n",
              "2  \"resultant = []\\nfor obj8 in objects:\\n\\tfor o...   \n",
              "3  \"result = 0\\nfor city5 in cities:\\n\\tfor popul...   \n",
              "4  \"result22 = []\\nfor entity13 in entities:\\n\\tf...   \n",
              "5  \"outcome = []\\nfor X in xs:\\n\\tif X > 0:\\n\\t\\t...   \n",
              "6  \"result = []\\nfor val7 in data:\\n\\tresult.appe...   \n",
              "7  \"result = []\\nfor val8 in vals:\\n\\tresult.appe...   \n",
              "8                            \"result = len(students)   \n",
              "9  \"result17 = []\\nfor textbook in texts:\\n\\tif '...   \n",
              "\n",
              "                             actions  \n",
              "0                   join(), reduce()  \n",
              "1                  union(), sortBy()  \n",
              "2  join(), filter(), map(), reduce()  \n",
              "3                   join(), reduce()  \n",
              "4   join(), filter(), map(), count()  \n",
              "5          filter(), map(), reduce()  \n",
              "6                              map()  \n",
              "7                              map()  \n",
              "8                            count()  \n",
              "9            filter(), map(), join()  "
            ]
          },
          "execution_count": 79,
          "metadata": {},
          "output_type": "execute_result"
        },
        {
          "data": {
            "text/html": [
              "<h4 class=\"colab-quickchart-section-title\">Categorical distributions</h4>\n",
              "<style>\n",
              "  .colab-quickchart-section-title {\n",
              "      clear: both;\n",
              "  }\n",
              "</style>"
            ],
            "text/plain": [
              "<google.colab._quickchart_helpers.SectionTitle at 0x7b956361ec20>"
            ]
          },
          "metadata": {},
          "output_type": "display_data"
        },
        {
          "data": {
            "text/html": [
              "      <div class=\"colab-quickchart-chart-with-code\" id=\"chart-69f53a06-0245-4b62-9b04-e079e5acb288\">\n",
              "        <img style=\"width: 180px;\" src=\"data:image/png;base64,iVBORw0KGgoAAAANSUhEUgAAAr4AAAGZCAYAAABvxjJmAAAAOXRFWHRTb2Z0d2FyZQBNYXRwbG90\n",
              "bGliIHZlcnNpb24zLjcuMSwgaHR0cHM6Ly9tYXRwbG90bGliLm9yZy/bCgiHAAAACXBIWXMAAA9h\n",
              "AAAPYQGoP6dpAABGcUlEQVR4nO3de1xVdb7/8fcGErwk1jiiRqWpiXLbCWwvqampmJoZ4CVNM/Ny\n",
              "qhkrxxK6aU6jM9moU3ZGJm+nGss0o8br8UZ5S0TdYl4YY0RFRTQVr6DC+v3Bcf3cCrpJiMt6PR+P\n",
              "/Xi01/qu7/p893bHmy/ftbbNMAxDAAAAQCXnUdYFAAAAAL8Ggi8AAAAsgeALAAAASyD4AgAAwBII\n",
              "vgAAALAEgi8AAAAsgeALAAAASyD4AgAAwBIIvgAAALAEgi9wnb/97W9lXQIAACgFBF/gOgcOHCjr\n",
              "EgAAQCkg+AIAAMASCL4AAACwBIIvAAAALIHgCwAAAEsg+AIAAMASCL4AAACwBIIvAAAALIHgCwAA\n",
              "AEsg+AIAAMASbIZhGGVdBFCePBtoU1wEvxMCFcGDc/PKugQAFQg/3QEAAGAJBF8AAABYAsEXAAAA\n",
              "lkDwBQAAgCUQfAEAAGAJBF8AAABYAsEXAAAAlkDwraCGDRumtWvX3nY/06dP15///GdJUkpKih57\n",
              "7LHb7rM4pk2bpszMTPP53Llz5evrK7vdrtDQUIWEhOibb75xq68LFy4oPDxcZ8+elST16dNHGzdu\n",
              "LJW6AQBAxUPwraBmzpypjh073lYfFy9e1JQpU/T73/9ekhQSEiJvb2+tWbOmJEq8qfz8fOXn598Q\n",
              "fCWpY8eOcjqd2rFjh/7xj39o2LBhbvU5ffp0PfHEE7rzzjslSW+88YZiY2NLvHYAAFAxEXzLmM1m\n",
              "0+nTp83ntWvXVnp6uiSpQYMGevvtt9W6dWs1bNhQ7777rtmuQ4cOSkhIkCRlZWUpKipKwcHBCgoK\n",
              "Unx8vNnuZn0sXLhQDz/8sKpXr25ue+qpp1yOL8rFixfVr18/NW/eXKGhoeratau5b/LkyQoMDFRw\n",
              "cLAGDhyo7OxsSdL48eMVHR2tyMhIBQUF6Y9//KOOHDmifv36yW63y+l03nCe06dP66677jLrvfY8\n",
              "eXl5uv/++7V7925JUnx8vAYMGGDut9vtOn78uPbs2XPL8QAAgMrPq6wLwM2dPn1amzZt0okTJ9So\n",
              "USM9++yzuueee1za/P73v1fTpk21aNEiZWVlKSwsTKGhoWrVqtVN+0hMTFTLli1d+mrdurVefPHF\n",
              "W9a1fPlynT592gydJ0+elCQtW7ZMs2fP1qZNm1SrVi2NGDFCsbGx+vvf/y5J2rRpk7Zv3y4/Pz9J\n",
              "0pw5czR//nzZ7XZJktPp1Nq1a2W323XhwgUdPnxY8+fPlyQ9+eSTGjNmjFJTU9W0aVN9++23aty4\n",
              "sZo3b65Dhw4pOztbjRo1umE8q1evVrNmzQodR25urnJzc1225eXfcvgAAKACYsa3nLs6g1m7dm09\n",
              "8MAD2r9//w1tVq1apZEjR0qS6tSpo6ioKK1ateqWfWRkZJgB9Kq6devq559/Vk5Ozk3rCg0N1Z49\n",
              "e/TCCy9o/vz5uuOOO8xa+vXrp1q1akmSnn/+ea1cudI8rnv37jec83pXlzr8+9//1ubNmzVs2DAd\n",
              "OXJEnp6eeuGFF/TRRx9Jkj766CP97ne/K3IsV8eTkZFR5LkmTZokX19fl0fKiZuWBwAAKiiCbxnz\n",
              "9PRUXl6e+fz6wOnj4+PS9sqVK7fs02azudVHtWrVbjhfTk6OPD09VaVKlZue44EHHtDu3bvVrVs3\n",
              "bdiwQUFBQTp16tQta6lRo8Yt679WUFCQ7rvvPm3YsEGSNHz4cC1YsEDJycn66aef1KtXryLHcnU8\n",
              "VatWLbL/uLg4ZWdnuzxCaherRAAAUEEQfMtY48aNtXnzZknSokWLdP78+WL30blzZ3388ceSpOPH\n",
              "j2vRokXq0qXLLY8LCQlRamqqy7Y9e/YoKChIHh4F/zQGDx6sr7/++oZjMzIyZLPZ1KtXL73//vsy\n",
              "DEOHDh1S586d9eWXX+rMmTOSCtbdXrsu93o1a9Y01wAXJiMjQ/v27dODDz4oSbrrrrv0xBNP6Mkn\n",
              "n9TIkSPl6ekpSWratKmysrJ08eLFG8YTGhpaZP/e3t6qWbOmy8OTTwUAAJUSP+LL2NSpU/XSSy+p\n",
              "RYsW2r59u37zm98Uu48PPvhAe/bsUXBwsDp27Kg33njjhrW7hYmJidGKFStcti1fvlwxMTHm8+Tk\n",
              "ZN177703HLtz5049/PDDCg0N1UMPPaRBgwYpJCREjz32mJ599lm1bt1awcHBOnPmjCZNmlRkDaNG\n",
              "jdLw4cNdLm67usbXbrcrMjJSEydOdAmvw4cP1/HjxzV8+HBzm4+Pj7p27epyR4rz589r586d6ty5\n",
              "8y1fCwAAUPnZDMMwyroIlJ0ePXpo/PjxioiI0KVLlxQeHq41a9aodu3aOn78uAYMGOCyRrc8eP/9\n",
              "97Vnzx7NmjXLZXtSUpImTJigxYsXS5JmzJihjIwMlztZuOPZQJviIvidEKgIHpybd+tGAPB/uKuD\n",
              "xV2dLZak/fv3689//rNq1y5Y5Prb3/623IXewMBA2Ww2LV++/IZ9DodDUVFROnv2rO688055eHgo\n",
              "Li6uDKoEAADlETO+wHWY8QUqDmZ8ARQHP90BAABgCQRfAAAAWALBFwAAAJZA8AUAAIAlcFcH4Dp3\n",
              "Rb6iB6dMKesyAABACWPGFwAAAJZA8AUAAIAlEHwBAABgCQRfAAAAWALBFwAAAJZA8AUAAIAlEHwB\n",
              "AABgCQRfAAAAWALBFwAAAJZA8AUAAIAlEHwBAABgCQRfAAAAWALBFwAAAJZA8AUAAIAlEHwBAABg\n",
              "CQRfAAAAWALBFwAAAJZA8AUAAIAlEHwBAABgCQRfAAAAWALBFwAAAJZA8AUAAIAl2AzDMMq6CKA8\n",
              "qREZoVr9Hy3rMgAAqFQynv1zWZfAjC8AAACsgeALAAAASyD4AgAAwBIIvgAAALAEgi8AAAAsgeAL\n",
              "AAAASyD4AgAAwBIIvqg0Lly4oPDwcJ09e1aS1KdPH23cuLGMqwIAAOUFwReVxvTp0/XEE0/ozjvv\n",
              "lCS98cYbio2NLeOqAABAeUHwxa/CZrPpT3/6k1q2bKkGDRooISFBkyZNUnh4uJo0aaLExERJ0pUr\n",
              "VxQZGanw8HAFBgZqwIABOn/+vCQpMTFRQUFBGjx4sIKCghQWFian02meIz4+XgMGDDCf2+12HT9+\n",
              "XHv27Pk1hwoAAMopgi9+NTVq1NDmzZs1a9YsPf3006pXr56Sk5M1ceJEvfrqq5IkT09PzZs3T8nJ\n",
              "yfrxxx/l6+urDz/80Oxj165deuaZZ/Tjjz9q7Nix6t+/vwzD0KFDh5Sdna1GjRq5nLN169ZavXp1\n",
              "kTXl5ubqzJkzLg/l8S3eAABURgRf/Gr69esnSQoPD9f58+fVv39/SZLD4dC+ffskSYZhaOrUqXro\n",
              "oYcUEhKiJUuWuMzqNmjQQI8++qgkqW/fvsrMzNShQ4eUkZEhPz+/G85Zt25dZWRkFFnTpEmT5Ovr\n",
              "6/K4tP9oSQ0ZAACUIwRf/Gp8fHwkFczqXv/8ypUrkqR58+ZpzZo1+u6777Rz506NGTNGOTk5RfZp\n",
              "s9lks9lUrVq1Qtvl5OSoatWqRR4fFxen7Oxsl0eVhvV+8RgBAED5RfBFuXLq1CnVrl1bNWvW1Nmz\n",
              "ZzV37lyX/enp6Vq7dq0kaeHChfLz85O/v7+aNm2qrKwsXbx40aX9nj17FBoaWuT5vL29VbNmTZeH\n",
              "PG0lPi4AAFD2CL4oVwYPHqwLFy6oadOmeuyxx9SuXTuX/YGBgZo7d66Cg4M1adIkff7557LZbPLx\n",
              "8VHXrl21Zs0as+358+e1c+dOde7c+dceBgAAKIe8yroAWINh/P8LxmrUqOHy3N/fX+fOnZMk+fr6\n",
              "atWqVUX24+Xlpf/5n/8pdN/YsWM1YcIE9ejRQ5L06aefasiQIapRo0ZJDAEAAFRwzPii0nA4HIqK\n",
              "ijK/wMLDw0NxcXFlXBUAACgvbMa1U28AVCMyQrX6P1rWZQAAUKlkPPvnsi6BGV8AAABYA8EXAAAA\n",
              "lkDwBQAAgCUQfAEAAGAJBF8AAABYAvfxBa4zIrCdppSDK08BAEDJYsYXAAAAlkDwBQAAgCUQfAEA\n",
              "AGAJBF8AAABYAsEXAAAAlkDwBQAAgCUQfAEAAGAJBF8AAABYAsEXAAAAlkDwBQAAgCUQfAEAAGAJ\n",
              "BF8AAABYAsEXAAAAlkDwBQAAgCUQfAEAAGAJBF8AAABYAsEXAAAAlkDwBQAAgCUQfAEAAGAJBF8A\n",
              "AABYAsEXAAAAlkDwBQAAgCV4lXUBQHlz/t9TdXTh38q6DAAAKpV6MXllXQIzvgAAALAGgi8AAAAs\n",
              "geALAAAASyD4AgAAwBIIvgAAALAEgi8AAAAsgeALAAAASyD4VhB2u11nz54tcv+RI0fUrl07t/sb\n",
              "M2aMvvjiC0nS4sWLNWLEiNuu0R3h4eFKTEwstf4XL16s//qv/5IkHTt2TA6HQ1euXCm18wEAgIqD\n",
              "4FtBOJ1O3XnnnUXur1+/vtatW+dWX4cPH9bSpUvVr18/SVLPnj21detW7du3r9h1lbdQGRcXp7i4\n",
              "OEmSn5+f2rRpo08++aSMqwIAAOUBwbeCsNlsOn36tJKTk9WmTRuFhITI4XBow4YNkqT09HTVqlXL\n",
              "pf3EiRPlcDjUsGFDzZkzx9w3e/ZsRUdHy2azmdv69u2rmTNn3rKOq+cZO3asWrRooenTpyszM1N9\n",
              "+/aVw+FQcHCw3nzzTbP9xo0bZbfbFRQUpGeffdYlKHfo0EEJCQnm85iYGM2dO1eSlJ2drWHDhiko\n",
              "KEihoaEaOnSoJOny5cuKjY2Vw+GQ3W5X3759derUKUnSunXrVKtWLd1///1mn0899ZTi4+OLHE9u\n",
              "bq7OnDnj8sjLv+XLAAAAKiCCbwVy6dIlRUVFady4cUpJSdGUKVMUHR2tc+fOFdre29tbSUlJWrZs\n",
              "mUaNGmWGzsTERLVs2dKlbevWrbV69Wq36sjOzlZgYKC2bduml19+Wc8884xefPFFJSUlafv27UpO\n",
              "TtaCBQt06dIl9evXT++//75+/PFHPfXUU9qxY4db53j55ZdVpUoVpaSkaMeOHfrLX/4iSZo8ebKq\n",
              "V6+upKQkOZ1Ol6Bd2LjCwsKUkpKiM2fOFHqeSZMmydfX1+Wx/Se3SgQAABWMV1kXAPelpqbKw8ND\n",
              "kZGRkqS2bdvKz89PTqdT/v7+N7QfOHCgJCkgIEBeXl7KzMyUv7+/MjIy5Ofn59K2bt26ysjIcKuO\n",
              "O+64Q08//bQk6fz581q9erWOHTtm7j937pxSU1O1d+9eeXl5qXPnzpKkrl276oEHHnDrHIsXL9bm\n",
              "zZvl4VHwu9lvf/tbSVJCQoKys7P11VdfSSr4ZaBBgwaSpIyMDDVu3NilHy8vL9111106cuSIatas\n",
              "ecN54uLiNHr0aJdto/v7ulUjAACoWAi+Fdy1yxWu5+PjY/63p6enOeNbrVo15eTkuLTNyclR1apV\n",
              "3TpntWrVzEBqGIYk6YcffnA5nySlpKTctF4vLy/l5eW51HArhmHoww8/VNeuXQutq7A+bjY2b29v\n",
              "eXt7u2zz5O8gAABUSvyIr0CaNm2q/Px8rVy5UlLB+tnMzEzZ7fZi9RMSEqLU1FSXbXv27FFoaKj5\n",
              "/NFHH1VSUtIt+6pRo4Y6duyoP//5z+a2I0eOKCMjQwEBAbpy5YrWrl0rSVq1apXS0tLMdo0bN9bm\n",
              "zZslSfv379f69evNfb169dL777+v/PyCBbfHjx+XJPXu3VtTp07VhQsXJEkXLlzQrl27ihzXsWPH\n",
              "ZLPZdO+9995yLAAAoHIj+FYg3t7eWrRokcaNG6eQkBC9/PLLWrhwoWrUqFGsfmJiYrRixQqXbcuX\n",
              "L1dMTIwkKS8vTzt27Ch0+URh/vnPf+qnn35SUFCQgoODFRUVpZ9//llVqlTR/Pnz9corryg4OFjz\n",
              "5s1zCdevvfaa1q5dq+DgYMXFxbmsz506dapyc3MVHBwsu92u119/XZI0duxYRUREqGXLlgoJCVGr\n",
              "Vq3kdDolFdydYsOGDS6zyMuXL9eTTz5pzlADAADrshlX/1aNcisrK0v33nuvLl68WCIBLj8/Xw6H\n",
              "QwkJCfL399eJEyfUqVMnJScnq0qVKtqyZYvi4+PdustDefPiiy+qQ4cO6tOnjySpXbt2+sc//qFm\n",
              "zZq53cfInjaNH0JQBgCgJNWLybt1o1LGT/dybsuWLWrVqpXGjx9fYrOWHh4eio+PV3p6uiQpLS1N\n",
              "M2bMUJUqVSRJERERFTL0StKECROUm5srqWCZw/PPP1+s0AsAACovZnyB6zDjCwBAyWPGFwAAAPiV\n",
              "EHwBAABgCQRfAAAAWALBFwAAAJbAN7cB16n+4CuqFzOlrMsAAAAljBlfAAAAWALBFwAAAJZA8AUA\n",
              "AIAlEHwBAABgCQRfAAAAWALBFwAAAJZA8AUAAIAlEHwBAABgCQRfAAAAWALBFwAAAJZA8AUAAIAl\n",
              "EHwBAABgCQRfAAAAWALBFwAAAJZA8AUAAIAlEHwBAABgCQRfAAAAWALBFwAAAJZA8AUAAIAlEHwB\n",
              "AABgCQRfAAAAWALBFwAAAJZgMwzDKOsigPIkpHtNtR50V1mXAcAN8U8dKOsSAFQgzPgCAADAEgi+\n",
              "AAAAsASCLwAAACyB4AsAAABLIPgCAADAEgi+AAAAsASCLwAAACyhVIOv3W7X2bNni9x/5MgRtWvX\n",
              "zu3+xowZoy+++EKStHjxYo0YMcLtY+Pj4xUQECC73a7Dhw+7nNdms+n06dOSpGnTpikzM9PtfgvT\n",
              "p08fbdq0SZI0ffp0TZw48bb6K2k7duxQjx49JEk5OTkKCwtTdnZ2qZ93+vTpGjJkSKn1f+HCBYWH\n",
              "h5v/5vr06aONGzeW2vkAAEDFUqrB1+l06s477yxyf/369bVu3Tq3+jp8+LCWLl2qfv36SZJ69uyp\n",
              "rVu3at++fW4dP23aNM2ZM0dOp1P33HNPkef9pcH3ypUrkqSkpCSdPHlSrVu3liSNGDFCs2bN+lWC\n",
              "pbvi4uIUGxsrSfLx8dGgQYP017/+tdj9XB1zeTF9+nQ98cQT5r+5N954wxwnAABAqQbfqzOpycnJ\n",
              "atOmjUJCQuRwOLRhwwZJUnp6umrVquXSfuLEiXI4HGrYsKHmzJlj7ps9e7aio6Nls9nMbX379tXM\n",
              "mTNvWUdMTIzS0tI0ZMgQxcTE3HDeqyZMmKAjR46oX79+stvtcjqdunz5smJjY+VwOGS329W3b1+d\n",
              "OnVKkjRkyBANHTpU7du3V1BQkKSCmeUBAwaYfVapUkVdu3bVvHnzbllnYmKigoKC9PzzzyskJETB\n",
              "wcFKSUnRkCFDFBwcrJYtW+rw4cOSpJ07d6pt27Zq0aKFmjdvrnfffdfsZ/z48YqOjlanTp0UEBCg\n",
              "xx9/XD///LMk6eDBg9q1a5fLjHf//v318ccfy50v8evQoYNGjRql1q1bq2vXrpKk999/Xw6HQy1a\n",
              "tFC3bt104EDBNymdPXtW/fr1U9OmTdW2bVvt3LnT7Gfu3Lnq3bu3+Xzx4sXq0KGD+XzOnDmy2+0K\n",
              "DQ1VeHi40tPTJUkrVqxQ27ZtFRYWJofDobVr15rHXP/a2+12HT9+XHv27ClyPLm5uTpz5ozLIz+f\n",
              "LzMEAKAyKvU1vpcuXVJUVJTGjRunlJQUTZkyRdHR0Tp37lyh7b29vZWUlKRly5Zp1KhR5qxiYmKi\n",
              "WrZs6dK2devWWr169S1rWLhwoerXr6/58+dr4cKFRbZ7++23zXZOp1N2u12TJ09W9erVlZSUJKfT\n",
              "qeDgYL355pvmMVu3btWSJUu0d+/e265Tkvbu3athw4YpJSVFvXv3VqdOnRQbG6udO3cqPDxc06ZN\n",
              "kyQ1aNBAq1ev1rZt27R161Z99dVX+uGHH8x+1q1bp3nz5mnv3r269957FRcXJ0n67rvvFBER4XLO\n",
              "unXrqmrVqtq1a5dbNf773//W999/rzVr1mjevHlKTU3Vpk2btG3bNg0cOFAvvPCCpIJfJLy9vbV3\n",
              "714tWbJE33//vVv9JyYmasKECVq2bJl27Nih77//XnXq1NF//vMfjR8/XkuXLtXWrVs1b948DRgw\n",
              "QLm5uTp06JCys7PVqFEjl75u9dpPmjRJvr6+Lo/jaZfcqhMAAFQsXqV9gtTUVHl4eCgyMlKS1LZt\n",
              "W/n5+cnpdMrf3/+G9gMHDpQkBQQEyMvLS5mZmfL391dGRob8/Pxc2tatW1cZGRmlWn9CQoKys7P1\n",
              "1VdfSSoI8g0aNDD39+nTx2U5x+3W2bhxY4WFhUmSwsPD1bhxYwUEBEiSHA6Hvv76a0nSxYsX9cIL\n",
              "L8jpdMrDw0OHDh2S0+lUq1atJEk9evRQ3bp1JRUst4iKiiqyvmtrvDpzfTNPP/207rjjDkkFr8+W\n",
              "LVvMmvPy8sx2q1ev1tSpU2Wz2eTr66sBAwYoLS3tlv0vWbJEgwYNUr169SRJ1apVkyQtX75cP/30\n",
              "k9q3b2+29fDw0MGDB3XixImbjqsocXFxGj16tMu2Nn3vuWWNAACg4in14FuYa5crXM/Hx8f8b09P\n",
              "T3PGt1q1asrJyXFpm5OTo6pVq5ZOkf/HMAx9+OGH5p/1r1ejRg2X57db5/XjL+r1eP3111W7dm1t\n",
              "375dXl5eioqKuuG817r6mhdWX3FrvHbMhmEoLi7OrQsNr33fvby8XELyzWq/9lxdunQpdNnIhQsX\n",
              "ihyXr69vkX16e3vL29vbZZuHR9H/PgEAQMVV6ksdmjZtqvz8fK1cuVKStHHjRmVmZsputxern5CQ\n",
              "EKWmprps27Nnj0JDQ83njz76qJKSkm6r3po1a7pciNa7d29NnTpVFy5ckFQQsG62JMCdOgMCAsy1\n",
              "ur/UqVOn5O/vLy8vL6Wmppqv71VLly7VsWPHJEkzZ85U586di6wvLy9PaWlpCg4OllRwkdjVpRG3\n",
              "0rt3b82YMUMnT56UJF2+fFnbt2+XJHXu3Flz5syRYRg6c+aMPv/8c/O4xo0bKyUlRRcvXtSVK1dc\n",
              "wuzjjz+uzz77TEePHpVU8JpfuHBBkZGRWrVqlVJSUsy2V9/vpk2bKisrSxcvXnSp7/rXHgAAWFep\n",
              "B19vb28tWrRI48aNU0hIiF5++WUtXLjwhpnSW4mJidGKFStcti1fvlwxMTGSCsLbjh07Cl0+URyj\n",
              "Ro3S8OHDzYvbxo4dq4iICLVs2VIhISFq1aqVnE7nL64zKytLP//8s+6+++7bqvPNN9/UnDlzFBIS\n",
              "otjYWHXq1Mllf7t27TRgwAAFBATowIED5i3V2rZtq4yMDDOoStL69esVERFh1rR792795je/cauO\n",
              "gQMHasiQIerYsaNCQ0Nlt9u1Zs0aSdJbb72lixcvKiAgQN27d1fbtm3N41q1aqXu3bsrKChIHTp0\n",
              "UJMmTcx97du317hx4xQZGanQ0FA98sgjOn78uBo3bqx58+Zp5MiRCg0NVbNmzcw1zz4+Puratat5\n",
              "bkk6f/68du7caYZ+AABgbTbDnUv5f4GsrCzde++9unjxojw8bj9f5+fny+FwKCEhQf7+/jpx4oQ6\n",
              "deqk5ORkValSRVu2bFF8fLxbd3koTefOnVObNm20adMmVa9eXbt379bIkSPN26ctWLBAqampLhfI\n",
              "lbTx48fr9OnTZii83uTJkyVJr776qqSCuzo899xz6tKli6SCcLxs2bKb3oquPEpKStKECRO0ePFi\n",
              "SdKMGTOUkZHhcscLd4R0r6nWg+4qjRIBlLD4pw6UdQkAKpBiJ9ItW7aYf/b/8ssvNWbMGB05cuSG\n",
              "Nq1atdL48eNLJPRKBRcxxcfHm7e1SktL04wZM1SlShVJUkRERJmHXqlg/evUqVO1f/9+SdKhQ4cU\n",
              "Hx9v7u/Tp0+phl53vPTSS+aMe05Ojh555BEz9EoFM8AVLfRKBRf/RUVFmV9g4eHh4faSDQAAUPkV\n",
              "e8Y3NDRU27Zt03/+8x91795dMTEx2rZt2w1/3gcqKmZ8gYqDGV8AxVHs6VhPT095enpq2bJlev75\n",
              "5zVp0iRlZWWVRm0AAABAiSl28M3NzdWxY8f0r3/9y/ymrWtvSwUAAACUR8UOvq+88oqaNm0qX19f\n",
              "tWjRQmlpabrrLv4sDAAAgPLttu/qkJ+frytXrpgXmQEVHWt8gYqDNb4AiuMXfXPb5s2blZaWZn6L\n",
              "mCQNHjy4xIoCylLngGGa8tSUsi4DAACUsGIH3+eff14rVqyQ3W6Xp6enpIKvoiX4AgAAoDwrdvBd\n",
              "tWqVdu/eLR8fn9KoBwAAACgVxb64rV69evL29i6NWgAAAIBSU+wZ35YtWyomJkb9+vVzmfXt1atX\n",
              "iRYGAAAAlKRiB9/k5GRJ0t///ndzm81mI/gCAACgXCt28F27dm1p1AEAAACUql90O7MFCxZo5cqV\n",
              "kqTIyEhFR0eXaFEAAABASSv2xW0TJkzQpEmT1Lx5cwUGBmrSpEl69913S6M2AAAAoMQUe8Z34cKF\n",
              "+uGHH1StWjVJ0rBhw9S6dWu9+eabJV4cAAAAUFKKPeNrGIYZeiWpevXqus1vPQYAAABKXbFnfB0O\n",
              "hwYNGqThw4dLkmbNmiWHw1HihQEAAAAlqdgzvh988IHq16+v0aNHa/To0apXr54++OCD0qgNAAAA\n",
              "KDHFnvGtXr26/vKXv5RGLQAAAECpcTv4fv7553rqqaeKnN0dNWpUiRUFAAAAlDS3g+/evXslSdu3\n",
              "b79hn81mK7mKAAAAgFLgdvB95513JEmTJ09W7dq1XfadOHGiZKsCAAAASlixL27r2rWrW9sAAACA\n",
              "8sTtGd9Lly4pJydHeXl5Onv2rHnv3uzsbJ0/f77UCgQAAABKgtszvpMmTVKtWrW0c+dO+fr6qlat\n",
              "WqpVq5aCg4P19NNPl2aNAAAAwG1zO/iOGzdO+fn5GjlypPLz883H6dOn9dZbb5VmjQAAAMBtK/Ya\n",
              "36FDh+rs2bPm87Nnzyo5OblEiwIAAABKWrGD78iRI1WtWjXzedWqVfVf//VfJVoUAAAAUNKK/c1t\n",
              "+fn58vT0/P8deHnpypUrJVoUUJbO/0+yMpdPLusyALih7u5Xy7oEABVIsWd8q1Spon379pnP//3v\n",
              "f+uOO+4o0aIAAACAklbsGd9x48apbdu2euyxx2QYhv73f/9Xs2fPLo3aAAAAgBJT7ODbo0cPrV+/\n",
              "XitXrpTNZtO4ceP0wAMPlEZtAAAAQIkpdvDNysrS1KlT5XQ6lZOTo48//liStG3bthIvDgAAACgp\n",
              "xV7j+9xzz+n+++/XiRMn9M4776h+/frq0aNHadQGAAAAlJhiB99Dhw5p7Nix8vb21uOPP65FixZp\n",
              "1apVpVEbAAAAUGJ+0V0dJMnHx0c///yzvLy8dOLEiRIvDAAAAChJxQ6+Dz74oH7++Wc9/fTTatmy\n",
              "pcLDwxUWFlbsE9vtdpdvgLvekSNH1K5dO7f7GzNmjL744gtJ0uLFizVixAi3j42Pj1dAQIDsdrsO\n",
              "Hz7scl6bzabTp09LkqZNm6bMzEy3+y1Mnz59tGnTJknS9OnTNXHixNvqr6Tt2LHDXLqSk5OjsLAw\n",
              "ZWdnl3FVN0pISNAPP/zgsu3ChQsKDw83/1316dNHGzduLIvyAABAOWQzDMP4pQdv2LBBp06dUrdu\n",
              "3eTlVezr5ErM4cOH1aVLF+3atUs2m02SFBYWpi+++EJNmjS55fHNmjXT7Nmz1bp16xv22Ww2nTp1\n",
              "SrVq1VKDBg2UkJAgu91erPquXLkiLy8vJSUlKS4uTqtXr5YkXbp0Sc2aNdO2bdvk6+tbrD5LS/fu\n",
              "3RUXF2eG/2nTpunkyZOaMGFCGVfmasiQIbLb7Xr55ZfNbe+9955yc3P11ltvSZKcTqdGjRql77//\n",
              "vlh9j/xNe73j93hJlguglPAFFgCKo9gzvtd6+OGH1bNnz18Ueq/OpCYnJ6tNmzYKCQmRw+HQhg0b\n",
              "JEnp6emqVauWS/uJEyfK4XCoYcOGmjNnjrlv9uzZio6ONkOvJPXt21czZ868ZR0xMTFKS0vTkCFD\n",
              "FBMTc8N5r5owYYKOHDmifv36yW63y+l06vLly4qNjZXD4ZDdblffvn116tQpSQXBbOjQoWrfvr2C\n",
              "goIkFcwsDxgwwOyzSpUq6tq1q+bNm3fLOhMTExUUFKTnn39eISEhCg4OVkpKioYMGaLg4GC1bNlS\n",
              "hw8fliTt3LlTbdu2VYsWLdS8eXO9++67Zj/jx49XdHS0OnXqpICAAD3++OP6+eefJUkHDx7Url27\n",
              "XGa8+/fvr48//lju/H50+PBhxcTEKDg4WCEhIWYAzcrKUlRUlIKDgxUUFKT4+HjzmAYNGsjpdJrP\n",
              "w8PDlZiYKEnq0KGDxowZo3bt2qlRo0bmV2MvXbpU3377rSZPniy73W6+z9e/vna7XcePH9eePXtu\n",
              "WTsAAKj8biv43q5Lly4pKipK48aNU0pKiqZMmaLo6GidO3eu0Pbe3t5KSkrSsmXLNGrUKPOrkhMT\n",
              "E9WyZUuXtq1btzZnVm9m4cKFql+/vubPn6+FCxcW2e7tt9822zmdTtntdk2ePFnVq1dXUlKSnE6n\n",
              "goOD9eabb5rHbN26VUuWLNHevXtvu05J2rt3r4YNG6aUlBT17t1bnTp1UmxsrHbu3Knw8HBNmzZN\n",
              "UkGYXL16tbZt26atW7fqq6++clkWsG7dOs2bN0979+7Vvffeq7i4OEnSd999p4iICJdz1q1bV1Wr\n",
              "VtWuXbtuWd/TTz+tsLAw7dy5UykpKRo1apQk6fe//72aNm2qnTt3as2aNXr33XdvWKZQlLS0NK1d\n",
              "u1Y//vijVqxYoU2bNql79+7q1auXXn31VTmdTg0bNkyHDh1Sdna2GjVq5HL8rV7f3NxcnTlzxuWR\n",
              "Z+S7VRsAAKhYyjT4pqamysPDQ5GRkZKktm3bys/Pz2UG8FoDBw6UJAUEBMjLy8tcb5uRkSE/Pz+X\n",
              "tnXr1lVGRkbpFa+CdaafffaZ7Ha77Ha7Pv/8c+3fv9/c36dPH915553m89uts3HjxuZ66vDwcDVu\n",
              "3FgBAQGSJIfDYX6V9MWLFzVs2DAFBwerVatWOnDggMtr2qNHD9WtW1eSNGLECPOuHIXV526N586d\n",
              "0/r16/WHP/zB3Pbb3/5WkrRq1SqNHDlSklSnTh1FRUW5fSeQfv36ycvLS1WrVpXdbldaWlqh7X5p\n",
              "7ZMmTZKvr6/Lw3nxkFu1AQCAiqXsFuYW4drlCtfz8fEx/9vT09Oc8a1WrZpycnJc2ubk5Khq1aql\n",
              "U+T/MQxDH374obp27Vro/ho1arg8v906rx9/Ua/H66+/rtq1a2v79u3y8vJSVFTUDee91tXXvLD6\n",
              "ilujO659j728vJSXl+dyrmsVNcbr3az2m62fjouL0+jRo122jW7Q/eYDAAAAFVKZzvg2bdpU+fn5\n",
              "WrlypSRp48aNyszMLPbFYyEhIUpNTXXZtmfPHoWGhprPH330USUlJd1WvTVr1nS5w0Hv3r01depU\n",
              "XbhwQVLBXQVutiTAnToDAgLMtbq/1KlTp+Tv7y8vLy+lpqaar+9VS5cu1bFjxyRJM2fOVOfOnYus\n",
              "Ly8vT2lpaQoODpZUcCeKq0sjrlWjRg21b99ef/3rX81tx48flyR17tzZ/Ia/48ePa9GiRerSpYuk\n",
              "glnszZs3S5KSkpJuOH9Rrn8vmjZtqqysLF28eNGl3fWv7/W8vb1Vs2ZNl4enrUw/FgAAoJSU6U94\n",
              "b29vLVq0SOPGjVNISIhefvllLVy48IaZ0luJiYnRihUrXLYtX75cMTExkgrC244dO+Tv739b9Y4a\n",
              "NUrDhw83L24bO3asIiIi1LJlS4WEhKhVq1ZFLtNwp86srCz9/PPPuvvuu2+rzjfffFNz5sxRSEiI\n",
              "YmNj1alTJ5f97dq104ABAxQQEKADBw6Yt1Rr27atMjIydPLkSbPt+vXrFRERYda0e/du/eY3vyn0\n",
              "vJ9++qmSk5MVGBgou92u6dOnS5I++OAD7dmzR8HBwerYsaPeeOMNc63zu+++q48++kihoaGaPXu2\n",
              "AgMD3RrjoEGD9OWXX+qhhx7SzJkz5ePjo65du2rNmjVmm/Pnz2vnzp1msAcAANZ2W7cz+6WysrJ0\n",
              "77336uLFi/LwuP3snZ+fL4fDoYSEBPn7++vEiRPq1KmTkpOTVaVKFW3ZskXx8fFu3eWhNJ07d05t\n",
              "2rTRpk2bVL16de3evVsjR47UunXrJEkLFixQamqqywVyJW38+PE6ffq0eSHc9SZPnixJevXVglsE\n",
              "9e/fX88995w5Q9u2bVstW7bMZe1yeZGUlKQJEyZo8eLFkqQZM2YoIyPD5a4W7uB2ZkDFwe3MABTH\n",
              "rz7ju2XLFrVq1Urjx48vkdArSR4eHoqPj1d6erqkgjsBzJgxw/yWuYiIiDIPvVLBcoCpU6eaF8Ad\n",
              "OnTI5dZeffr0KdXQ646XXnrJnHHPycnRI488YoZeqWAGuDyGXqngAr+oqCjzCyw8PDwKXZYBAACs\n",
              "qUxmfIHyjBlfoOJgxhdAcXAVDwAAACyB4AsAAABLIPgCAADAEgi+AAAAsIRy981tQFmr/ky46k7h\n",
              "ghkAACobZnwBAABgCQRfAAAAWALBFwAAAJZA8AUAAIAlEHwBAABgCQRfAAAAWALBFwAAAJZA8AUA\n",
              "AIAlEHwBAABgCQRfAAAAWALBFwAAAJZA8AUAAIAlEHwBAABgCQRfAAAAWALBFwAAAJZA8AUAAIAl\n",
              "EHwBAABgCQRfAAAAWALBFwAAAJZA8AUAAIAlEHwBAABgCQRfAAAAWILNMAyjrIsAypPwFr3V6ZFh\n",
              "ZV0GADe8N7VnWZcAoAJhxhcAAACWQPAFAACAJRB8AQAAYAkEXwAAAFgCwRcAAACWQPAFAACAJRB8\n",
              "AQAAYAmWCb7ffPONmjVrJrvdrp07d8put+vs2bOSpAYNGsjpdEqS5s6dq717997WucaMGaMvvvhC\n",
              "krR48WKNGDHitvoraUePHlWrVq2Un58vSWrXrp32799f6uddvHixOnToUGr9G4ahdu3a6cCBA5IK\n",
              "3od58+aV2vkAAEDFYpngO2PGDL399ttyOp0KDg6W0+nUnXfeeUO7Xxp88/PzlZ+fr8OHD2vp0qXq\n",
              "16+fJKlnz57aunWr9u3bd9tjKCl//OMf9eKLL8rDo+Dt/8Mf/qBx48YVu58rV66UdGm3ZcGCBXrw\n",
              "wQd1//33S5Jee+01jR8/Xnl5eWVcGQAAKA8sEXxHjRqldevW6fXXX1ebNm0kSTabTadPn3ZpN3Pm\n",
              "TCUnJ+uVV16R3W7X0qVLJUnvv/++HA6HWrRooW7dupkziuPHj1d0dLQiIyMVFBSko0ePavbs2YqO\n",
              "jpbNZjP77du3r2bOnHnLOtPT01WrVi299dZbatGihZo0aaINGzaY9QQFBenHH3+UJGVmZqpjx44K\n",
              "CwtTYGCgfve735kzuHPnzlWnTp3Uq1cvNW/eXO3bt1d6erokKScnR/Pnz1d0dLR53h49emjZsmXK\n",
              "zs6+ZY1DhgzR0KFD1b59ewUFBUmSPv30U7Vs2VItWrRQ+/bttWPHDknS5cuX9cILL6hJkyZyOBxa\n",
              "u3at2U9iYqLsdrv5/Mcff1SDBg3M50uWLFFERIRCQ0Nlt9u1efNmSdKWLVvUqVMnhYeH66GHHtKC\n",
              "BQvMY+Lj4zVgwADzeZ06ddSoUSP97//+7y3HBQAAKj9LBN8PPvhA4eHhmjp1qjZu3Fhku2HDhpnt\n",
              "nE6nunfvrnnz5ik1NVWbNm3Stm3bNHDgQL3wwgvmMZs2bdInn3yi3bt365577lFiYqJatmzp0m/r\n",
              "1q21evVqt2rNzs5WWFiYtm3bptjYWEVGRqpXr15yOp165pln9M4770iSatWqpX/961/aunWrUlJS\n",
              "lJ6eri+//NLsZ8OGDfrLX/6i3bt3q2fPnuZyiy1btqhhw4aqVq2a2faOO+5QcHCw1q1b51aNW7du\n",
              "1ZIlS7R3715t2LBBn3/+ub7//ntt27ZNf/rTn8zw+Y9//EOpqanatWuX1q9fr23btrnV/7///W89\n",
              "++yz+vTTT7Vjxw5t2bJFAQEBOn36tEaMGKF//vOfSk5O1sqVK/WHP/xBhw8f1uXLl7Vhw4Ziv/a5\n",
              "ubk6c+aMy8P4v18gAABA5eJV1gWUdwkJCdqyZYvCwsIk6YY/m3fv3l1+fn7m84yMDJfnklS3bl1l\n",
              "ZGS4dT4fHx/17t1bkhQeHq4aNWqoY8eOkiSHw6F//vOfkgqWVowdO1br16+XYRjKyspSUFCQ+vfv\n",
              "L0lq06aNmjVrJkkaMWKE3nzzTeXl5RVaX3Fr7NOnj7lM5JtvvtGOHTtcAufJkyd18eJFrV69WoMH\n",
              "D1aVKlUkSUOHDtWsWbNu2f/KlSvVrVs3BQQESCoI5r6+vlq6dKn+85//6LHHHnNpn5qaKg8PD3l6\n",
              "eqpGjRo3jGv37t1FnmvSpEnmLxNX1avb9JY1AgCAiofgewuGYSguLq7IC9SuD1rVqlVTTk6Oy7ac\n",
              "nBxVrVrVrfN5e3ub/+3p6SkfHx+X51fX1U6ZMkVZWVnavHmzfHx8NHr06BvOW5jC6itujdeO2TAM\n",
              "PfPMM5o4ceItj7t2+YeXl5fLLxHu1G4YhgIDAwudtc/OzlZubq4Mw3A5z63GFRcXp9GjR7ts69j+\n",
              "6VvWAgAAKh5LLHUojpo1a7qsde3du7dmzJihkydPSipYt7p9+/Yijw8JCVFqaqrLtj179ig0NNR8\n",
              "/uijjyopKem26jx16pTq1q0rHx8fZWZmuqx1lQqWYFy9SG/mzJnq2LGjPD09C63v+hq//vprDR48\n",
              "2K06evXqpc8++0wHDx6UVDATnZycLEnq3LmzPvvsM12+fFmXLl3SnDlzzOMeeOABHThwQMePH5dU\n",
              "sE74qsjISK1YscKs//Lly8rOzlabNm20f/9+rVq1ymzrdDp16dIl+fr66p577lFaWlqR4yqMt7e3\n",
              "atas6fKwefCxAACgMuIn/HVGjBihiRMnmhe3DRw4UEOGDFHHjh3NC63WrFlT5PExMTFasWKFy7bl\n",
              "y5crJiZGUsFSiR07dsjf3/+26nzppZe0efNmBQYGatCgQercubPL/jZt2mjs2LEKDAzUt99+q/j4\n",
              "eElSw4YN5efnp127dplt09PTlZeXZwbEffv2qWbNmm7V0a5dO7333nt68sknFRoaqsDAQPNWbsOH\n",
              "D1eTJk3UvHlztW3b1uVitvr16+u1116Tw+FQq1atdPfdd5v7GjdurDlz5ujpp59WaGioWrZsqdTU\n",
              "VN11111asmSJJk6cqNDQUDVv3lyxsbHmRX3Xv/aGYWj16tV68skni/HKAgCAyspmGIZR1kVUJvn5\n",
              "+XI4HEpISJC/v79OnDihTp06KTk5WVWqVNGWLVsUHx/v1l0efqm5c+cqISFBCQkJhe5fsGCBEhMT\n",
              "9dFHH0mSYmNj1bhxYw0bNkxSwSz3tGnTXO6yUBEcPHhQMTEx2rx5s2w2m5YvX67PPvtMn332WbH6\n",
              "CW/RW50eGVZKVQIoSe9N7VnWJQCoQFjjW8I8PDwUHx+v9PR0+fv7Ky0tTTNmzDAv8IqIiFBERESZ\n",
              "1tinTx8dO3ZM+fn58vDwUP369TV06FBzf1GBuby77777NHbsWB0+fFj+/v7Kzs7We++9V9ZlAQCA\n",
              "coIZX+A6zPgCFQczvgCKgzW+AAAAsASCLwAAACyB4AsAAABLIPgCAADAErirA3Cd9h0e0HtTuGAG\n",
              "AIDKhhlfAAAAWALBFwAAAJZA8AUAAIAlEHwBAABgCQRfAAAAWALBFwAAAJZA8AUAAIAlEHwBAABg\n",
              "CQRfAAAAWALBFwAAAJZA8AUAAIAlEHwBAABgCQRfAAAAWALBFwAAAJZA8AUAAIAlEHwBAABgCQRf\n",
              "AAAAWALBFwAAAJZA8AUAAIAlEHwBAABgCQRfAAAAWALBFwAAAJZgMwzDKOsigPLk2UCb4iL4nRCo\n",
              "CB6cm1fWJQCoQPjpDgAAAEsg+AIAAMASCL4AAACwBIIvAAAALIHgCwAAAEsg+AIAAMASCL4AAACw\n",
              "BILvL/DNN9+oWbNmstvt2rlzp+x2u86ePStJatCggZxOpyRp7ty52rt3722da8yYMfriiy8kSYsX\n",
              "L9aIESNuq7+SdvToUbVq1Ur5+fmSpHbt2mn//v1uHfv222/rn//85y3bDRs2TGvXrnWrzx07dqhH\n",
              "jx6SpJycHIWFhSk7O9utYwEAQOXGF1j8Ao899pgGDx6sp5566oZ9DRo0UEJCgux2uzp06KCXX35Z\n",
              "vXv3Llb/V0Pk0aNH1aVLF+3atUs2m02SFBYWpi+++EJNmjS57XGUhBdeeEGtW7fWoEGDJEkJCQla\n",
              "tGiRPvnkkzKpp3v37oqLi1O7du0kSdOmTdPJkyc1YcIEt/vgCyyAioMvsABQHPx0L6ZRo0Zp3bp1\n",
              "ev3119WmTRtJks1m0+nTp13azZw5U8nJyXrllVdkt9u1dOlSSdL7778vh8OhFi1aqFu3bjpw4IAk\n",
              "afz48YqOjlZkZKSCgoJ09OhRzZ49W9HR0WbolaS+fftq5syZt6wzPT1dtWrV0ltvvaUWLVqoSZMm\n",
              "2rBhg1lPUFCQfvzxR0lSZmamOnbsqLCwMAUGBup3v/udGb7nzp2rTp06qVevXmrevLnat2+v9PR0\n",
              "SQUzqvPnz1d0dLR53h49emjZsmVuzbIOGTJE06ZNkySdO3dOQ4cOVVBQkIKCgvTOO++Y7Tp06KCE\n",
              "hATzmJEjR+rRRx/Vgw8+qKioKF26dEmSdPDgQe3atcsMvZLUv39/ffzxx+L3OwAAQPAtpg8++EDh\n",
              "4eGaOnWqNm7cWGS7YcOGme2cTqe6d++uefPmKTU1VZs2bdK2bds0cOBAvfDCC+YxmzZt0ieffKLd\n",
              "u3frnnvuUWJiolq2bOnSb+vWrbV69Wq3as3OzlZYWJi2bdum2NhYRUZGqlevXnI6nXrmmWfMcFmr\n",
              "Vi3961//0tatW5WSkqL09HR9+eWXZj8bNmzQX/7yF+3evVs9e/Y0l1ts2bJFDRs2VLVq1cy2d9xx\n",
              "h4KDg7Vu3Tq3arzqj3/8o3Jzc5WSkqLNmzcrISFB8+fPL7St0+nUv/71L+3Zs0fHjh3TV199JUn6\n",
              "7rvvFBER4dK2bt26qlq1qnbt2lVoX7m5uTpz5ozLIy+/WKUDAIAKguD7K0pISNCqVasUFhYmu92u\n",
              "9957TwcPHjT3d+/eXX5+fubzjIwMl+dSQZDLyMhw63w+Pj7mMovw8HDVqFFDHTt2lCQ5HA7t27dP\n",
              "UsHSirFjxyo0NFQPPfSQkpOTzXXKktSmTRs1a9ZMkjRixAglJiYqLy+v0PqKW+NVq1at0vDhw+Xh\n",
              "4aHq1atr8ODBWrlyZaFtn3zySVWrVk2enp5yOBxKS0uTVPjrdat6Jk2aJF9fX5dHyolilQ4AACoI\n",
              "r7IuwEoMw1BcXFyRF6jVqFHD5Xm1atWUk5Pjsi0nJ0dVq1Z163ze3t7mf3t6esrHx8fl+ZUrVyRJ\n",
              "U6ZMUVZWljZv3iwfHx+NHj36hvMWprD6iltjUa5d3nG9osbxS+qJi4vT6NGjXbb9rqXvLykZAACU\n",
              "c8z4lqKaNWu6rHXt3bu3ZsyYoZMnT0qSLl++rO3btxd5fEhIiFJTU1227dmzR6GhoebzRx99VElJ\n",
              "SbdV56lTp1S3bl35+PgoMzNTCxYscNm/adMm8+4UM2fOVMeOHeXp6VlofdfX+PXXX2vw4MG3rKFz\n",
              "586aNWuWDMPQ+fPn9emnn6pr167FGkdh9eTl5SktLU3BwcGFHuPt7a2aNWu6PDz5VAAAUCnxI74U\n",
              "jRgxQhMnTjQvbhs4cKCGDBmijh07KjQ0VHa7XWvWrCny+JiYGK1YscJl2/LlyxUTEyOpINTt2LFD\n",
              "/v7+t1XnSy+9pM2bNyswMFCDBg1S586dXfa3adNGY8eOVWBgoL799lvFx8dLkho2bCg/Pz+X9bPp\n",
              "6enKy8szg+++fftUs2bNIs99dWb3rbfeMtcHt2zZUr169VLfvn2LNY62bdsqIyPD/MVCktavX6+I\n",
              "iAjdfffdxeoLAABUPtzOrBzLz8+Xw+FQQkKC/P39deLECXXq1EnJycmqUqWKtmzZovj4eLfu8vBL\n",
              "zZ07VwkJCeZdFa63YMECJSYm6qOPPpIkxcbGqnHjxho2bJikglnuadOmqUGDBjcc2717dw0cOFAD\n",
              "Bw4ssXonT54sSXr11VclFdzV4bnnnlOXLl3c7oPbmQEVB7czA1Ac/HQvxzw8PBQfH2/ePiwtLU0z\n",
              "ZsxQlSpVJEkRERGlGnrd0adPHzVr1sy8/Vn9+vU1dOhQc39CQkKhobdz5846e/asevXqVaL1vPTS\n",
              "S+Za6ZycHD3yyCPFCr0AAKDyYsYXuA4zvkDFwYwvgOLgpzsAAAAsgeALAAAASyD4AgAAwBIIvgAA\n",
              "ALAEgi8AAAAsga8sBq5zV+QrenDKlLIuAwAAlDBmfAEAAGAJBF8AAABYAsEXAAAAlkDwBQAAgCUQ\n",
              "fAEAAGAJBF8AAABYAsEXAAAAlkDwBQAAgCUQfAEAAGAJBF8AAABYAsEXAAAAlkDwBQAAgCUQfAEA\n",
              "AGAJBF8AAABYAsEXAAAAlkDwBQAAgCUQfAEAAGAJBF8AAABYAsEXAAAAlkDwBQAAgCUQfAEAAGAJ\n",
              "BF8AAABYgs0wDKOsiwDKkxqREarV/9GyLgOAGzKe/XNZlwCgAmHGFwAAAJZA8AUAAIAlEHwBAABg\n",
              "CQRfAAAAWALBFwAAAJZA8AUAAIAlEHwBAABgCQRfVEjTpk1TZmamy7YdO3aoR48ekqScnByFhYUp\n",
              "Ozu7LMoDAADlEMEXFVJhwTcuLk6xsbGSJB8fHw0aNEh//etfy6I8AABQDhF8UaI2bdqktm3bKjQ0\n",
              "VCEhIfrmm2+UnJysNm3aKCQkRA6HQxs2bJAkpaenq1atWuax586dk81mM5/bbDZNnDhRDodDDRs2\n",
              "1Jw5cyRJEyZM0JEjR9SvXz/Z7XY5nU4dPHhQu3btUrt27czj+/fvr48//lg3+3LC3NxcnTlzxuWh\n",
              "PL7MEACAysirrAtA5XHy5En17t1bCxcuVLt27ZSfn68TJ04oPDxcH3/8sSIjI7V+/XpFR0frp59+\n",
              "cqtPb29vJSUlae/evYqIiNCgQYP09ttva/bs2Zo/f77sdrsk6dNPP1VERITLsXXr1lXVqlW1a9cu\n",
              "BQUFFdr/pEmT9M4777hsu+OB+sUfPAAAKPeY8UWJ2bRpk5o2bWrOunp4eOjYsWPy8PBQZGSkJKlt\n",
              "27by8/OT0+l0q8+BAwdKkgICAuTl5XXD8oarMjIy5Ofnd8P2unXrKiMjo8j+4+LilJ2d7fKo0rCe\n",
              "W7UBAICKhRlf/OquLmfw8vJSXl6euT0nJ+eGtj4+PuZ/e3p66sqVK4X2Wa1atUKPz8nJUdWqVYus\n",
              "xdvbW97e3q4bPW2FNwYAABUaM74oMW3atNG+ffu0bt06SVJ+fr78/PyUn5+vlStXSpI2btyozMxM\n",
              "2e121a1bV4ZhaPfu3ZKkTz75xO1z1axZ0+WODSEhIUpNTXVpk5eXp7S0NAUHB9/u0AAAQCVA8EWJ\n",
              "ueuuu/T1118rNjZWISEhatGihTZv3qxFixZp3LhxCgkJ0csvv6yFCxeqRo0a8vLy0ocffqiePXsq\n",
              "IiJCly9fdvtco0aN0vDhw82L29q2bauMjAydPHnSbLN+/XpFRETo7rvvLo3hAgCACsZm3OySd6AC\n",
              "mTx5siTp1VdflVRwV4fnnntOXbp0KVY/NSIjVKv/oyVeH4CSl/Hsn8u6BAAVCDO+qDReeukl1ahR\n",
              "Q1LB2t5HHnmk2KEXAABUXsz4AtdhxheoOJjxBVAczPgCAADAEgi+AAAAsASCLwAAACyB4AsAAABL\n",
              "4JvbgOuMCGynKVwwAwBApcOMLwAAACyB4AsAAABLIPgCAADAEgi+AAAAsASCLwAAACyB4AsAAABL\n",
              "IPgCAADAEgi+AAAAsASCLwAAACyB4AsAAABL4CuLgWvk5uZq2bJlysvLk6enZ1mXU6ry8vKUlJQk\n",
              "h8PBWCsRxlo5MdbKibGWrPvvv18vvfTSTdvYDMMwSuXsQAV05swZ+fr6Kjs7WzVr1izrckoVY62c\n",
              "GGvlxFgrJ8b662OpAwAAACyB4AsAAABLIPgCAADAEgi+wDW8vb01btw4eXt7l3UppY6xVk6MtXJi\n",
              "rJUTY/31cXEbAAAALIEZXwAAAFgCwRcAAACWQPAFAACAJRB8YQn79u1TmzZt9OCDDyoiIkK7du0q\n",
              "tN2sWbPUpEkTNWrUSMOHD9fly5fd2leeuDPWNWvWyOFwqHnz5goMDNRrr72m/Px8SVJ6ero8PT1l\n",
              "t9vNR1pa2q89DLe4M9bExERVrVrVZTwXL14091em93XOnDku46xdu7aioqIkVaz3ddSoUWrQoIFs\n",
              "NpucTmeR7SrD59WdsVaWz6s7Y60sn1d3xloZPq85OTnq3bu3HnzwQYWGhqpLly766aefCm27ePFi\n",
              "BQQEqEmTJoqKitKZM2fc2lfiDMACOnbsaMyZM8cwDMNYsGCBER4efkOb//znP0a9evWMo0ePGvn5\n",
              "+cbjjz9uTJ8+/Zb7yht3xrpt2zYjLS3NMAzDuHjxovHwww+bx+zfv9/w9fX9laq9Pe6Mde3atUZo\n",
              "aGihx1e29/V6gYGBxsKFCw3DqFjv63fffWccOnTIuP/++43t27cX2qayfF7dGWtl+by6M9bK8nl1\n",
              "Z6zXq4if14sXLxpLliwx8vPzDcMwjA8//NB45JFHbmh39uxZo06dOsaePXsMwzCMF1980RgzZswt\n",
              "95UGgi8qvWPHjhl33nmncfnyZcMwDCM/P9/w8/Mz9u3b59LuvffeM0aOHGk+X7JkifHwww/fcl95\n",
              "4u5Yr/fiiy8a48aNMwyj4vwP192x3uwHaWV+X3/44Qfjt7/9rXHp0iXDMCrO+3qtm4WGyvB5vVZx\n",
              "AlJF/Lxe65cG38r8vlaGz6thGMaWLVuM+++//4btX375pREZGWk+37Vrl3HPPffccl9pYKkDKr1D\n",
              "hw6pXr168vLykiTZbDbdd999OnjwoEu7gwcP6v777zefN2jQwGxzs33libtjvVZmZqYWLlyonj17\n",
              "mtvOnz+viIgItWjRQhMmTFBeXl6p115cxRlrWlqaWrRooYiICP33f/+3ub0yv6+zZs3SoEGDdMcd\n",
              "d5jbKsL76q7K8Hn9JSrq57U4Kvrn9ZeoLJ/Xv/3tb3riiSdu2F7Ye3f06FFduXLlpvtKg1ep9Aqg\n",
              "Qjhz5owef/xxvfbaawoPD5ck1atXT4cPH1adOnV08uRJ9evXT3/961/12muvlXG1v0yLFi2UkZEh\n",
              "X19fZWRkqHv37qpdu7b69u1b1qWVmvPnz+uLL77QDz/8YG6rbO+rFfF5rZwqy+d14sSJ+umnn7R6\n",
              "9eqyLuWmmPFFpXfvvfe6/PZoGIYOHjyo++67z6XdfffdpwMHDpjP09PTzTY321eeuDtWSTp79qy6\n",
              "deumJ554QqNHjza3e3t7q06dOpKku+++W0OHDtW6det+nQEUg7tjrVmzpnx9fSVJ/v7+euqpp8zx\n",
              "VMb3VZIWLFigwMBANW/e3NxWUd5Xd1WGz2txVPTPq7sqw+e1uCrD5/X999/XokWLtGzZMlWrVu2G\n",
              "/YW9d1f/inWzfaWB4ItKr06dOmrRooU+++wzSdJXX30lf39/NW7c2KVddHS0vv32W2VmZsowDM2Y\n",
              "MUP9+/e/5b7yxN2xnjt3Tt26dVO3bt305ptvuuzLysoyr5TOzc3VokWL9NBDD/06AygGd8d69OhR\n",
              "8wr4s2fPavHixeZ4Ktv7etWsWbP03HPPuWyrKO+ruyrD59VdleHz6q7K8Hktror+eZ0yZYo+//xz\n",
              "rVy5UrVq1Sq0Tbdu3bRt2zbt3btXkvTf//3f5nt3s32lotRWDwPlyN69e41WrVoZTZo0McLCwoyU\n",
              "lBTDMAzjueeeM7755huz3T/+8Q/jgQceMB544AFj6NCh5oUGt9pXnrgz1nfffdfw8vIyQkNDzce7\n",
              "775rGIZhfPXVV0ZgYKAREhJiNG/e3Pjd735n5OTklNl4bsadsX744YdG8+bNzfGMGzfOvALZMCrX\n",
              "+3q1XY0aNYwzZ864HF+R3tcRI0YY99xzj+Hp6WnUqVPHaNSokWEYlfPz6s5YK8vn1Z2xVpbPq7v/\n",
              "hiv65/XQoUOGJOOBBx4w/206HA7DMAzjrbfeMv7+97+bbb/55hujadOmRqNGjYwnnnjCOH36tFv7\n",
              "SprNMAyj9GI1AAAAUD6w1AEAAACWQPAFAACAJRB8AQAAYAkEXwAAAFgCwRcAAACWQPAFAACAJRB8\n",
              "AQAAYAkEXwAAAFgCwRcAAACWQPAFAACAJRB8AQAAYAn/DxwE7XiGMf3MAAAAAElFTkSuQmCC\n",
              "\">\n",
              "      </div>\n",
              "      <script type=\"text/javascript\">\n",
              "        (() => {\n",
              "          const chartElement = document.getElementById(\"chart-69f53a06-0245-4b62-9b04-e079e5acb288\");\n",
              "          async function getCodeForChartHandler(event) {\n",
              "            const chartCodeResponse =  await google.colab.kernel.invokeFunction(\n",
              "                'getCodeForChart', [\"chart-69f53a06-0245-4b62-9b04-e079e5acb288\"], {});\n",
              "            const responseJson = chartCodeResponse.data['application/json'];\n",
              "            await google.colab.notebook.addCell(responseJson.code, 'code');\n",
              "          }\n",
              "          chartElement.onclick = getCodeForChartHandler;\n",
              "        })();\n",
              "      </script>\n",
              "      <style>\n",
              "        .colab-quickchart-chart-with-code  {\n",
              "            display: block;\n",
              "            float: left;\n",
              "            border: 1px solid transparent;\n",
              "        }\n",
              "\n",
              "        .colab-quickchart-chart-with-code:hover {\n",
              "            cursor: pointer;\n",
              "            border: 1px solid #aaa;\n",
              "        }\n",
              "      </style>"
            ],
            "text/plain": [
              "from matplotlib import pyplot as plt\n",
              "import seaborn as sns\n",
              "_df_0.groupby('actions').size().plot(kind='barh', color=sns.palettes.mpl_palette('Dark2'))\n",
              "plt.gca().spines[['top', 'right',]].set_visible(False)"
            ]
          },
          "metadata": {},
          "output_type": "display_data"
        }
      ],
      "source": [
        "# Create a DataFrame from the deserialized data\n",
        "df = pd.DataFrame(list(zip(code, actions)), columns=['code', 'actions'])\n",
        "df.head(10)"
      ]
    },
    {
      "cell_type": "code",
      "execution_count": null,
      "metadata": {
        "colab": {
          "base_uri": "https://localhost:8080/",
          "height": 430
        },
        "id": "qJ_SI76nno6E",
        "outputId": "3064f7ec-2d73-4a4f-8838-1bdcd32dc4e9"
      },
      "outputs": [
        {
          "data": {
            "image/png": "[encoded data removed]",
            "text/plain": [
              "<Figure size 640x480 with 1 Axes>"
            ]
          },
          "metadata": {},
          "output_type": "display_data"
        }
      ],
      "source": [
        "from matplotlib import pyplot as plt\n",
        "import seaborn as sns\n",
        "_df_0.groupby('actions').size().plot(kind='barh', color=sns.palettes.mpl_palette('Dark2'))\n",
        "plt.gca().spines[['top', 'right',]].set_visible(False)"
      ]
    },
    {
      "cell_type": "code",
      "execution_count": null,
      "metadata": {
        "id": "TRfvGfTIpf8U"
      },
      "outputs": [],
      "source": [
        "unique,count = np.unique(df['actions'],return_counts = True)\n"
      ]
    },
    {
      "cell_type": "code",
      "execution_count": null,
      "metadata": {
        "colab": {
          "base_uri": "https://localhost:8080/"
        },
        "id": "dW8ysyH4XyUS",
        "outputId": "83073732-5e13-4835-e131-a7e55824b0c5"
      },
      "outputs": [
        {
          "data": {
            "text/plain": [
              "109"
            ]
          },
          "execution_count": 82,
          "metadata": {},
          "output_type": "execute_result"
        }
      ],
      "source": [
        "len(set(df['actions']))"
      ]
    },
    {
      "cell_type": "code",
      "execution_count": null,
      "metadata": {
        "id": "_vLDuNbbbeOb"
      },
      "outputs": [],
      "source": [
        "tokenizer = BertTokenizer.from_pretrained('bert-base-uncased')\n",
        "# tokenizer = DistilBertTokenizer.from_pretrained('distilbert-base-uncased')\n",
        "\n",
        "# Tokenize the code\n",
        "input_ids = [tokenizer.encode(c, add_special_tokens=True) for c in df['code']]\n",
        "\n",
        "# Pad sequences to ensure uniform length\n",
        "code_padded = pad_sequences(input_ids, maxlen=256, dtype=\"long\", value=0, truncating=\"post\", padding=\"post\")\n",
        "# Initialize the LabelEncoder\n",
        "label_encoder = LabelEncoder()\n",
        "\n",
        "# Fit the LabelEncoder to the actions\n",
        "label_encoder.fit(df['actions'])\n",
        "\n",
        "# Transform the actions to integers\n",
        "actions_encoded = label_encoder.transform(df['actions'])\n",
        "action_one_hot = to_categorical(actions_encoded, num_classes = len(set(df['actions'])))"
      ]
    },
    {
      "cell_type": "code",
      "execution_count": null,
      "metadata": {
        "id": "I-3wCoZh-x_n"
      },
      "outputs": [],
      "source": [
        "code_train, code_val, actions_train, actions_val = train_test_split(code_padded, action_one_hot, test_size=0.3, random_state=42,shuffle=True)\n",
        "# code_val, code_test, actions_val, actions_test = train_test_split(code_test, actions_test, test_size=0.5, random_state=42,shuffle=True)"
      ]
    },
    {
      "cell_type": "code",
      "execution_count": null,
      "metadata": {
        "colab": {
          "base_uri": "https://localhost:8080/"
        },
        "id": "IcCDmqF3Af4-",
        "outputId": "9f881557-21ba-4493-fe2f-8bed592b6339"
      },
      "outputs": [
        {
          "name": "stdout",
          "output_type": "stream",
          "text": [
            "Training code size: 7000\n",
            "Validation code size: 3000\n"
          ]
        }
      ],
      "source": [
        "print(f\"Training code size: {len(code_train)}\")\n",
        "print(f\"Validation code size: {len(code_val)}\")\n",
        "# print(f\"Test code size: {len(actions_test)}\")"
      ]
    },
    {
      "cell_type": "code",
      "execution_count": null,
      "metadata": {
        "id": "8gkR4_Dn5mrV"
      },
      "outputs": [],
      "source": [
        "predicted_label = label_encoder.inverse_transform([actions_encoded[200]])\n",
        "# Get the integer-encoded label from the one-hot encoded label\n",
        "integer_encoded_label = np.argmax(action_one_hot[200])\n",
        "# Decode the integer-encoded label to the original class label\n",
        "predicted_label_onehot = label_encoder.inverse_transform([integer_encoded_label])"
      ]
    },
    {
      "cell_type": "code",
      "execution_count": null,
      "metadata": {
        "colab": {
          "base_uri": "https://localhost:8080/"
        },
        "id": "dE4hVPvz72zO",
        "outputId": "f80af048-fa19-494e-f75a-e9c226679345"
      },
      "outputs": [
        {
          "name": "stdout",
          "output_type": "stream",
          "text": [
            "The original data sample 200 is: ['\"event = []\\\\nfor entity8 in entities:\\\\n\\\\tfor entity14 in entities1:\\\\n\\\\t\\\\tif entity8.isActive and entity14.isActive:\\\\n\\\\t\\\\t\\\\tresult.append(entity8.property)\\\\nresult = len(event)', 'join(), filter(), map(), count()']\n",
            "The data after splitting into code and sample is: ('\"event = []\\\\nfor entity8 in entities:\\\\n\\\\tfor entity14 in entities1:\\\\n\\\\t\\\\tif entity8.isActive and entity14.isActive:\\\\n\\\\t\\\\t\\\\tresult.append(entity8.property)\\\\nresult = len(event)', 'join(), filter(), map(), count()')\n",
            "The code sample after decoding the tokenizer is [CLS] \" event = [ ] \\ nfor entity8 in entities : \\ n \\ tfor entity14 in entities1 : \\ n \\ t \\ tif entity8. isactive and entity14. isactive : \\ n \\ t \\ t \\ tresult. append ( entity8. property ) \\ nresult = len ( event ) [SEP] [PAD] [PAD] [PAD] [PAD] [PAD] [PAD] [PAD] [PAD] [PAD] [PAD] [PAD] [PAD] [PAD] [PAD] [PAD] [PAD] [PAD] [PAD] [PAD] [PAD] [PAD] [PAD] [PAD] [PAD] [PAD] [PAD] [PAD] [PAD] [PAD] [PAD] [PAD] [PAD] [PAD] [PAD] [PAD] [PAD] [PAD] [PAD] [PAD] [PAD] [PAD] [PAD] [PAD] [PAD] [PAD] [PAD] [PAD] [PAD] [PAD] [PAD] [PAD] [PAD] [PAD] [PAD] [PAD] [PAD] [PAD] [PAD] [PAD] [PAD] [PAD] [PAD] [PAD] [PAD] [PAD] [PAD] [PAD] [PAD] [PAD] [PAD] [PAD] [PAD] [PAD] [PAD] [PAD] [PAD] [PAD] [PAD] [PAD] [PAD] [PAD] [PAD] [PAD] [PAD] [PAD] [PAD] [PAD] [PAD] [PAD] [PAD] [PAD] [PAD] [PAD] [PAD] [PAD] [PAD] [PAD] [PAD] [PAD] [PAD] [PAD] [PAD] [PAD] [PAD] [PAD] [PAD] [PAD] [PAD] [PAD] [PAD] [PAD] [PAD] [PAD] [PAD] [PAD] [PAD] [PAD] [PAD] [PAD] [PAD] [PAD] [PAD] [PAD] [PAD] [PAD] [PAD] [PAD] [PAD] [PAD] [PAD] [PAD] [PAD] [PAD] [PAD] [PAD] [PAD] [PAD] [PAD] [PAD] [PAD] [PAD] [PAD] [PAD] [PAD] [PAD] [PAD] [PAD] [PAD] [PAD] [PAD] [PAD] [PAD] [PAD] [PAD] [PAD] [PAD] [PAD] [PAD] [PAD] [PAD] [PAD] [PAD] [PAD] [PAD] [PAD] [PAD] [PAD] [PAD] [PAD] [PAD] [PAD] [PAD] [PAD] [PAD] [PAD] [PAD] [PAD] [PAD] [PAD] [PAD] [PAD] [PAD] [PAD] [PAD]\n",
            "The label after decoding the label encoding is: ['join(), filter(), map(), count()']\n",
            "The label after decoding the label one hot encoding is: ['join(), filter(), map(), count()']\n"
          ]
        }
      ],
      "source": [
        "# Checking if the encoding is right. Check for sample number 200\n",
        "print(f\"The original data sample 200 is: {data[200]}\")\n",
        "print(f\"The data after splitting into code and sample is: {code[200],actions[200]}\")\n",
        "print(f\"The code sample after decoding the tokenizer is {tokenizer.decode(code_padded[200])}\")\n",
        "print(f\"The label after decoding the label encoding is: {predicted_label_onehot}\")\n",
        "print(f\"The label after decoding the label one hot encoding is: {predicted_label_onehot}\")\n"
      ]
    },
    {
      "cell_type": "code",
      "execution_count": null,
      "metadata": {
        "id": "32ofP-iI76fO"
      },
      "outputs": [],
      "source": [
        "assert predicted_label_onehot == actions[200]"
      ]
    },
    {
      "cell_type": "code",
      "execution_count": null,
      "metadata": {
        "colab": {
          "base_uri": "https://localhost:8080/"
        },
        "id": "VCATD0ZJ8KbN",
        "outputId": "99349d31-011b-446e-d7bb-f0d047bc5e76"
      },
      "outputs": [
        {
          "name": "stdout",
          "output_type": "stream",
          "text": [
            "The current unique class is: 109\n"
          ]
        }
      ],
      "source": [
        "print(f\"The current unique class is: {len(set(df['actions']))}\")\n",
        "assert len(set(df['actions'])) == len(set(actions_encoded))"
      ]
    },
    {
      "cell_type": "code",
      "execution_count": null,
      "metadata": {
        "colab": {
          "base_uri": "https://localhost:8080/"
        },
        "id": "9_lyS1a-8GpM",
        "outputId": "1deeab63-8194-40e3-9af6-0a365b5a511c"
      },
      "outputs": [
        {
          "name": "stderr",
          "output_type": "stream",
          "text": [
            "All PyTorch model weights were used when initializing TFBertForSequenceClassification.\n",
            "\n",
            "Some weights or buffers of the TF 2.0 model TFBertForSequenceClassification were not initialized from the PyTorch model and are newly initialized: ['classifier.weight', 'classifier.bias']\n",
            "You should probably TRAIN this model on a down-stream task to be able to use it for predictions and inference.\n"
          ]
        }
      ],
      "source": [
        "# from keras.src.metrics.confusion_metrics import TruePositives\n",
        "# Define the BERT model\n",
        "model = TFBertForSequenceClassification.from_pretrained('bert-base-uncased', num_labels = len(set(df['actions'])))\n",
        "# model = DistilBertForSequenceClassification.from_pretrained('distilbert-base-uncased', num_labels=len(mlb.classes_))\n",
        "\n",
        "# Compile the model\n",
        "optimizer = tf.keras.optimizers.Adam(learning_rate=3e-5)\n",
        "loss = tf.keras.losses.CategoricalCrossentropy(from_logits=True)\n",
        "metric_accuracy = tf.keras.metrics.CategoricalAccuracy(name = 'Categorical_accuracy')\n",
        "# metric_f1 = tf.keras.metrics.F1Score(name = 'f1_score')\n",
        "model.compile(optimizer=optimizer, loss=loss, metrics=[metric_accuracy])\n",
        "# Train the model\n"
      ]
    },
    {
      "cell_type": "code",
      "execution_count": null,
      "metadata": {
        "id": "cpyPuriZlVpT"
      },
      "outputs": [],
      "source": [
        "# import tensorflow as tf\n",
        "\n",
        "class MetricsLogger(tf.keras.callbacks.Callback):\n",
        "    def __init__(self):\n",
        "        # Initialize lists to store metrics\n",
        "        self.train_loss = []\n",
        "        self.train_accuracy = []\n",
        "        self.train_f1 = []\n",
        "        self.val_loss = []\n",
        "        self.val_accuracy = []\n",
        "        self.val_f1 = []\n",
        "\n",
        "    def on_batch_end(self, batch, logs=None):\n",
        "        # Append training metrics after each batch\n",
        "        self.train_loss.append(logs['loss'])\n",
        "        self.train_accuracy.append(logs['Categorical_accuracy'])\n",
        "        # self.train_f1.append(logs['f1_score'])\n",
        "\n",
        "    def on_epoch_end(self, epoch, logs=None):\n",
        "        # Append validation metrics after each epoch\n",
        "        self.val_loss.append(logs['val_loss'])\n",
        "        self.val_accuracy.append(logs['val_Categorical_accuracy'])\n",
        "        # self.val_f1.append(logs['val_f1_score'])\n",
        "# Instantiate the custom callback\n",
        "metrics_logger = MetricsLogger()"
      ]
    },
    {
      "cell_type": "code",
      "execution_count": null,
      "metadata": {
        "colab": {
          "base_uri": "https://localhost:8080/"
        },
        "id": "xszBAEylTj5p",
        "outputId": "0b632640-ba13-4629-f834-ad8b576c6ea6"
      },
      "outputs": [
        {
          "name": "stderr",
          "output_type": "stream",
          "text": [
            "/usr/local/lib/python3.10/dist-packages/transformers/generation/tf_utils.py:465: UserWarning: `seed_generator` is deprecated and will be removed in a future version.\n",
            "  warnings.warn(\"`seed_generator` is deprecated and will be removed in a future version.\", UserWarning)\n"
          ]
        }
      ],
      "source": []
    },
    {
      "cell_type": "code",
      "execution_count": null,
      "metadata": {
        "colab": {
          "base_uri": "https://localhost:8080/"
        },
        "id": "Q4DYRU81g32L",
        "outputId": "6d650416-9a45-40ce-b36a-ea983e6c3b32"
      },
      "outputs": [
        {
          "name": "stdout",
          "output_type": "stream",
          "text": [
            "Epoch 1/5\n",
            "110/110 [==============================] - 94s 852ms/step - loss: 0.1430 - Categorical_accuracy: 0.9916 - val_loss: 0.1239 - val_Categorical_accuracy: 0.9910\n",
            "Epoch 2/5\n",
            "110/110 [==============================] - 94s 851ms/step - loss: 0.1167 - Categorical_accuracy: 0.9937 - val_loss: 0.0998 - val_Categorical_accuracy: 0.9930\n",
            "Epoch 3/5\n",
            "110/110 [==============================] - 94s 851ms/step - loss: 0.0964 - Categorical_accuracy: 0.9947 - val_loss: 0.1680 - val_Categorical_accuracy: 0.9777\n",
            "Epoch 4/5\n",
            "110/110 [==============================] - 93s 851ms/step - loss: 0.0930 - Categorical_accuracy: 0.9934 - val_loss: 0.0715 - val_Categorical_accuracy: 0.9963\n",
            "Epoch 5/5\n",
            "110/110 [==============================] - 93s 851ms/step - loss: 0.0662 - Categorical_accuracy: 0.9977 - val_loss: 0.0608 - val_Categorical_accuracy: 0.9947\n"
          ]
        }
      ],
      "source": [
        "\n",
        "# Train the model\n",
        "\n",
        "\n",
        "# Train the model with the custom callback\n",
        "model.fit(code_train, actions_train, epochs= 5, batch_size = 64, validation_data=(code_val, actions_val), callbacks=[metrics_logger])\n",
        "\n",
        "#save the TFBERT model\n"
      ]
    },
    {
      "cell_type": "code",
      "execution_count": null,
      "metadata": {
        "id": "5CbJESAIIxoi"
      },
      "outputs": [],
      "source": [
        "# # Train the model\n",
        "# # Instantiate the custom callback\n",
        "# metrics_logger = MetricsLogger()\n",
        "\n",
        "# # Train the model with the custom callback\n",
        "# model.fit(code_train, actions_train, epochs= 5, batch_size = 32, validation_data=(code_val, actions_val), callbacks=[metrics_logger])\n",
        "\n",
        "# # model.fit(code_train, actions_train, epochs=2, batch_size = 64, validation_data=(code_val, actions_val))\n"
      ]
    },
    {
      "cell_type": "markdown",
      "metadata": {
        "id": "on7PVB-RoatZ"
      },
      "source": [
        "# Temp start"
      ]
    },
    {
      "cell_type": "code",
      "execution_count": null,
      "metadata": {
        "colab": {
          "base_uri": "https://localhost:8080/",
          "height": 707
        },
        "id": "0caxOmL1oh2k",
        "outputId": "52143c6c-450b-41bd-a328-c5c52e2b1c27"
      },
      "outputs": [
        {
          "data": {
            "image/png": "[encoded data removed]",
            "text/plain": [
              "<Figure size 1400x700 with 2 Axes>"
            ]
          },
          "metadata": {},
          "output_type": "display_data"
        }
      ],
      "source": [
        "import matplotlib.pyplot as plt\n",
        "import numpy as np\n",
        "\n",
        "# Calculate the number of batches per epoch\n",
        "batches_per_epoch = len(metrics_logger.train_loss) // len(metrics_logger.val_loss)\n",
        "\n",
        "# Repeat the validation metrics for each batch within an epoch\n",
        "val_accuracy_repeated = np.repeat(metrics_logger.val_accuracy, batches_per_epoch)\n",
        "val_loss_repeated = np.repeat(metrics_logger.val_loss, batches_per_epoch)\n",
        "\n",
        "# Create subplots: 1 row, 2 columns\n",
        "fig, axes = plt.subplots(1, 2, figsize=(14, 7))\n",
        "\n",
        "# Plot Training & Validation Accuracy\n",
        "axes[0].plot(metrics_logger.train_accuracy, '-', label=\"Training Accuracy\")\n",
        "axes[0].plot(val_accuracy_repeated, 'g-', label=\"Validation Accuracy\")\n",
        "axes[0].set_title(\"Training & Validation Accuracy\")\n",
        "axes[0].set_xlabel(\"Batch\")\n",
        "axes[0].set_ylabel(\"Accuracy\")\n",
        "axes[0].legend()\n",
        "\n",
        "# Plot Training & Validation Loss\n",
        "axes[1].plot(metrics_logger.train_loss, 'b-', label=\"Training Loss\")\n",
        "axes[1].plot(val_loss_repeated, 'g-', label=\"Validation Loss\")\n",
        "axes[1].set_title(\"Training & Validation Loss\")\n",
        "axes[1].set_xlabel(\"Batch\")\n",
        "axes[1].set_ylabel(\"Loss\")\n",
        "axes[1].legend()\n",
        "plt.tight_layout()\n",
        "plt.savefig(\"/content/drive/MyDrive/Bikram/acc_loss_figures_10000_31_01_24.png\",dpi = 400)\n",
        "plt.show()\n"
      ]
    },
    {
      "cell_type": "code",
      "execution_count": null,
      "metadata": {
        "colab": {
          "base_uri": "https://localhost:8080/"
        },
        "id": "ZXIBQmFNw_3N",
        "outputId": "047ffc73-43c7-4ede-9886-4a65830bc483"
      },
      "outputs": [
        {
          "name": "stdout",
          "output_type": "stream",
          "text": [
            "94/94 [==============================] - 13s 139ms/step - loss: 0.0608 - Categorical_accuracy: 0.9947\n"
          ]
        },
        {
          "data": {
            "text/plain": [
              "[0.06080060452222824, 0.9946666955947876]"
            ]
          },
          "execution_count": 85,
          "metadata": {},
          "output_type": "execute_result"
        }
      ],
      "source": [
        "# Evaluate the model on the test set\n",
        "model.evaluate(code_val, actions_val)"
      ]
    },
    {
      "cell_type": "code",
      "execution_count": null,
      "metadata": {
        "colab": {
          "base_uri": "https://localhost:8080/"
        },
        "id": "ebPOLxl6k47m",
        "outputId": "59245618-f1b5-4eb7-efdf-22953277f674"
      },
      "outputs": [
        {
          "data": {
            "text/plain": [
              "100"
            ]
          },
          "execution_count": 86,
          "metadata": {},
          "output_type": "execute_result"
        }
      ],
      "source": [
        "test_data_url = \"/content/drive/MyDrive/Bikram/test.csv\"\n",
        "testdata = []\n",
        "with open(test_data_url, 'r') as csvfile:\n",
        "    for line in csvfile:\n",
        "        if len(line) > 5:\n",
        "            a, b = line.split('\",', 1)\n",
        "            a, b = a[2:], b[2:-2]\n",
        "            bs = re.findall(r\"'(.*?)'\", b, re.DOTALL)\n",
        "            bs = \", \".join(bs)\n",
        "            testdata.append([a,bs])\n",
        "# data = data[:10000]\n",
        "len(testdata)\n",
        "# data = data[:100000]"
      ]
    },
    {
      "cell_type": "code",
      "execution_count": null,
      "metadata": {
        "id": "FnxqEn9Xlc8q"
      },
      "outputs": [],
      "source": [
        "# Separate code from actions\n",
        "code = [item[0] for item in testdata]\n",
        "actions = [item[1] for item in testdata]\n",
        "df = pd.DataFrame(list(zip(code, actions)), columns=['code', 'actions'])\n",
        "\n",
        "# tokenizer = DistilBertTokenizer.from_pretrained('distilbert-base-uncased')\n",
        "\n",
        "# Tokenize the code\n",
        "input_ids = [tokenizer.encode(c, add_special_tokens=True) for c in df['code']]\n",
        "\n",
        "# Pad sequences to ensure uniform length\n",
        "code_test = pad_sequences(input_ids, maxlen=256, dtype=\"long\", value=0, truncating=\"post\", padding=\"post\")\n",
        "\n",
        "\n",
        "# # Transform the actions to integers\n",
        "# actions_encoded = label_encoder.transform(df['actions'])\n",
        "# actions_test = to_categorical(actions_encoded, num_classes = len(set(df['actions'])))\n",
        "\n"
      ]
    },
    {
      "cell_type": "code",
      "execution_count": null,
      "metadata": {
        "colab": {
          "base_uri": "https://localhost:8080/"
        },
        "id": "QMVLlm2KmthL",
        "outputId": "3aef02a5-c317-43d8-f2a2-0e83dda5d768"
      },
      "outputs": [
        {
          "name": "stdout",
          "output_type": "stream",
          "text": [
            "1/1 [==============================] - 0s 88ms/step\n",
            "Sample 1\n",
            "Code:  esult = 0 \n",
            "\tfor city in cities : \n",
            "\t \tfor population in populations : \n",
            "\t \t \tif city! = population : \n",
            "\t \t \t \tresult + = len ( city ) + population \n",
            "\tresult = result                                                                                                                                                                                                        \n",
            "Real label: filter(), join(), reduce()\n",
            "Predicted label: ['filter(), join(), reduce()']\n",
            "\n",
            "--------------------------------------------------\n",
            "Sample 2\n",
            "Code:  esult = [ ] \n",
            "\tfor item in items : \n",
            "\t \tif item. isactive : \n",
            "\t \t \tresult. append ( item. property ) \n",
            "\tresult = sum ( result )                                                                                                                                                                                                                 \n",
            "Real label: filter(), map(), sum()\n",
            "Predicted label: ['filter(), map(), sum()']\n",
            "\n",
            "--------------------------------------------------\n",
            "Sample 3\n",
            "Code:  esult = [ ] \n",
            "\tfor a in as : \n",
            "\t \tfor b in bs : \n",
            "\t \t \tif a % 2 = = b : \n",
            "\t \t \t \tresult. append ( a * 2 ) \n",
            "\tresult = sum ( result )                                                                                                                                                                                                  \n",
            "Real label: join(), filter(), map(), sum()\n",
            "Predicted label: ['join(), filter(), map(), sum()']\n",
            "\n",
            "--------------------------------------------------\n",
            "Sample 4\n",
            "Code:  ount = 0 \n",
            "\tfor list in lists : \n",
            "\t \tfor str in list : \n",
            "\t \t \tcount + = 1                                                                                                                                                                                                                                \n",
            "Real label: flatMap(), count()\n",
            "Predicted label: ['flatMap(), count()']\n",
            "\n",
            "--------------------------------------------------\n",
            "Sample 5\n",
            "Code:  esult = 0 \n",
            "\tfor val in data : \n",
            "\t \tresult + = val * 5                                                                                                                                                                                                                                          \n",
            "Real label: map(), reduce()\n",
            "Predicted label: ['map(), reduce()']\n",
            "\n",
            "--------------------------------------------------\n",
            "Sample 6\n",
            "Code:  ount = 0 \n",
            "\tfor num in numbers : \n",
            "\t \tcount + = 1                                                                                                                                                                                                                                           \n",
            "Real label: count()\n",
            "Predicted label: ['count()']\n",
            "\n",
            "--------------------------------------------------\n",
            "Sample 7\n",
            "Code:  esult = 0 \n",
            "\tfor entity in entities : \n",
            "\t \tresult = func ( result, entity )                                                                                                                                                                                                                                       \n",
            "Real label: reduce()\n",
            "Predicted label: ['map()']\n",
            "\n",
            "--------------------------------------------------\n",
            "Sample 8\n",
            "Code:  esult = [ ] \n",
            "\tfor id in ids : \n",
            "\t \tfor data in datas : \n",
            "\t \t \tresult. append ( ( id, data. lower ( ) ) ) \n",
            "\tresult = sum ( [ len ( str ( item ) ) for item in result ] )                                                                                                                                                                                             \n",
            "Real label: map(), join(), sum()\n",
            "Predicted label: ['map(), join(), sum()']\n",
            "\n",
            "--------------------------------------------------\n",
            "Sample 9\n",
            "Code:  um _ val = 0 \n",
            "\tfor item in items : \n",
            "\t \tsum _ val + = item. value                                                                                                                                                                                                                                       \n",
            "Real label: reduce()\n",
            "Predicted label: ['reduce()']\n",
            "\n",
            "--------------------------------------------------\n",
            "Sample 10\n",
            "Code:  esult = sorted ( words )                                                                                                                                                                                                                                                        \n",
            "Real label: sortBy()\n",
            "Predicted label: ['sortBy()']\n",
            "\n",
            "--------------------------------------------------\n"
          ]
        }
      ],
      "source": [
        "\n",
        "# Let's assume that you have some test data in variables code_test and actions_test\n",
        "\n",
        "# Number of samples to display\n",
        "num_samples = 10\n",
        "\n",
        "# Select a subset of the test data\n",
        "code_samples = code_test[:num_samples]\n",
        "\n",
        "# Make predictions using the model\n",
        "logits = model.predict(code_samples)\n",
        "\n",
        "# Extract the logits from the TFSequenceClassifierOutput object\n",
        "logits_values = logits.logits\n",
        "\n",
        "# Convert logits to probabilities\n",
        "probs = softmax(logits_values)\n",
        "\n",
        "# Find the class with the maximum probability\n",
        "predicted_classes = np.argmax(probs, axis=1)\n",
        "\n",
        "# Decode the predicted class indices back to labels\n",
        "predicted_labels = label_encoder.inverse_transform(predicted_classes)\n",
        "\n",
        "# Decode the real labels from integer to original\n",
        "\n",
        "# Print the real and predicted labels\n",
        "for i in range(num_samples):\n",
        "    print(f\"Sample {i+1}\")\n",
        "    code_snap = code_samples[i]\n",
        "    decode_code_snap = tokenizer.decode(code_snap)\n",
        "    # replace [\"SEP\"], [\"PAD\"] and [\"CLS\"] tokens with empty string\n",
        "    decode_code_snap = decode_code_snap.replace(\"[SEP]\", \"\").replace(\"[PAD]\", \"\").replace(\"[CLS]\", \"\")\n",
        "    decode_code_snap = decode_code_snap.replace(\"\\ n\", \"\\n\\t\")\n",
        "    decode_code_snap = decode_code_snap.replace(\"\\ t\", \"\\t\")\n",
        "    print(f\"Code: {decode_code_snap}\")\n",
        "    print(f\"Real label: {df['actions'][i]}\")\n",
        "    print(f\"Predicted label: {[predicted_labels[i]]}\\n\")\n",
        "    print(\"--------------------------------------------------\")\n",
        "    # break"
      ]
    }
  ],
  "metadata": {
    "accelerator": "GPU",
    "colab": {
      "gpuType": "A100",
      "machine_shape": "hm",
      "provenance": []
    },
    "kernelspec": {
      "display_name": "Python 3",
      "name": "python3"
    },
    "language_info": {
      "codemirror_mode": {
        "name": "ipython",
        "version": 3
      },
      "file_extension": ".py",
      "mimetype": "text/x-python",
      "name": "python",
      "nbconvert_exporter": "python",
      "pygments_lexer": "ipython3",
      "version": "3.10.13"
    },
    "orig_nbformat": 4
  },
  "nbformat": 4,
  "nbformat_minor": 0
}
